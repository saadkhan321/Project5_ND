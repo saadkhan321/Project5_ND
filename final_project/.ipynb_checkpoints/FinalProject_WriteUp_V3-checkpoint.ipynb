{
 "metadata": {
  "name": "",
  "signature": "sha256:092ef2ed5d0327ac7005aa08dc70fad8b9611f0a6e236fa1e627a9667a32b5fc"
 },
 "nbformat": 3,
 "nbformat_minor": 0,
 "worksheets": [
  {
   "cells": [
    {
     "cell_type": "heading",
     "level": 1,
     "metadata": {
      "slideshow": {
       "slide_type": "slide"
      }
     },
     "source": [
      "Introduction to Machine Learning"
     ]
    },
    {
     "cell_type": "heading",
     "level": 3,
     "metadata": {
      "slideshow": {
       "slide_type": "slide"
      }
     },
     "source": [
      "by Saad Khan 05/25/2015"
     ]
    },
    {
     "cell_type": "heading",
     "level": 2,
     "metadata": {},
     "source": [
      "Introduction"
     ]
    },
    {
     "cell_type": "markdown",
     "metadata": {},
     "source": [
      "Enron Corporation was an American energy, commodities, and services company based in Houston, Texas. Before its bankruptcy on December 2, 2001, Enron employed approximately 20,000 staff and was one of the world's major electricity, natural gas, communications, and pulp and paper companies, with claimed revenues of nearly $111 billion during 2000. Fortune named Enron \"America's Most Innovative Company\" for six consecutive years.\n",
      "\n",
      "The Enron scandal, revealed in October 2001, eventually led to the bankruptcy of the Enron Corporation, an American energy company based in Houston, Texas, and the de facto dissolution of Arthur Andersen, which was one of the five largest audit and accountancy partnerships in the world. In addition to being the largest bankruptcy reorganization in American history at that time, Enron was cited as the biggest audit failure.\n",
      "\n",
      "In the resulting Federal investigation, there was a significant amount of typically confidential information entered into public record, including tens of thousands of emails and detailed financial data for top executives."
     ]
    },
    {
     "cell_type": "markdown",
     "metadata": {},
     "source": [
      "**NOTE:** ENRON submission free response question are answered as part of this project report"
     ]
    },
    {
     "cell_type": "heading",
     "level": 3,
     "metadata": {},
     "source": [
      "1. Summarize for us the goal of this project and how machine learning is useful in trying to accomplish it.  As part of your answer, give some background on the dataset and how it can be used to answer the project question.  Were there any outliers in the data when you got it, and how did you handle those?"
     ]
    },
    {
     "cell_type": "heading",
     "level": 2,
     "metadata": {},
     "source": [
      "Project Goal"
     ]
    },
    {
     "cell_type": "markdown",
     "metadata": {},
     "source": [
      "The goal of the project is to build a person of Interest (POI) identifier, using  various machine learning techniques, based on the email messages and financial data made public as a result fo the Enron scandal. POIs in this case are poeple who worked at Enron and were probable suspects for the fraudulent activites performed there which eventually led to its bankruptcy. Machine learning will help predict if a certain person picked at random who worked at Enron was involved in the corporate fraud or not. Concepts of machine learning are to be applied to the available dataset and a POI classifier to be created which would help predict person of interest."
     ]
    },
    {
     "cell_type": "heading",
     "level": 2,
     "metadata": {},
     "source": [
      "Import statements and loading the data"
     ]
    },
    {
     "cell_type": "code",
     "collapsed": false,
     "input": [
      "#!/usr/bin/python\n",
      "\n",
      "### basic python import statements\n",
      "\n",
      "import sys\n",
      "import pickle\n",
      "import matplotlib.pyplot as plt\n",
      "import os\n",
      "import re\n",
      "import string\n",
      "import numpy as np\n",
      "import pprint as pp\n",
      "\n",
      "### to make ipython notebook inline matplotlib graphics for ease of viewing\n",
      "\n",
      "%matplotlib inline"
     ],
     "language": "python",
     "metadata": {},
     "outputs": [],
     "prompt_number": 1
    },
    {
     "cell_type": "code",
     "collapsed": false,
     "input": [
      "### path and import statements to access folder functions\n",
      "\n",
      "\n",
      "sys.path.append(\"../tools/\")\n",
      "\n",
      "\n",
      "from feature_format import featureFormat, targetFeatureSplit\n",
      "from tester import test_classifier, dump_classifier_and_data\n",
      "\n",
      "### Load the dictionary containing the dataset\n",
      "data_dict = pickle.load(open(\"final_project_dataset.pkl\", \"r\") )\n"
     ],
     "language": "python",
     "metadata": {},
     "outputs": [],
     "prompt_number": 2
    },
    {
     "cell_type": "heading",
     "level": 2,
     "metadata": {},
     "source": [
      "Data Exploration"
     ]
    },
    {
     "cell_type": "markdown",
     "metadata": {},
     "source": [
      "Some of the important characteristics of the dataset are as follows:"
     ]
    },
    {
     "cell_type": "heading",
     "level": 3,
     "metadata": {},
     "source": [
      "Dimensions of the Data Set (Total number of points)"
     ]
    },
    {
     "cell_type": "code",
     "collapsed": false,
     "input": [
      "print 'Total number of observations/data points in the data set:', len(data_dict)"
     ],
     "language": "python",
     "metadata": {},
     "outputs": [
      {
       "output_type": "stream",
       "stream": "stdout",
       "text": [
        "Total number of observations/data points in the data set: 146\n"
       ]
      }
     ],
     "prompt_number": 3
    },
    {
     "cell_type": "code",
     "collapsed": false,
     "input": [
      "print 'Total number of features available per observation:', sum(len(v) for v in data_dict.itervalues())/len(data_dict)"
     ],
     "language": "python",
     "metadata": {},
     "outputs": [
      {
       "output_type": "stream",
       "stream": "stdout",
       "text": [
        "Total number of features available per observation: 21\n"
       ]
      }
     ],
     "prompt_number": 4
    },
    {
     "cell_type": "heading",
     "level": 3,
     "metadata": {},
     "source": [
      "Allocation of obervations (POIs vs. Non-POIs)"
     ]
    },
    {
     "cell_type": "code",
     "collapsed": false,
     "input": [
      "count = 0\n",
      "for k, v in data_dict.iteritems():\n",
      "    if(data_dict[k][\"poi\"]==1):\n",
      "        count +=1\n",
      "    else:\n",
      "        continue\n",
      "print 'Number of obervations that have POIs:', count\n",
      "print\n",
      "print 'Number of obervations that do not have POIs:', len(data_dict) - count"
     ],
     "language": "python",
     "metadata": {},
     "outputs": [
      {
       "output_type": "stream",
       "stream": "stdout",
       "text": [
        "Number of obervations that have POIs: 18\n",
        "\n",
        "Number of obervations that do not have POIs: 128\n"
       ]
      }
     ],
     "prompt_number": 5
    },
    {
     "cell_type": "heading",
     "level": 3,
     "metadata": {},
     "source": [
      "Salary and Total payments of some high ups @ Enron"
     ]
    },
    {
     "cell_type": "code",
     "collapsed": false,
     "input": [
      "print 'LAY KENNETH L, Salary:', data_dict['LAY KENNETH L']['salary'],', Total payments:', data_dict['LAY KENNETH L']['total_payments']\n",
      "print\n",
      "print 'SKILLING JEFFREY K, Salary:', data_dict['SKILLING JEFFREY K']['salary'],', Total payments:', data_dict['LAY KENNETH L']['total_payments']\n",
      "print\n",
      "print 'FASTOW ANDREW S: Salary,', data_dict['FASTOW ANDREW S']['salary'],', Total payments:', data_dict['LAY KENNETH L']['total_payments']"
     ],
     "language": "python",
     "metadata": {},
     "outputs": [
      {
       "output_type": "stream",
       "stream": "stdout",
       "text": [
        "LAY KENNETH L, Salary: 1072321 , Total payments: 103559793\n",
        "\n",
        "SKILLING JEFFREY K, Salary: 1111258 , Total payments: 103559793\n",
        "\n",
        "FASTOW ANDREW S: Salary, 440698 , Total payments: 103559793\n"
       ]
      }
     ],
     "prompt_number": 6
    },
    {
     "cell_type": "heading",
     "level": 3,
     "metadata": {},
     "source": [
      "Salaried people @ Enron"
     ]
    },
    {
     "cell_type": "code",
     "collapsed": false,
     "input": [
      "salaried_people = 0\n",
      "for k,v in data_dict.iteritems():\n",
      "    if (data_dict[k][\"salary\"]!= 'NaN'):\n",
      "        salaried_people += 1\n",
      "    else:\n",
      "        continue\n",
      "print 'Number of people salaried @ Enron:', salaried_people"
     ],
     "language": "python",
     "metadata": {},
     "outputs": [
      {
       "output_type": "stream",
       "stream": "stdout",
       "text": [
        "Number of people salaried @ Enron: 95\n"
       ]
      }
     ],
     "prompt_number": 7
    },
    {
     "cell_type": "heading",
     "level": 2,
     "metadata": {},
     "source": [
      "Outlier Investigation (Detection and Removal / Handling)"
     ]
    },
    {
     "cell_type": "markdown",
     "metadata": {},
     "source": [
      "Outliers in the data set can result from some malfunction or data entry errors. I analyzed the financial data document 'enron61702insiderpay.pdf' with naked eye without any code and following are the observations that I think are outliers and should be cleaned away as they do not contain any essential information. I handled the outliers using the piece of code I applied in the lesson 5 excercise in the format: 'dictionary.pop( key, 0 )'."
     ]
    },
    {
     "cell_type": "code",
     "collapsed": false,
     "input": [
      "### Task 2: Remove outliers\n",
      "print 'Wendy Grahm only has the feature of directors fees'\n",
      "print\n",
      "### pp.pprint(data_dict['GRAMM WENDY L'])\n",
      "data_dict.pop(\"GRAMM WENDY L\", None)\n",
      "print 'Eugene Lockhart does not have value associated with any feature'\n",
      "print\n",
      "### pp.pprint(data_dict['LOCKHART EUGENE E'])\n",
      "data_dict.pop(\"LOCKHART EUGENE E\", None)\n",
      "print 'Bruce Wrobel only has exercised stock options as feature'\n",
      "print\n",
      "### pp.pprint(data_dict['WROBEL BRUCE'])\n",
      "data_dict.pop(\"WROBEL BRUCE\", None)\n",
      "print 'THE TRAVEL AGENCY IN THE PARK does not seem to be a POI'\n",
      "print\n",
      "### pp.pprint(data_dict['THE TRAVEL AGENCY IN THE PARK'])\n",
      "data_dict.pop(\"THE TRAVEL AGENCY IN THE PARK\", None)\n",
      "print 'TOTAL is not a particular POI as its the total of all financial features'\n",
      "print\n",
      "### pp.pprint(data_dict['TOTAL'])\n",
      "data_dict.pop(\"TOTAL\", None)"
     ],
     "language": "python",
     "metadata": {},
     "outputs": [
      {
       "output_type": "stream",
       "stream": "stdout",
       "text": [
        "Wendy Grahm only has the feature of directors fees\n",
        "\n",
        "Eugene Lockhart does not have value associated with any feature\n",
        "\n",
        "Bruce Wrobel only has exercised stock options as feature\n",
        "\n",
        "THE TRAVEL AGENCY IN THE PARK does not seem to be a POI\n",
        "\n",
        "TOTAL is not a particular POI as its the total of all financial features\n",
        "\n"
       ]
      },
      {
       "metadata": {},
       "output_type": "pyout",
       "prompt_number": 8,
       "text": [
        "{'bonus': 97343619,\n",
        " 'deferral_payments': 32083396,\n",
        " 'deferred_income': -27992891,\n",
        " 'director_fees': 1398517,\n",
        " 'email_address': 'NaN',\n",
        " 'exercised_stock_options': 311764000,\n",
        " 'expenses': 5235198,\n",
        " 'from_messages': 'NaN',\n",
        " 'from_poi_to_this_person': 'NaN',\n",
        " 'from_this_person_to_poi': 'NaN',\n",
        " 'loan_advances': 83925000,\n",
        " 'long_term_incentive': 48521928,\n",
        " 'other': 42667589,\n",
        " 'poi': False,\n",
        " 'restricted_stock': 130322299,\n",
        " 'restricted_stock_deferred': -7576788,\n",
        " 'salary': 26704229,\n",
        " 'shared_receipt_with_poi': 'NaN',\n",
        " 'to_messages': 'NaN',\n",
        " 'total_payments': 309886585,\n",
        " 'total_stock_value': 434509511}"
       ]
      }
     ],
     "prompt_number": 8
    },
    {
     "cell_type": "heading",
     "level": 2,
     "metadata": {},
     "source": [
      "Optimized Feature Selection/Engineering"
     ]
    },
    {
     "cell_type": "markdown",
     "metadata": {},
     "source": [
      "This section deals with the importantance of features in the dataset. The 3 important aspects covered here are as follows:\n",
      "\n",
      "- Creation of new features\n",
      "- Intelligent selection of features\n",
      "- Proper scaling of features (if required)\n",
      "\n",
      "List of all 21 original features in the dataset are as follows:"
     ]
    },
    {
     "cell_type": "code",
     "collapsed": false,
     "input": [
      "pp.pprint(data_dict['LAY KENNETH L'].keys())"
     ],
     "language": "python",
     "metadata": {},
     "outputs": [
      {
       "output_type": "stream",
       "stream": "stdout",
       "text": [
        "['salary',\n",
        " 'to_messages',\n",
        " 'deferral_payments',\n",
        " 'total_payments',\n",
        " 'exercised_stock_options',\n",
        " 'bonus',\n",
        " 'restricted_stock',\n",
        " 'shared_receipt_with_poi',\n",
        " 'restricted_stock_deferred',\n",
        " 'total_stock_value',\n",
        " 'expenses',\n",
        " 'loan_advances',\n",
        " 'from_messages',\n",
        " 'other',\n",
        " 'from_this_person_to_poi',\n",
        " 'poi',\n",
        " 'director_fees',\n",
        " 'deferred_income',\n",
        " 'long_term_incentive',\n",
        " 'email_address',\n",
        " 'from_poi_to_this_person']\n"
       ]
      }
     ],
     "prompt_number": 10
    },
    {
     "cell_type": "heading",
     "level": 3,
     "metadata": {},
     "source": [
      "Initial Feature Selection (by hand from the original features in the datset)"
     ]
    },
    {
     "cell_type": "code",
     "collapsed": false,
     "input": [
      "### Task 1: Select what features you'll use.\n",
      "### features_list is a list of strings, each of which is a feature name.\n",
      "### The first feature must be \"poi\".\n",
      "\n",
      "### POI label\n",
      "\n",
      "poi = 'poi'\n",
      "\n",
      "### NOTE: features combinations are setup in such a way so that performance can be determined individually\n",
      "\n",
      "### Email features\n",
      "\n",
      "e_feature_1 = 'from_messages'\n",
      "e_feature_2 = 'to_messages'\n",
      "e_feature_3 = 'shared_receipt_with_poi'\n",
      "\n",
      "# e_features_list = [e_feature_1, e_feature_2, e_feature_3]\n",
      "\n",
      "e_features_list = [e_feature_1]\n",
      "e_features_list = e_features_list + [e_feature_2]\n",
      "e_features_list = e_features_list + [e_feature_3]\n",
      "\n",
      "### Financial features\n",
      "\n",
      "f_feature_1 = 'salary'\n",
      "f_feature_2 = 'loan_advances'\n",
      "f_feature_3 = 'bonus'\n",
      "f_feature_4 = 'total_stock_value'\n",
      "f_feature_5 = 'exercised_stock_options'\n",
      "\n",
      "# f_features_list = [f_feature_1, f_feature_2, f_feature_3, f_feature_4, f_feature_5]\n",
      "\n",
      "f_features_list = [f_feature_1]\n",
      "f_features_list = f_features_list + [f_feature_2]\n",
      "f_features_list = f_features_list + [f_feature_3]\n",
      "f_features_list = f_features_list + [f_feature_4]\n",
      "f_features_list = f_features_list + [f_feature_5]\n",
      "\n",
      "\n",
      "# fraction_features = ['fraction_from_poi', 'fraction_to_poi']\n",
      "\n",
      "### Combined features\n",
      "\n",
      "features_list = [poi] + e_features_list + f_features_list\n",
      "\n",
      "print 'Number of features used from the original data set:', len(features_list)"
     ],
     "language": "python",
     "metadata": {},
     "outputs": [
      {
       "output_type": "stream",
       "stream": "stdout",
       "text": [
        "Number of features used from the original data set: 9\n"
       ]
      }
     ],
     "prompt_number": 9
    },
    {
     "cell_type": "heading",
     "level": 3,
     "metadata": {},
     "source": [
      "Invesitgation/Relationship of some of the features that were selected by hand"
     ]
    },
    {
     "cell_type": "markdown",
     "metadata": {},
     "source": [
      "For this purpose, few of the features in the dataset were plotted to have a general idea about he distribution. Data points marked wih red crosses are POIs."
     ]
    },
    {
     "cell_type": "code",
     "collapsed": false,
     "input": [
      "data = featureFormat(data_dict, features_list )\n",
      "poi, testing_poi_test_features = targetFeatureSplit(data)\n",
      "\n",
      "for ii, pp in enumerate(testing_poi_test_features):\n",
      "    plt.scatter(testing_poi_test_features[ii][1], testing_poi_test_features[ii][2], color = 'c')\n",
      "    plt.xlabel('to_messages')\n",
      "    plt.ylabel('shared_receipt_with_poi')\n",
      "   \n",
      "for ii, pp in enumerate(testing_poi_test_features):\n",
      "    if poi[ii]:\n",
      "        plt.scatter(testing_poi_test_features[ii][1], testing_poi_test_features[ii][2], color = 'r', marker=\"+\")   \n",
      "        \n",
      "plt.show()\n",
      "\n",
      "\n",
      "for ii, pp in enumerate(testing_poi_test_features):\n",
      "    plt.scatter(testing_poi_test_features[ii][0], testing_poi_test_features[ii][2], color = 'c')\n",
      "    plt.xlabel('from_messages')\n",
      "    plt.ylabel('shared_receipt_with_poi')\n",
      "   \n",
      "for ii, pp in enumerate(testing_poi_test_features):\n",
      "    if poi[ii]:\n",
      "        plt.scatter(testing_poi_test_features[ii][0], testing_poi_test_features[ii][2], color = 'r', marker=\"+\")   \n",
      "        \n",
      "plt.show()\n",
      "\n",
      "for ii, pp in enumerate(testing_poi_test_features):\n",
      "    plt.scatter(testing_poi_test_features[ii][3], testing_poi_test_features[ii][5], color = 'c')\n",
      "    plt.xlabel('salary')\n",
      "    plt.ylabel('bonus')\n",
      "   \n",
      "for ii, pp in enumerate(testing_poi_test_features):\n",
      "    if poi[ii]:\n",
      "        plt.scatter(testing_poi_test_features[ii][3], testing_poi_test_features[ii][5], color = 'r', marker=\"+\")   \n",
      "        \n",
      "plt.show()\n",
      "\n",
      "for ii, pp in enumerate(testing_poi_test_features):\n",
      "    plt.scatter(testing_poi_test_features[ii][6], testing_poi_test_features[ii][5], color = 'c')\n",
      "    plt.xlabel('exercised_stock_options')\n",
      "    plt.ylabel('bonus')\n",
      "   \n",
      "for ii, pp in enumerate(testing_poi_test_features):\n",
      "    if poi[ii]:\n",
      "        plt.scatter(testing_poi_test_features[ii][6], testing_poi_test_features[ii][5], color = 'r', marker=\"+\")   \n",
      "        \n",
      "plt.show()"
     ],
     "language": "python",
     "metadata": {},
     "outputs": [
      {
       "metadata": {},
       "output_type": "display_data",
       "png": "[encoded data removed]",
       "text": [
        "<matplotlib.figure.Figure at 0x16791588>"
       ]
      },
      {
       "metadata": {},
       "output_type": "display_data",
       "png": "[encoded data removed]",
       "text": [
        "<matplotlib.figure.Figure at 0x167915f8>"
       ]
      },
      {
       "metadata": {},
       "output_type": "display_data",
       "png": "[encoded data removed]",
       "text": [
        "<matplotlib.figure.Figure at 0x17ceab38>"
       ]
      },
      {
       "metadata": {},
       "output_type": "display_data",
       "png": "[encoded data removed]",
       "text": [
        "<matplotlib.figure.Figure at 0x1720c7b8>"
       ]
      }
     ],
     "prompt_number": 209
    },
    {
     "cell_type": "heading",
     "level": 3,
     "metadata": {},
     "source": [
      "New Feature Creation"
     ]
    },
    {
     "cell_type": "heading",
     "level": 4,
     "metadata": {},
     "source": [
      "1. Fraction to/from POI emails (2 features) - Combination of original features in the dataset"
     ]
    },
    {
     "cell_type": "markdown",
     "metadata": {},
     "source": [
      "Using the exercise quiz in lesson 11, following code was implemented to include 2 new features in the data set namely 'fraction_from_poi' and 'fraction_to_poi'. These features are a combination of 4 original features in the dataset. After creation, features are then stored in the modified feature list, 'my_feature_list' and values for all observations stored in modified data set, 'my_dataset'."
     ]
    },
    {
     "cell_type": "code",
     "collapsed": false,
     "input": [
      "### Assignment to my_dataset and my_feature_list\n",
      "\n",
      "my_dataset = data_dict\n",
      "my_feature_list = features_list"
     ],
     "language": "python",
     "metadata": {},
     "outputs": [],
     "prompt_number": 10
    },
    {
     "cell_type": "code",
     "collapsed": false,
     "input": [
      "### Task 3: Create new feature(s)\n",
      "#my_feature_list = []\n",
      "#my_dataset = {}\n",
      "\n",
      "### computeFraction function used from lesson 11 exercise\n",
      "\n",
      "def computeFraction(poi_messages, all_messages):\n",
      "    \"\"\" given a number messages to/from POI (numerator) \n",
      "        and number of all messages to/from a person (denominator),\n",
      "        return the fraction of messages to/from that person\n",
      "        that are from/to a POI\n",
      "   \"\"\"\n",
      "\n",
      "\n",
      "    ### you fill in this code, so that it returns either\n",
      "    ###     the fraction of all messages to this person that come from POIs\n",
      "    ###     or\n",
      "    ###     the fraction of all messages from this person that are sent to POIs\n",
      "    ### the same code can be used to compute either quantity\n",
      "\n",
      "    ### beware of \"NaN\" when there is no known email address (and so\n",
      "    ### no filled email features), and integer division!\n",
      "    ### in case of poi_messages or all_messages having \"NaN\" value, return 0.\n",
      "    if (poi_messages == 'NaN') or (all_messages == 'NaN'):\n",
      "        fraction = 0.\n",
      "    else:\n",
      "        fraction = float(poi_messages)/float(all_messages)\n",
      "\n",
      "    return fraction\n",
      "\n",
      "\n",
      "for name in data_dict:\n",
      "    \n",
      "    # print name\n",
      "    data_point = data_dict[name]\n",
      "    from_poi_to_this_person = data_point[\"from_poi_to_this_person\"]\n",
      "    to_messages = data_point[\"to_messages\"]\n",
      "    fraction_from_poi = computeFraction(from_poi_to_this_person, to_messages)\n",
      "    # print fraction_from_poi\n",
      "    \n",
      "    from_this_person_to_poi = data_point[\"from_this_person_to_poi\"]\n",
      "    from_messages = data_point[\"from_messages\"]\n",
      "    fraction_to_poi = computeFraction(from_this_person_to_poi, from_messages)\n",
      "    # print fraction_to_poi\n",
      "    \n",
      "    ### Adding values of new features to the modified dataset, 'my_dataset'\n",
      "    \n",
      "    my_dataset[name]['fraction_from_poi'] = fraction_from_poi\n",
      "    my_dataset[name]['fraction_to_poi'] = fraction_to_poi\n",
      "    \n",
      "print '2 new features, \"fraction_from_poi\" and \"fraction_to_poi\", added to \"my_dataset\"'"
     ],
     "language": "python",
     "metadata": {},
     "outputs": [
      {
       "output_type": "stream",
       "stream": "stdout",
       "text": [
        "2 new features, \"fraction_from_poi\" and \"fraction_to_poi\", added to \"my_dataset\"\n"
       ]
      }
     ],
     "prompt_number": 11
    },
    {
     "cell_type": "code",
     "collapsed": false,
     "input": [
      "### Adding new feature to the modified features list, 'my_feature_list'\n",
      "\n",
      "fraction_features = ['fraction_from_poi', 'fraction_to_poi']\n",
      "\n",
      "my_feature_list = features_list + fraction_features\n",
      "\n",
      "print 'Number of features now:', len(my_feature_list)"
     ],
     "language": "python",
     "metadata": {},
     "outputs": [
      {
       "output_type": "stream",
       "stream": "stdout",
       "text": [
        "Number of features now: 11\n"
       ]
      }
     ],
     "prompt_number": 12
    },
    {
     "cell_type": "code",
     "collapsed": false,
     "input": [
      "poi  = \"poi\"\n",
      "\n",
      "poi_fraction_features = [poi, 'fraction_from_poi', 'fraction_to_poi']\n",
      "\n",
      "data = featureFormat(my_dataset, poi_fraction_features)\n",
      "poi, testing_fraction_features = targetFeatureSplit(data)\n",
      "\n",
      "for ii, pp in enumerate(testing_fraction_features):\n",
      "    if testing_fraction_features[ii][0] != 0.0 or testing_fraction_features[ii][1] != 0.0:\n",
      "        plt.scatter(testing_fraction_features[ii][0], testing_fraction_features[ii][1], color = 'c')\n",
      "        plt.xlabel('Fraction of emails this person gets from POI')\n",
      "        plt.ylabel('Fraction of emails this person sends to POI')\n",
      "    else:\n",
      "        continue\n",
      "for ii, pp in enumerate(testing_fraction_features):\n",
      "    if poi[ii] and (testing_fraction_features[ii][0] != 0.0 or testing_fraction_features[ii][1] != 0.0):\n",
      "        plt.scatter(testing_fraction_features[ii][0], testing_fraction_features[ii][1], color = 'r', marker=\"+\")   \n",
      "        \n",
      "plt.show()\n"
     ],
     "language": "python",
     "metadata": {},
     "outputs": [
      {
       "metadata": {},
       "output_type": "display_data",
       "png": "[encoded data removed]",
       "text": [
        "<matplotlib.figure.Figure at 0x160f6630>"
       ]
      }
     ],
     "prompt_number": 214
    },
    {
     "cell_type": "markdown",
     "metadata": {},
     "source": [
      "**NOTE:** The scatter plot represents the fraction of email exchange between Non-POI/POI. Red crosses show the POIs. It can be observed that there is a definite trend that POIs mostly send/receive emails to/from other POIs. People that are non POI tend to send fewer emails as can be seen mostly clustered with fractions closer to 0."
     ]
    },
    {
     "cell_type": "heading",
     "level": 4,
     "metadata": {},
     "source": [
      "2. Word features from text in the email archives"
     ]
    },
    {
     "cell_type": "markdown",
     "metadata": {},
     "source": [
      "pasreOutText function is used from the lesson 10 mini-project along with a modified version of the code used to extract email text in lesson 10 mini-project. Firstm it was checked if the observation had valid email address and then for a valid email address, email text was extracted using the pasreOutText function. The snowball stemmer for english is already implemented in the pasreOutText function. The text features data and the user labels data are extracted and stored in 'your_word_data.pkl' and 'your_email_authors.pkl' files respectively. Using words in emails as feature will add an additional dimension to he model and might be useful in creating the POI identifier."
     ]
    },
    {
     "cell_type": "code",
     "collapsed": false,
     "input": [
      "def parseOutText(f):\n",
      "    \"\"\" given an opened email file f, parse out all text below the\n",
      "        metadata block at the top\n",
      "        (in Part 2, you will also add stemming capabilities)\n",
      "        and return a string that contains all the words\n",
      "        in the email (space-separated) \n",
      "        \n",
      "        example use case:\n",
      "        f = open(\"email_file_name.txt\", \"r\")\n",
      "        text = parseOutText(f)\n",
      "        \n",
      "        \"\"\"\n",
      "\n",
      "\n",
      "    f.seek(0)  ### go back to beginning of file (annoying)\n",
      "    all_text = f.read()\n",
      "\n",
      "    ### split off metadata\n",
      "    content = all_text.split(\"X-FileName:\")\n",
      "    words = \"\"\n",
      "    if len(content) > 1:\n",
      "        ### remove punctuation\n",
      "        text_string = content[1].translate(string.maketrans(\"\", \"\"), string.punctuation)\n",
      "\n",
      "        ### project part 2: comment out the line below\n",
      "        #words = text_string\n",
      "\n",
      "        ### split the text string into individual words, stem each word,\n",
      "        ### and append the stemmed word to words (make sure there's a single\n",
      "        ### space between each stemmed word)\n",
      "        \n",
      "        #print text_string\n",
      "        \n",
      "        email_split = text_string.split()\n",
      "    \n",
      "        #print email_split\n",
      "\n",
      "        from nltk.stem.snowball import SnowballStemmer\n",
      "\n",
      "        stemmer = SnowballStemmer(\"english\")\n",
      "        \n",
      "        email_stemmed = []\n",
      "        for n in range(len(email_split)):\n",
      "            email_stemmed.append(stemmer.stem(email_split[n]))\n",
      "        \n",
      "    words = ' '.join(email_stemmed)    \n",
      "    \n",
      "    return words\n"
     ],
     "language": "python",
     "metadata": {},
     "outputs": [],
     "prompt_number": 14
    },
    {
     "cell_type": "markdown",
     "metadata": {},
     "source": [
      "**NOTE:** Below is the piece of code which is used to identify valid email addresses"
     ]
    },
    {
     "cell_type": "code",
     "collapsed": false,
     "input": [
      "\n",
      "valid_email_id_list = []\n",
      "\n",
      "email_address_path_folder = os.listdir(\"../final_project/emails_by_address/\")\n",
      "\n",
      "test_dataset = my_dataset\n",
      "#observation_removal = []\n",
      "\n",
      "count1 = 0\n",
      "count2 = 0\n",
      "\n",
      "for name in my_dataset:\n",
      "    #k = name\n",
      "    email_name = test_dataset[name]\n",
      "    email_address = email_name[\"email_address\"]\n",
      "    email_address_path = \"from_\" + email_address + \".txt\"\n",
      "    #print email_address, email_address_path\n",
      "    if email_address == 'NaN':\n",
      "        #observation_removal.append(name)\n",
      "        #print 'TO BE REMOVED_1:' ,email_address_path\n",
      "        count1 += 1\n",
      "    \n",
      "    elif email_address_path not in email_address_path_folder:\n",
      "        #observation_removal.append(name)\n",
      "        #print 'TO BE REMOVED_2:' ,email_address_path\n",
      "        count2 += 1\n",
      "    else:\n",
      "        valid_email_id_list.append(email_address)\n",
      "        #print email_address_path\n",
      "    \n",
      "\n",
      "print 'size of the dataset:', len(my_dataset)    \n",
      "print    \n",
      "print 'No of observation that have no email data for word features:', count1 + count2 \n",
      "\n",
      "\n",
      "'''        \n",
      "for n in observation_removal:\n",
      "    test_dataset.pop(n, None)\n",
      "'''            \n",
      "\n",
      "my_dataset = test_dataset       \n",
      "\n"
     ],
     "language": "python",
     "metadata": {},
     "outputs": [
      {
       "output_type": "stream",
       "stream": "stdout",
       "text": [
        "size of the dataset: 141\n",
        "\n",
        "No of observation that have no email data for word features: 55\n"
       ]
      }
     ],
     "prompt_number": 16
    },
    {
     "cell_type": "code",
     "collapsed": false,
     "input": [
      "print valid_email_id_list"
     ],
     "language": "python",
     "metadata": {},
     "outputs": [
      {
       "output_type": "stream",
       "stream": "stdout",
       "text": [
        "['mark.metts@enron.com', 'bill.cordes@enron.com', 'kevin.hannon@enron.com', 'rockford.meyer@enron.com', 'jeffrey.mcmahon@enron.com', 'stanley.horton@enron.com', 'greg.piper@enron.com', 'gene.humphrey@enron.com', 'adam.umanoff@enron.com', 'jeremy.blachman@enron.com', 'marty.sunde@enron.com', 'dana.gibbs@enron.com', 'wes.colwell@enron.com', 's..muller@enron.com', 'charlene.jackson@enron.com', 'rob.walls@enron.com', 'louise.kitchen@enron.com', 'jeffrey.shankman@enron.com', 'rick.bergsieker@enron.com', 'philippe.bibi@enron.com', 'paula.rieker@enron.com', 'sally.beck@enron.com', 'david.haug@enron.com', 'gary.hickerson@enron.com', 'richard.lewis@enron.com', 'robert.hayes@enron.com', 'danny.mccarty@enron.com', 'dan.leff@enron.com', 'john.lavorato@enron.com', 'ken.powers@enron.com', 'james.bannantine@enron.com', 'richard.shapiro@enron.com', 'john.sherriff@enron.com', 'rex.shelby@enron.com', 'joseph.deffner@enron.com', 'greg.whalley@enron.com', 'mike.mcconnell@enron.com', 'jim.piro@enron.com', 'david.delainey@enron.com', 'kenneth.lay@enron.com', 'cindy.olson@enron.com', 'rebecca.mcdonald@enron.com', 'george.mcclellan@enron.com', 'mark.haedicke@enron.com', 'raymond.bowen@enron.com', 'jay.fitzgerald@enron.com', 'michael.moran@enron.com', 'brian.redmond@enron.com', 'tim.belden@enron.com', 'w.duran@enron.com', 'terence.thorn@enron.com', 'tracy.foy@enron.com', 'christopher.calger@enron.com', 'ken.rice@enron.com', 'vince.kaminski@enron.com', 'chip.cox@enron.com', 'jeff.skilling@enron.com', 'jeffrey.sherrick@enron.com', 'mark.pickering@enron.com', 'steven.kean@enron.com', 'kulvinder.fowler@enron.com', 'george.wasaff@enron.com', 'phillip.allen@enron.com', 'vicki.sharp@enron.com', 'michael.brown@enron.com', 'james.hughes@enron.com', 'sanjay.bhatnagar@enron.com', 'rebecca.carter@enron.com', 'john.buchanan@enron.com', 'julia.murray@enron.com', 'kevin.garland@enron.com', 'keith.dodson@enron.com', 'janet.dietrich@enron.com', 'james.derrick@enron.com', 'mark.frevert@enron.com', 'rod.hayslett@enron.com', 'jim.fallon@enron.com', 'mark.koenig@enron.com', 'larry.izzo@enron.com', 'elizabeth.tilney@enron.com', 'a..martin@enron.com', 'rick.buy@enron.com', 'richard.causey@enron.com', 'mitchell.taylor@enron.com', 'jeff.donahue@enron.com', 'ben.glisan@enron.com']\n"
       ]
      }
     ],
     "prompt_number": 17
    },
    {
     "cell_type": "markdown",
     "metadata": {},
     "source": [
      "Final piece of code used to parse email text"
     ]
    },
    {
     "cell_type": "code",
     "collapsed": false,
     "input": [
      "from_data = []\n",
      "word_data = []\n",
      "\n",
      "import os\n",
      "import pickle\n",
      "import re\n",
      "import sys\n",
      "import string\n",
      "\n",
      "\n",
      "temp_counter = 0\n",
      "\n",
      "for n in range(len(valid_email_id_list)):\n",
      "    \n",
      "    email_address_folder = \"../final_project/emails_by_address/from_\" + valid_email_id_list[n] + \".txt\"\n",
      "    \n",
      "    #text_file = os.listdir(\"../final_project/emails_by_address/\")\n",
      "    \n",
      "    email_file_path = open(email_address_folder, \"r\")\n",
      "    \n",
      "    for path in email_file_path:\n",
      "        ### only look at first 200 emails when developing\n",
      "        ### once everything is working, remove this line to run over full dataset\n",
      "        temp_counter += 1\n",
      "        if temp_counter < 200:\n",
      "        \n",
      "        \n",
      "            path = os.path.join('..', path[:-1])\n",
      "            #print path\n",
      "            email = open(path, \"r\")\n",
      "\n",
      "            ### use parseOutText to extract the text from the opened email\n",
      "\n",
      "            ### use str.replace() to remove any instances of the words\n",
      "            ### [\"sara\", \"shackleton\", \"chris\", \"germani\"]\n",
      "\n",
      "            ### append the text to word_data\n",
      "\n",
      "            ### append a 0 to from_data if email is from Sara, and 1 if email is from Chris\n",
      "\n",
      "            stemmed_email = parseOutText(email)\n",
      "\n",
      "            word_data.append(stemmed_email)\n",
      "            '''\n",
      "            if (name == \"chris\"):\n",
      "                from_data.append(1)\n",
      "            else:\n",
      "                from_data.append(0)\n",
      "            '''\n",
      "            from_data.append(n)\n",
      "\n",
      "            email.close()\n",
      "    \n",
      "print \"emails processed\"\n",
      "#from_sara.close()\n",
      "#from_chris.close()\n",
      "\n",
      "pickle.dump( word_data, open(\"your_word_data.pkl\", \"w\") )\n",
      "pickle.dump( from_data, open(\"your_email_authors.pkl\", \"w\") )"
     ],
     "language": "python",
     "metadata": {},
     "outputs": [
      {
       "output_type": "stream",
       "stream": "stdout",
       "text": [
        "emails processed\n"
       ]
      }
     ],
     "prompt_number": 21
    },
    {
     "cell_type": "code",
     "collapsed": false,
     "input": [
      "### Extract features and labels from dataset for testing\n",
      "\n",
      "data = featureFormat(my_dataset, features_list)\n",
      "\n",
      "labels, features = targetFeatureSplit(data)\n",
      "\n",
      "#print len(labels)\n",
      "\n",
      "#print len(features)"
     ],
     "language": "python",
     "metadata": {},
     "outputs": [],
     "prompt_number": 15
    },
    {
     "cell_type": "code",
     "collapsed": false,
     "input": [
      "### python import statements for implementing the classifier\n",
      "\n",
      "### Vectorizer utility\n",
      "\n",
      "from sklearn.feature_extraction.text import TfidfVectorizer\n",
      "\n",
      "### Feature Scaler utility\n",
      "\n",
      "from sklearn.preprocessing import MinMaxScaler\n",
      "\n",
      "### Feature Selector utility\n",
      "\n",
      "from sklearn.feature_selection import SelectPercentile, f_classif\n",
      "from sklearn.feature_selection import SelectKBest, chi2\n",
      "\n",
      "### Grid Fit/Transform utility\n",
      "\n",
      "from sklearn.grid_search import GridSearchCV\n",
      "\n",
      "### Algorithms\n",
      "\n",
      "from sklearn.ensemble import AdaBoostClassifier\n",
      "from sklearn.svm import SVC\n",
      "from sklearn.naive_bayes import GaussianNB\n",
      "from sklearn.tree import DecisionTreeClassifier\n",
      "\n",
      "\n",
      "### Cross Validation utility\n",
      "\n",
      "from sklearn.cross_validation import StratifiedShuffleSplit\n",
      "from sklearn.cross_validation import StratifiedKFold\n",
      "from sklearn.cross_validation import KFold\n",
      "\n",
      "### Key Performance Indicators/Metrics\n",
      "\n",
      "from sklearn.metrics import precision_score, recall_score, f1_score\n",
      "\n"
     ],
     "language": "python",
     "metadata": {},
     "outputs": [],
     "prompt_number": 16
    },
    {
     "cell_type": "markdown",
     "metadata": {},
     "source": [
      "**NOTE:** Going forward, I have implemented different combinations of features, vectorizer, scaler, feature selector and cross validation techniques to evaluate the Key Perfomance Indicators (KPIs) i.e. Precision and Recall along with accuracy and F1-score. I have provided the description for all parameters/features settings for the different combinations I tried to fullfil the requirement in the project rubric."
     ]
    },
    {
     "cell_type": "heading",
     "level": 3,
     "metadata": {},
     "source": [
      "Combination 1"
     ]
    },
    {
     "cell_type": "markdown",
     "metadata": {},
     "source": [
      "- **Features selected :** Original features + fraction features + word features\n",
      "- **Algorithm         :** Ada Boost\n",
      "- **Cross-Validation  :** StratifiedKFold\n",
      "- **Vectorizer        :** Tfidf (stop_words=\"english\", lowercase=True)\n",
      "- **Scaler            :** MinMax\n",
      "- **Selector          :** Select Percentile (10%)"
     ]
    },
    {
     "cell_type": "code",
     "collapsed": false,
     "input": [
      "accuracy = []\n",
      "precision = []\n",
      "recall = []\n",
      "f1 = []\n",
      "\n",
      "vectorizer = TfidfVectorizer(stop_words=\"english\", lowercase=True)\n",
      "scaler = MinMaxScaler()\n",
      "selector = SelectPercentile(f_classif, percentile=10)\n",
      "skf = StratifiedKFold(labels, n_folds=3)\n",
      "\n",
      "for train_idx, test_idx in skf:\n",
      "    features_train = []\n",
      "    features_test = []\n",
      "    word_features_train = []\n",
      "    word_features_test = []\n",
      "    labels_train = []\n",
      "    labels_test = []\n",
      "\n",
      "    for ii in train_idx:\n",
      "        features_train.append(features[ii])\n",
      "        word_features_train.append(word_data[ii])\n",
      "        labels_train.append(labels[ii])\n",
      "    for jj in test_idx:\n",
      "        features_test.append(features[jj])\n",
      "        word_features_test.append(word_data[jj])\n",
      "        labels_test.append(labels[jj])\n",
      "    '''\n",
      "    print features_train\n",
      "    print\n",
      "    print word_features_train\n",
      "    print\n",
      "    print labels_train\n",
      "    print '+++++++++++++++++++++++++++++++++++++++++'    \n",
      "    print features_test\n",
      "    print\n",
      "    print word_features_test\n",
      "    print\n",
      "    print labels_test\n",
      "    print '----------------------------'   \n",
      "    '''    \n",
      "        \n",
      "    word_features_train = vectorizer.fit_transform(word_features_train).toarray()\n",
      "    features_train = np.hstack((features_train, word_features_train))\n",
      "    word_features_test = vectorizer.transform(word_features_test).toarray()\n",
      "    features_test = np.hstack((features_test, word_features_test))\n",
      "    '''\n",
      "    print features_train\n",
      "    print\n",
      "    print features_test\n",
      "    '''\n",
      "    \n",
      "    features_train = scaler.fit_transform(features_train)\n",
      "    features_train = selector.fit_transform(features_train, labels_train)\n",
      "    features_test = scaler.transform(features_test)\n",
      "    features_test = selector.transform(features_test)\n",
      "\n",
      "    ada = AdaBoostClassifier()\n",
      "    parameters = {'n_estimators': [1, 100], 'random_state': [1, 50]}\n",
      "    clf = GridSearchCV(ada, parameters)\n",
      "    clf.fit(features_train, labels_train)\n",
      "    pred = clf.predict(features_test)\n",
      "\n",
      "    print \"Accuracy: \", clf.score(features_test, labels_test)\n",
      "    print \"Precision: \", precision_score(labels_test, pred)\n",
      "    print \"Recall: \", recall_score(labels_test, pred)\n",
      "    print \"F1_Score: \", f1_score(labels_test, pred)\n",
      "\n",
      "    accuracy.append(clf.score(features_test, labels_test))\n",
      "    precision.append(precision_score(labels_test, pred))\n",
      "    recall.append(recall_score(labels_test, pred))\n",
      "    f1.append(f1_score(labels_test, pred))\n",
      "\n",
      "print \"Average accuracy: \", sum(accuracy) / 3\n",
      "print \"Average precision: \", sum(precision) / 3\n",
      "print \"Average recall: \", sum(recall) / 3\n",
      "print \"Average f1_score: \", sum(f1) / 3"
     ],
     "language": "python",
     "metadata": {},
     "outputs": [
      {
       "output_type": "stream",
       "stream": "stdout",
       "text": [
        "Accuracy:  0.840909090909\n",
        "Precision:  0.0\n",
        "Recall:  0.0\n",
        "F1_Score:  0.0\n",
        "Accuracy: "
       ]
      },
      {
       "output_type": "stream",
       "stream": "stdout",
       "text": [
        " 0.727272727273\n",
        "Precision:  0.0\n",
        "Recall:  0.0\n",
        "F1_Score:  0.0\n",
        "Accuracy: "
       ]
      },
      {
       "output_type": "stream",
       "stream": "stdout",
       "text": [
        " 0.813953488372\n",
        "Precision:  0.25\n",
        "Recall:  0.166666666667\n",
        "F1_Score:  0.2\n",
        "Average accuracy:  0.794045102185\n",
        "Average precision:  0.0833333333333\n",
        "Average recall:  0.0555555555556\n",
        "Average f1_score:  0.0666666666667\n"
       ]
      }
     ],
     "prompt_number": 246
    },
    {
     "cell_type": "code",
     "collapsed": false,
     "input": [
      "accuracy = []\n",
      "precision = []\n",
      "recall = []\n",
      "f1 = []\n",
      "\n",
      "vectorizer = TfidfVectorizer(stop_words=\"english\", lowercase=True, max_df = 0.5)\n",
      "scaler = MinMaxScaler()\n",
      "selector = SelectPercentile(f_classif, percentile=10)\n",
      "skf = StratifiedKFold(labels, n_folds=3)\n",
      "\n",
      "for train_idx, test_idx in skf:\n",
      "    features_train = []\n",
      "    features_test = []\n",
      "    word_features_train = []\n",
      "    word_features_test = []\n",
      "    labels_train = []\n",
      "    labels_test = []\n",
      "\n",
      "    for ii in train_idx:\n",
      "        features_train.append(features[ii])\n",
      "        word_features_train.append(word_data[ii])\n",
      "        labels_train.append(labels[ii])\n",
      "    for jj in test_idx:\n",
      "        features_test.append(features[jj])\n",
      "        word_features_test.append(word_data[jj])\n",
      "        labels_test.append(labels[jj])\n",
      "    '''\n",
      "    print features_train\n",
      "    print\n",
      "    print word_features_train\n",
      "    print\n",
      "    print labels_train\n",
      "    print '+++++++++++++++++++++++++++++++++++++++++'    \n",
      "    print features_test\n",
      "    print\n",
      "    print word_features_test\n",
      "    print\n",
      "    print labels_test\n",
      "    print '----------------------------'   \n",
      "    '''    \n",
      "        \n",
      "    word_features_train = vectorizer.fit_transform(word_features_train).toarray()\n",
      "    features_train = np.hstack((features_train, word_features_train))\n",
      "    word_features_test = vectorizer.transform(word_features_test).toarray()\n",
      "    features_test = np.hstack((features_test, word_features_test))\n",
      "    '''\n",
      "    print features_train\n",
      "    print\n",
      "    print features_test\n",
      "    '''\n",
      "    \n",
      "    features_train = scaler.fit_transform(features_train)\n",
      "    features_train = selector.fit_transform(features_train, labels_train)\n",
      "    features_test = scaler.transform(features_test)\n",
      "    features_test = selector.transform(features_test)\n",
      "\n",
      "    ada = AdaBoostClassifier()\n",
      "    parameters = {'n_estimators': [1, 100], 'random_state': [1, 50]}\n",
      "    clf = GridSearchCV(ada, parameters)\n",
      "    clf.fit(features_train, labels_train)\n",
      "    pred = clf.predict(features_test)\n",
      "\n",
      "    print \"Accuracy: \", clf.score(features_test, labels_test)\n",
      "    print \"Precision: \", precision_score(labels_test, pred)\n",
      "    print \"Recall: \", recall_score(labels_test, pred)\n",
      "    print \"F1_Score: \", f1_score(labels_test, pred)\n",
      "\n",
      "    accuracy.append(clf.score(features_test, labels_test))\n",
      "    precision.append(precision_score(labels_test, pred))\n",
      "    recall.append(recall_score(labels_test, pred))\n",
      "    f1.append(f1_score(labels_test, pred))\n",
      "\n",
      "print \"Average accuracy: \", sum(accuracy) / 3\n",
      "print \"Average precision: \", sum(precision) / 3\n",
      "print \"Average recall: \", sum(recall) / 3\n",
      "print \"Average f1_score: \", sum(f1) / 3"
     ],
     "language": "python",
     "metadata": {},
     "outputs": [
      {
       "output_type": "stream",
       "stream": "stdout",
       "text": [
        "Accuracy:  0.840909090909\n",
        "Precision:  0.0\n",
        "Recall:  0.0\n",
        "F1_Score:  0.0\n",
        "Accuracy: "
       ]
      },
      {
       "output_type": "stream",
       "stream": "stdout",
       "text": [
        " 0.727272727273\n",
        "Precision:  0.0\n",
        "Recall:  0.0\n",
        "F1_Score:  0.0\n",
        "Accuracy: "
       ]
      },
      {
       "output_type": "stream",
       "stream": "stdout",
       "text": [
        " 0.883720930233\n",
        "Precision:  0.666666666667\n",
        "Recall:  0.333333333333\n",
        "F1_Score:  0.444444444444\n",
        "Average accuracy:  0.817300916138\n",
        "Average precision:  0.222222222222\n",
        "Average recall:  0.111111111111\n",
        "Average f1_score:  0.148148148148\n"
       ]
      }
     ],
     "prompt_number": 247
    },
    {
     "cell_type": "code",
     "collapsed": false,
     "input": [
      "accuracy = []\n",
      "precision = []\n",
      "recall = []\n",
      "f1 = []\n",
      "\n",
      "vectorizer = TfidfVectorizer(stop_words=\"english\", lowercase=True, max_df = 0.5)\n",
      "scaler = MinMaxScaler()\n",
      "selector = SelectPercentile(f_classif, percentile=10)\n",
      "skf = StratifiedKFold(labels, n_folds=6)\n",
      "\n",
      "for train_idx, test_idx in skf:\n",
      "    features_train = []\n",
      "    features_test = []\n",
      "    word_features_train = []\n",
      "    word_features_test = []\n",
      "    labels_train = []\n",
      "    labels_test = []\n",
      "\n",
      "    for ii in train_idx:\n",
      "        features_train.append(features[ii])\n",
      "        word_features_train.append(word_data[ii])\n",
      "        labels_train.append(labels[ii])\n",
      "    for jj in test_idx:\n",
      "        features_test.append(features[jj])\n",
      "        word_features_test.append(word_data[jj])\n",
      "        labels_test.append(labels[jj])\n",
      "    '''\n",
      "    print features_train\n",
      "    print\n",
      "    print word_features_train\n",
      "    print\n",
      "    print labels_train\n",
      "    print '+++++++++++++++++++++++++++++++++++++++++'    \n",
      "    print features_test\n",
      "    print\n",
      "    print word_features_test\n",
      "    print\n",
      "    print labels_test\n",
      "    print '----------------------------'   \n",
      "    '''    \n",
      "        \n",
      "    word_features_train = vectorizer.fit_transform(word_features_train).toarray()\n",
      "    features_train = np.hstack((features_train, word_features_train))\n",
      "    word_features_test = vectorizer.transform(word_features_test).toarray()\n",
      "    features_test = np.hstack((features_test, word_features_test))\n",
      "    '''\n",
      "    print features_train\n",
      "    print\n",
      "    print features_test\n",
      "    '''\n",
      "    \n",
      "    features_train = scaler.fit_transform(features_train)\n",
      "    features_train = selector.fit_transform(features_train, labels_train)\n",
      "    features_test = scaler.transform(features_test)\n",
      "    features_test = selector.transform(features_test)\n",
      "\n",
      "    ada = AdaBoostClassifier()\n",
      "    parameters = {'n_estimators': [1, 100], 'random_state': [1, 50]}\n",
      "    clf = GridSearchCV(ada, parameters)\n",
      "    clf.fit(features_train, labels_train)\n",
      "    pred = clf.predict(features_test)\n",
      "\n",
      "    print \"Accuracy: \", clf.score(features_test, labels_test)\n",
      "    print \"Precision: \", precision_score(labels_test, pred)\n",
      "    print \"Recall: \", recall_score(labels_test, pred)\n",
      "    print \"F1_Score: \", f1_score(labels_test, pred)\n",
      "\n",
      "    accuracy.append(clf.score(features_test, labels_test))\n",
      "    precision.append(precision_score(labels_test, pred))\n",
      "    recall.append(recall_score(labels_test, pred))\n",
      "    f1.append(f1_score(labels_test, pred))\n",
      "\n",
      "print \"Average accuracy: \", sum(accuracy) / 6\n",
      "print \"Average precision: \", sum(precision) / 6\n",
      "print \"Average recall: \", sum(recall) / 6\n",
      "print \"Average f1_score: \", sum(f1) / 6"
     ],
     "language": "python",
     "metadata": {},
     "outputs": [
      {
       "output_type": "stream",
       "stream": "stdout",
       "text": [
        "Accuracy:  0.863636363636\n",
        "Precision:  0.0\n",
        "Recall:  0.0\n",
        "F1_Score:  0.0\n",
        "Accuracy: "
       ]
      },
      {
       "output_type": "stream",
       "stream": "stdout",
       "text": [
        " 0.818181818182\n",
        "Precision:  0.0\n",
        "Recall:  0.0\n",
        "F1_Score:  0.0\n",
        "Accuracy: "
       ]
      },
      {
       "output_type": "stream",
       "stream": "stdout",
       "text": [
        " 0.681818181818\n",
        "Precision:  0.25\n",
        "Recall:  0.666666666667\n",
        "F1_Score:  0.363636363636\n",
        "Accuracy: "
       ]
      },
      {
       "output_type": "stream",
       "stream": "stdout",
       "text": [
        " 0.909090909091\n",
        "Precision:  1.0\n",
        "Recall:  0.333333333333\n",
        "F1_Score:  0.5\n",
        "Accuracy: "
       ]
      },
      {
       "output_type": "stream",
       "stream": "stdout",
       "text": [
        " 0.863636363636\n",
        "Precision:  0.0\n",
        "Recall:  0.0\n",
        "F1_Score:  0.0\n",
        "Accuracy: "
       ]
      },
      {
       "output_type": "stream",
       "stream": "stdout",
       "text": [
        " 0.714285714286\n",
        "Precision:  0.2\n",
        "Recall:  0.333333333333\n",
        "F1_Score:  0.25\n",
        "Average accuracy:  0.808441558442\n",
        "Average precision:  0.241666666667\n",
        "Average recall:  0.222222222222\n",
        "Average f1_score:  0.185606060606\n"
       ]
      }
     ],
     "prompt_number": 249
    },
    {
     "cell_type": "code",
     "collapsed": false,
     "input": [
      "accuracy = []\n",
      "precision = []\n",
      "recall = []\n",
      "f1 = []\n",
      "\n",
      "vectorizer = TfidfVectorizer(stop_words=\"english\", lowercase=True, max_df = 0.5)\n",
      "scaler = MinMaxScaler()\n",
      "selector = SelectPercentile(f_classif, percentile=10)\n",
      "skf = StratifiedKFold(labels, n_folds=6)\n",
      "\n",
      "for train_idx, test_idx in skf:\n",
      "    features_train = []\n",
      "    features_test = []\n",
      "    word_features_train = []\n",
      "    word_features_test = []\n",
      "    labels_train = []\n",
      "    labels_test = []\n",
      "\n",
      "    for ii in train_idx:\n",
      "        features_train.append(features[ii])\n",
      "        word_features_train.append(word_data[ii])\n",
      "        labels_train.append(labels[ii])\n",
      "    for jj in test_idx:\n",
      "        features_test.append(features[jj])\n",
      "        word_features_test.append(word_data[jj])\n",
      "        labels_test.append(labels[jj])\n",
      "    '''\n",
      "    print features_train\n",
      "    print\n",
      "    print word_features_train\n",
      "    print\n",
      "    print labels_train\n",
      "    print '+++++++++++++++++++++++++++++++++++++++++'    \n",
      "    print features_test\n",
      "    print\n",
      "    print word_features_test\n",
      "    print\n",
      "    print labels_test\n",
      "    print '----------------------------'   \n",
      "    '''    \n",
      "        \n",
      "    word_features_train = vectorizer.fit_transform(word_features_train).toarray()\n",
      "    \n",
      "    word_features_train = scaler.fit_transform(word_features_train)\n",
      "    \n",
      "    features_train = np.hstack((features_train, word_features_train))\n",
      "    \n",
      "    word_features_test = vectorizer.transform(word_features_test).toarray()\n",
      "    \n",
      "    word_features_test = scaler.fit_transform(word_features_test)\n",
      "    \n",
      "    features_test = np.hstack((features_test, word_features_test))\n",
      "    '''\n",
      "    print features_train\n",
      "    print\n",
      "    print features_test\n",
      "    '''\n",
      "    \n",
      "    #features_train = scaler.fit_transform(features_train)\n",
      "    \n",
      "    features_train = selector.fit_transform(features_train, labels_train)\n",
      "    \n",
      "    #features_test = scaler.transform(features_test)\n",
      "    \n",
      "    features_test = selector.transform(features_test)\n",
      "\n",
      "    ada = AdaBoostClassifier()\n",
      "    parameters = {'n_estimators': [1, 100], 'random_state': [1, 50]}\n",
      "    clf = GridSearchCV(ada, parameters)\n",
      "    clf.fit(features_train, labels_train)\n",
      "    pred = clf.predict(features_test)\n",
      "\n",
      "    print \"Accuracy: \", clf.score(features_test, labels_test)\n",
      "    print \"Precision: \", precision_score(labels_test, pred)\n",
      "    print \"Recall: \", recall_score(labels_test, pred)\n",
      "    print \"F1_Score: \", f1_score(labels_test, pred)\n",
      "\n",
      "    accuracy.append(clf.score(features_test, labels_test))\n",
      "    precision.append(precision_score(labels_test, pred))\n",
      "    recall.append(recall_score(labels_test, pred))\n",
      "    f1.append(f1_score(labels_test, pred))\n",
      "\n",
      "print \"Average accuracy: \", sum(accuracy) / 6\n",
      "print \"Average precision: \", sum(precision) / 6\n",
      "print \"Average recall: \", sum(recall) / 6\n",
      "print \"Average f1_score: \", sum(f1) / 6"
     ],
     "language": "python",
     "metadata": {},
     "outputs": [
      {
       "output_type": "stream",
       "stream": "stdout",
       "text": [
        "Accuracy:  0.863636363636\n",
        "Precision:  0.0\n",
        "Recall:  0.0\n",
        "F1_Score:  0.0\n",
        "Accuracy: "
       ]
      },
      {
       "output_type": "stream",
       "stream": "stdout",
       "text": [
        " 0.818181818182\n",
        "Precision:  0.0\n",
        "Recall:  0.0\n",
        "F1_Score:  0.0\n",
        "Accuracy: "
       ]
      },
      {
       "output_type": "stream",
       "stream": "stdout",
       "text": [
        " 0.590909090909\n",
        "Precision:  0.2\n",
        "Recall:  0.666666666667\n",
        "F1_Score:  0.307692307692\n",
        "Accuracy: "
       ]
      },
      {
       "output_type": "stream",
       "stream": "stdout",
       "text": [
        " 0.909090909091\n",
        "Precision:  1.0\n",
        "Recall:  0.333333333333\n",
        "F1_Score:  0.5\n",
        "Accuracy: "
       ]
      },
      {
       "output_type": "stream",
       "stream": "stdout",
       "text": [
        " 0.863636363636\n",
        "Precision:  0.0\n",
        "Recall:  0.0\n",
        "F1_Score:  0.0\n",
        "Accuracy: "
       ]
      },
      {
       "output_type": "stream",
       "stream": "stdout",
       "text": [
        " 0.714285714286\n",
        "Precision:  0.2\n",
        "Recall:  0.333333333333\n",
        "F1_Score:  0.25\n",
        "Average accuracy:  0.79329004329\n",
        "Average precision:  0.233333333333\n",
        "Average recall:  0.222222222222\n",
        "Average f1_score:  0.176282051282\n"
       ]
      }
     ],
     "prompt_number": 250
    },
    {
     "cell_type": "code",
     "collapsed": false,
     "input": [
      "accuracy = []\n",
      "precision = []\n",
      "recall = []\n",
      "f1 = []\n",
      "\n",
      "vectorizer = TfidfVectorizer(stop_words=\"english\", lowercase=True, max_df = 0.5)\n",
      "scaler = MinMaxScaler()\n",
      "selector = SelectPercentile(f_classif, percentile=20)\n",
      "skf = StratifiedKFold(labels, n_folds=6)\n",
      "\n",
      "for train_idx, test_idx in skf:\n",
      "    features_train = []\n",
      "    features_test = []\n",
      "    word_features_train = []\n",
      "    word_features_test = []\n",
      "    labels_train = []\n",
      "    labels_test = []\n",
      "\n",
      "    for ii in train_idx:\n",
      "        features_train.append(features[ii])\n",
      "        word_features_train.append(word_data[ii])\n",
      "        labels_train.append(labels[ii])\n",
      "    for jj in test_idx:\n",
      "        features_test.append(features[jj])\n",
      "        word_features_test.append(word_data[jj])\n",
      "        labels_test.append(labels[jj])\n",
      "    '''\n",
      "    print features_train\n",
      "    print\n",
      "    print word_features_train\n",
      "    print\n",
      "    print labels_train\n",
      "    print '+++++++++++++++++++++++++++++++++++++++++'    \n",
      "    print features_test\n",
      "    print\n",
      "    print word_features_test\n",
      "    print\n",
      "    print labels_test\n",
      "    print '----------------------------'   \n",
      "    '''    \n",
      "        \n",
      "    word_features_train = vectorizer.fit_transform(word_features_train).toarray()\n",
      "    features_train = np.hstack((features_train, word_features_train))\n",
      "    word_features_test = vectorizer.transform(word_features_test).toarray()\n",
      "    features_test = np.hstack((features_test, word_features_test))\n",
      "    '''\n",
      "    print features_train\n",
      "    print\n",
      "    print features_test\n",
      "    '''\n",
      "    \n",
      "    features_train = scaler.fit_transform(features_train)\n",
      "    features_train = selector.fit_transform(features_train, labels_train)\n",
      "    features_test = scaler.transform(features_test)\n",
      "    features_test = selector.transform(features_test)\n",
      "\n",
      "    ada = AdaBoostClassifier()\n",
      "    parameters = {'n_estimators': [1, 100], 'random_state': [1, 50]}\n",
      "    clf = GridSearchCV(ada, parameters)\n",
      "    clf.fit(features_train, labels_train)\n",
      "    pred = clf.predict(features_test)\n",
      "\n",
      "    print \"Accuracy: \", clf.score(features_test, labels_test)\n",
      "    print \"Precision: \", precision_score(labels_test, pred)\n",
      "    print \"Recall: \", recall_score(labels_test, pred)\n",
      "    print \"F1_Score: \", f1_score(labels_test, pred)\n",
      "\n",
      "    accuracy.append(clf.score(features_test, labels_test))\n",
      "    precision.append(precision_score(labels_test, pred))\n",
      "    recall.append(recall_score(labels_test, pred))\n",
      "    f1.append(f1_score(labels_test, pred))\n",
      "\n",
      "print \"Average accuracy: \", sum(accuracy) / 6\n",
      "print \"Average precision: \", sum(precision) / 6\n",
      "print \"Average recall: \", sum(recall) / 6\n",
      "print \"Average f1_score: \", sum(f1) / 6"
     ],
     "language": "python",
     "metadata": {},
     "outputs": [
      {
       "output_type": "stream",
       "stream": "stdout",
       "text": [
        "Accuracy:  0.863636363636\n",
        "Precision:  0.0\n",
        "Recall:  0.0\n",
        "F1_Score:  0.0\n",
        "Accuracy: "
       ]
      },
      {
       "output_type": "stream",
       "stream": "stdout",
       "text": [
        " 0.818181818182\n",
        "Precision:  0.0\n",
        "Recall:  0.0\n",
        "F1_Score:  0.0\n",
        "Accuracy: "
       ]
      },
      {
       "output_type": "stream",
       "stream": "stdout",
       "text": [
        " 0.727272727273\n",
        "Precision:  0.2\n",
        "Recall:  0.333333333333\n",
        "F1_Score:  0.25\n",
        "Accuracy: "
       ]
      },
      {
       "output_type": "stream",
       "stream": "stdout",
       "text": [
        " 0.909090909091\n",
        "Precision:  1.0\n",
        "Recall:  0.333333333333\n",
        "F1_Score:  0.5\n",
        "Accuracy: "
       ]
      },
      {
       "output_type": "stream",
       "stream": "stdout",
       "text": [
        " 0.863636363636\n",
        "Precision:  0.0\n",
        "Recall:  0.0\n",
        "F1_Score:  0.0\n",
        "Accuracy: "
       ]
      },
      {
       "output_type": "stream",
       "stream": "stdout",
       "text": [
        " 0.666666666667\n",
        "Precision:  0.0\n",
        "Recall:  0.0\n",
        "F1_Score:  0.0\n",
        "Average accuracy:  0.808080808081\n",
        "Average precision:  0.2\n",
        "Average recall:  0.111111111111\n",
        "Average f1_score:  0.125\n"
       ]
      }
     ],
     "prompt_number": 251
    },
    {
     "cell_type": "code",
     "collapsed": false,
     "input": [
      "accuracy = []\n",
      "precision = []\n",
      "recall = []\n",
      "f1 = []\n",
      "\n",
      "vectorizer = TfidfVectorizer(stop_words=\"english\", lowercase=True, max_df = 0.5)\n",
      "scaler = MinMaxScaler()\n",
      "selector = SelectPercentile(f_classif, percentile=5)\n",
      "skf = StratifiedKFold(labels, n_folds=6)\n",
      "\n",
      "for train_idx, test_idx in skf:\n",
      "    features_train = []\n",
      "    features_test = []\n",
      "    word_features_train = []\n",
      "    word_features_test = []\n",
      "    labels_train = []\n",
      "    labels_test = []\n",
      "\n",
      "    for ii in train_idx:\n",
      "        features_train.append(features[ii])\n",
      "        word_features_train.append(word_data[ii])\n",
      "        labels_train.append(labels[ii])\n",
      "    for jj in test_idx:\n",
      "        features_test.append(features[jj])\n",
      "        word_features_test.append(word_data[jj])\n",
      "        labels_test.append(labels[jj])\n",
      "    '''\n",
      "    print features_train\n",
      "    print\n",
      "    print word_features_train\n",
      "    print\n",
      "    print labels_train\n",
      "    print '+++++++++++++++++++++++++++++++++++++++++'    \n",
      "    print features_test\n",
      "    print\n",
      "    print word_features_test\n",
      "    print\n",
      "    print labels_test\n",
      "    print '----------------------------'   \n",
      "    '''    \n",
      "        \n",
      "    word_features_train = vectorizer.fit_transform(word_features_train).toarray()\n",
      "    features_train = np.hstack((features_train, word_features_train))\n",
      "    word_features_test = vectorizer.transform(word_features_test).toarray()\n",
      "    features_test = np.hstack((features_test, word_features_test))\n",
      "    '''\n",
      "    print features_train\n",
      "    print\n",
      "    print features_test\n",
      "    '''\n",
      "    \n",
      "    features_train = scaler.fit_transform(features_train)\n",
      "    features_train = selector.fit_transform(features_train, labels_train)\n",
      "    features_test = scaler.transform(features_test)\n",
      "    features_test = selector.transform(features_test)\n",
      "\n",
      "    ada = AdaBoostClassifier()\n",
      "    parameters = {'n_estimators': [1, 100], 'random_state': [1, 50]}\n",
      "    clf = GridSearchCV(ada, parameters)\n",
      "    clf.fit(features_train, labels_train)\n",
      "    pred = clf.predict(features_test)\n",
      "\n",
      "    print \"Accuracy: \", clf.score(features_test, labels_test)\n",
      "    print \"Precision: \", precision_score(labels_test, pred)\n",
      "    print \"Recall: \", recall_score(labels_test, pred)\n",
      "    print \"F1_Score: \", f1_score(labels_test, pred)\n",
      "\n",
      "    accuracy.append(clf.score(features_test, labels_test))\n",
      "    precision.append(precision_score(labels_test, pred))\n",
      "    recall.append(recall_score(labels_test, pred))\n",
      "    f1.append(f1_score(labels_test, pred))\n",
      "\n",
      "print \"Average accuracy: \", sum(accuracy) / 6\n",
      "print \"Average precision: \", sum(precision) / 6\n",
      "print \"Average recall: \", sum(recall) / 6\n",
      "print \"Average f1_score: \", sum(f1) / 6"
     ],
     "language": "python",
     "metadata": {},
     "outputs": [
      {
       "output_type": "stream",
       "stream": "stdout",
       "text": [
        "Accuracy:  0.863636363636\n",
        "Precision:  0.0\n",
        "Recall:  0.0\n",
        "F1_Score:  0.0\n",
        "Accuracy: "
       ]
      },
      {
       "output_type": "stream",
       "stream": "stdout",
       "text": [
        " 0.772727272727\n",
        "Precision:  0.0\n",
        "Recall:  0.0\n",
        "F1_Score:  0.0\n",
        "Accuracy: "
       ]
      },
      {
       "output_type": "stream",
       "stream": "stdout",
       "text": [
        " 0.909090909091\n",
        "Precision:  1.0\n",
        "Recall:  0.333333333333\n",
        "F1_Score:  0.5\n",
        "Accuracy: "
       ]
      },
      {
       "output_type": "stream",
       "stream": "stdout",
       "text": [
        " 0.909090909091\n",
        "Precision:  1.0\n",
        "Recall:  0.333333333333\n",
        "F1_Score:  0.5\n",
        "Accuracy: "
       ]
      },
      {
       "output_type": "stream",
       "stream": "stdout",
       "text": [
        " 0.863636363636\n",
        "Precision:  0.0\n",
        "Recall:  0.0\n",
        "F1_Score:  0.0\n",
        "Accuracy: "
       ]
      },
      {
       "output_type": "stream",
       "stream": "stdout",
       "text": [
        " 0.761904761905\n",
        "Precision:  0.25\n",
        "Recall:  0.333333333333\n",
        "F1_Score:  0.285714285714\n",
        "Average accuracy:  0.846681096681\n",
        "Average precision:  0.375\n",
        "Average recall:  0.166666666667\n",
        "Average f1_score:  0.214285714286\n"
       ]
      }
     ],
     "prompt_number": 252
    },
    {
     "cell_type": "code",
     "collapsed": false,
     "input": [
      "accuracy = []\n",
      "precision = []\n",
      "recall = []\n",
      "f1 = []\n",
      "\n",
      "vectorizer = TfidfVectorizer(stop_words=\"english\", lowercase=True, max_df = 0.5)\n",
      "scaler = MinMaxScaler()\n",
      "selector = SelectPercentile(f_classif, percentile=10)\n",
      "skf = StratifiedKFold(labels, n_folds=8)\n",
      "\n",
      "for train_idx, test_idx in skf:\n",
      "    features_train = []\n",
      "    features_test = []\n",
      "    word_features_train = []\n",
      "    word_features_test = []\n",
      "    labels_train = []\n",
      "    labels_test = []\n",
      "\n",
      "    for ii in train_idx:\n",
      "        features_train.append(features[ii])\n",
      "        word_features_train.append(word_data[ii])\n",
      "        labels_train.append(labels[ii])\n",
      "    for jj in test_idx:\n",
      "        features_test.append(features[jj])\n",
      "        word_features_test.append(word_data[jj])\n",
      "        labels_test.append(labels[jj])\n",
      "    '''\n",
      "    print features_train\n",
      "    print\n",
      "    print word_features_train\n",
      "    print\n",
      "    print labels_train\n",
      "    print '+++++++++++++++++++++++++++++++++++++++++'    \n",
      "    print features_test\n",
      "    print\n",
      "    print word_features_test\n",
      "    print\n",
      "    print labels_test\n",
      "    print '----------------------------'   \n",
      "    '''    \n",
      "        \n",
      "    word_features_train = vectorizer.fit_transform(word_features_train).toarray()\n",
      "    features_train = np.hstack((features_train, word_features_train))\n",
      "    word_features_test = vectorizer.transform(word_features_test).toarray()\n",
      "    features_test = np.hstack((features_test, word_features_test))\n",
      "    '''\n",
      "    print features_train\n",
      "    print\n",
      "    print features_test\n",
      "    '''\n",
      "    \n",
      "    features_train = scaler.fit_transform(features_train)\n",
      "    features_train = selector.fit_transform(features_train, labels_train)\n",
      "    features_test = scaler.transform(features_test)\n",
      "    features_test = selector.transform(features_test)\n",
      "\n",
      "    ada = AdaBoostClassifier()\n",
      "    parameters = {'n_estimators': [1, 100], 'random_state': [1, 50]}\n",
      "    clf = GridSearchCV(ada, parameters)\n",
      "    clf.fit(features_train, labels_train)\n",
      "    pred = clf.predict(features_test)\n",
      "\n",
      "    print \"Accuracy: \", clf.score(features_test, labels_test)\n",
      "    print \"Precision: \", precision_score(labels_test, pred)\n",
      "    print \"Recall: \", recall_score(labels_test, pred)\n",
      "    print \"F1_Score: \", f1_score(labels_test, pred)\n",
      "\n",
      "    accuracy.append(clf.score(features_test, labels_test))\n",
      "    precision.append(precision_score(labels_test, pred))\n",
      "    recall.append(recall_score(labels_test, pred))\n",
      "    f1.append(f1_score(labels_test, pred))\n",
      "\n",
      "print \"Average accuracy: \", sum(accuracy) / 8\n",
      "print \"Average precision: \", sum(precision) / 8\n",
      "print \"Average recall: \", sum(recall) / 8\n",
      "print \"Average f1_score: \", sum(f1) / 8"
     ],
     "language": "python",
     "metadata": {},
     "outputs": [
      {
       "output_type": "stream",
       "stream": "stdout",
       "text": [
        "Accuracy:  0.833333333333\n",
        "Precision:  0.0\n",
        "Recall:  0.0\n",
        "F1_Score:  0.0\n",
        "Accuracy: "
       ]
      },
      {
       "output_type": "stream",
       "stream": "stdout",
       "text": [
        " 0.823529411765\n",
        "Precision:  0.0\n",
        "Recall:  0.0\n",
        "F1_Score:  0.0\n",
        "Accuracy: "
       ]
      },
      {
       "output_type": "stream",
       "stream": "stdout",
       "text": [
        " 0.9375\n",
        "Precision:  1.0\n",
        "Recall:  0.5\n",
        "F1_Score:  0.666666666667\n",
        "Accuracy: "
       ]
      },
      {
       "output_type": "stream",
       "stream": "stdout",
       "text": [
        " 0.625\n",
        "Precision:  0.166666666667\n",
        "Recall:  0.5\n",
        "F1_Score:  0.25\n",
        "Accuracy: "
       ]
      },
      {
       "output_type": "stream",
       "stream": "stdout",
       "text": [
        " 0.9375\n",
        "Precision:  1.0\n",
        "Recall:  0.5\n",
        "F1_Score:  0.666666666667\n",
        "Accuracy: "
       ]
      },
      {
       "output_type": "stream",
       "stream": "stdout",
       "text": [
        " 0.875\n",
        "Precision:  0.0\n",
        "Recall:  0.0\n",
        "F1_Score:  0.0\n",
        "Accuracy: "
       ]
      },
      {
       "output_type": "stream",
       "stream": "stdout",
       "text": [
        " 0.875\n",
        "Precision:  0.0\n",
        "Recall:  0.0\n",
        "F1_Score:  0.0\n",
        "Accuracy: "
       ]
      },
      {
       "output_type": "stream",
       "stream": "stdout",
       "text": [
        " 0.6875\n",
        "Precision:  0.0\n",
        "Recall:  0.0\n",
        "F1_Score:  0.0\n",
        "Average accuracy:  0.824295343137\n",
        "Average precision:  0.270833333333\n",
        "Average recall:  0.1875\n",
        "Average f1_score:  0.197916666667\n"
       ]
      }
     ],
     "prompt_number": 255
    },
    {
     "cell_type": "code",
     "collapsed": false,
     "input": [
      "accuracy = []\n",
      "precision = []\n",
      "recall = []\n",
      "f1 = []\n",
      "\n",
      "vectorizer = TfidfVectorizer(stop_words=\"english\", lowercase=True, max_df = 0.5)\n",
      "scaler = MinMaxScaler()\n",
      "selector = SelectPercentile(f_classif, percentile=5)\n",
      "skf = StratifiedKFold(labels, n_folds=8)\n",
      "\n",
      "for train_idx, test_idx in skf:\n",
      "    features_train = []\n",
      "    features_test = []\n",
      "    word_features_train = []\n",
      "    word_features_test = []\n",
      "    labels_train = []\n",
      "    labels_test = []\n",
      "\n",
      "    for ii in train_idx:\n",
      "        features_train.append(features[ii])\n",
      "        word_features_train.append(word_data[ii])\n",
      "        labels_train.append(labels[ii])\n",
      "    for jj in test_idx:\n",
      "        features_test.append(features[jj])\n",
      "        word_features_test.append(word_data[jj])\n",
      "        labels_test.append(labels[jj])\n",
      "    '''\n",
      "    print features_train\n",
      "    print\n",
      "    print word_features_train\n",
      "    print\n",
      "    print labels_train\n",
      "    print '+++++++++++++++++++++++++++++++++++++++++'    \n",
      "    print features_test\n",
      "    print\n",
      "    print word_features_test\n",
      "    print\n",
      "    print labels_test\n",
      "    print '----------------------------'   \n",
      "    '''    \n",
      "        \n",
      "    word_features_train = vectorizer.fit_transform(word_features_train).toarray()\n",
      "    features_train = np.hstack((features_train, word_features_train))\n",
      "    word_features_test = vectorizer.transform(word_features_test).toarray()\n",
      "    features_test = np.hstack((features_test, word_features_test))\n",
      "    '''\n",
      "    print features_train\n",
      "    print\n",
      "    print features_test\n",
      "    '''\n",
      "    \n",
      "    features_train = scaler.fit_transform(features_train)\n",
      "    features_train = selector.fit_transform(features_train, labels_train)\n",
      "    features_test = scaler.transform(features_test)\n",
      "    features_test = selector.transform(features_test)\n",
      "\n",
      "    ada = AdaBoostClassifier()\n",
      "    parameters = {'n_estimators': [1, 100], 'random_state': [1, 50]}\n",
      "    clf = GridSearchCV(ada, parameters)\n",
      "    clf.fit(features_train, labels_train)\n",
      "    pred = clf.predict(features_test)\n",
      "\n",
      "    print \"Accuracy: \", clf.score(features_test, labels_test)\n",
      "    print \"Precision: \", precision_score(labels_test, pred)\n",
      "    print \"Recall: \", recall_score(labels_test, pred)\n",
      "    print \"F1_Score: \", f1_score(labels_test, pred)\n",
      "\n",
      "    accuracy.append(clf.score(features_test, labels_test))\n",
      "    precision.append(precision_score(labels_test, pred))\n",
      "    recall.append(recall_score(labels_test, pred))\n",
      "    f1.append(f1_score(labels_test, pred))\n",
      "\n",
      "print \"Average accuracy: \", sum(accuracy) / 8\n",
      "print \"Average precision: \", sum(precision) / 8\n",
      "print \"Average recall: \", sum(recall) / 8\n",
      "print \"Average f1_score: \", sum(f1) / 8"
     ],
     "language": "python",
     "metadata": {},
     "outputs": [
      {
       "output_type": "stream",
       "stream": "stdout",
       "text": [
        "Accuracy:  0.833333333333\n",
        "Precision:  0.0\n",
        "Recall:  0.0\n",
        "F1_Score:  0.0\n",
        "Accuracy: "
       ]
      },
      {
       "output_type": "stream",
       "stream": "stdout",
       "text": [
        " 0.823529411765\n",
        "Precision:  0.0\n",
        "Recall:  0.0\n",
        "F1_Score:  0.0\n",
        "Accuracy: "
       ]
      },
      {
       "output_type": "stream",
       "stream": "stdout",
       "text": [
        " 0.875\n",
        "Precision:  0.5\n",
        "Recall:  1.0\n",
        "F1_Score:  0.666666666667\n",
        "Accuracy: "
       ]
      },
      {
       "output_type": "stream",
       "stream": "stdout",
       "text": [
        " 0.625\n",
        "Precision:  0.166666666667\n",
        "Recall:  0.5\n",
        "F1_Score:  0.25\n",
        "Accuracy: "
       ]
      },
      {
       "output_type": "stream",
       "stream": "stdout",
       "text": [
        " 0.9375\n",
        "Precision:  1.0\n",
        "Recall:  0.5\n",
        "F1_Score:  0.666666666667\n",
        "Accuracy: "
       ]
      },
      {
       "output_type": "stream",
       "stream": "stdout",
       "text": [
        " 0.875\n",
        "Precision:  0.0\n",
        "Recall:  0.0\n",
        "F1_Score:  0.0\n",
        "Accuracy: "
       ]
      },
      {
       "output_type": "stream",
       "stream": "stdout",
       "text": [
        " 0.875\n",
        "Precision:  0.0\n",
        "Recall:  0.0\n",
        "F1_Score:  0.0\n",
        "Accuracy: "
       ]
      },
      {
       "output_type": "stream",
       "stream": "stdout",
       "text": [
        " 0.6875\n",
        "Precision:  0.0\n",
        "Recall:  0.0\n",
        "F1_Score:  0.0\n",
        "Average accuracy:  0.816482843137\n",
        "Average precision:  0.208333333333\n",
        "Average recall:  0.25\n",
        "Average f1_score:  0.197916666667\n"
       ]
      }
     ],
     "prompt_number": 256
    },
    {
     "cell_type": "code",
     "collapsed": false,
     "input": [
      "accuracy = []\n",
      "precision = []\n",
      "recall = []\n",
      "f1 = []\n",
      "\n",
      "vectorizer = TfidfVectorizer(stop_words=\"english\", lowercase=True, max_df = 0.5)\n",
      "scaler = MinMaxScaler()\n",
      "selector = SelectPercentile(f_classif, percentile=5)\n",
      "skf = StratifiedKFold(labels, n_folds=8)\n",
      "\n",
      "for train_idx, test_idx in skf:\n",
      "    features_train = []\n",
      "    features_test = []\n",
      "    word_features_train = []\n",
      "    word_features_test = []\n",
      "    labels_train = []\n",
      "    labels_test = []\n",
      "\n",
      "    for ii in train_idx:\n",
      "        features_train.append(features[ii])\n",
      "        word_features_train.append(word_data[ii])\n",
      "        labels_train.append(labels[ii])\n",
      "    for jj in test_idx:\n",
      "        features_test.append(features[jj])\n",
      "        word_features_test.append(word_data[jj])\n",
      "        labels_test.append(labels[jj])\n",
      "    '''\n",
      "    print features_train\n",
      "    print\n",
      "    print word_features_train\n",
      "    print\n",
      "    print labels_train\n",
      "    print '+++++++++++++++++++++++++++++++++++++++++'    \n",
      "    print features_test\n",
      "    print\n",
      "    print word_features_test\n",
      "    print\n",
      "    print labels_test\n",
      "    print '----------------------------'   \n",
      "    '''    \n",
      "        \n",
      "    word_features_train = vectorizer.fit_transform(word_features_train).toarray()\n",
      "    features_train = np.hstack((features_train, word_features_train))\n",
      "    word_features_test = vectorizer.transform(word_features_test).toarray()\n",
      "    features_test = np.hstack((features_test, word_features_test))\n",
      "    '''\n",
      "    print features_train\n",
      "    print\n",
      "    print features_test\n",
      "    '''\n",
      "    \n",
      "    features_train = scaler.fit_transform(features_train)\n",
      "    features_train = selector.fit_transform(features_train, labels_train)\n",
      "    features_test = scaler.transform(features_test)\n",
      "    features_test = selector.transform(features_test)\n",
      "\n",
      "    ada = AdaBoostClassifier()\n",
      "    parameters = {'n_estimators': [1, 100], 'random_state': [1, 50]}\n",
      "    clf = GridSearchCV(ada, parameters)\n",
      "    clf.fit(features_train, labels_train)\n",
      "    pred = clf.predict(features_test)\n",
      "\n",
      "    print \"Accuracy: \", clf.score(features_test, labels_test)\n",
      "    print \"Precision: \", precision_score(labels_test, pred)\n",
      "    print \"Recall: \", recall_score(labels_test, pred)\n",
      "    print \"F1_Score: \", f1_score(labels_test, pred)\n",
      "\n",
      "    accuracy.append(clf.score(features_test, labels_test))\n",
      "    precision.append(precision_score(labels_test, pred))\n",
      "    recall.append(recall_score(labels_test, pred))\n",
      "    f1.append(f1_score(labels_test, pred))\n",
      "\n",
      "print \"Average accuracy: \", sum(accuracy) / 10\n",
      "print \"Average precision: \", sum(precision) / 10\n",
      "print \"Average recall: \", sum(recall) / 10\n",
      "print \"Average f1_score: \", sum(f1) / 10"
     ],
     "language": "python",
     "metadata": {},
     "outputs": [
      {
       "output_type": "stream",
       "stream": "stdout",
       "text": [
        "Accuracy:  0.857142857143\n",
        "Precision:  0.0\n",
        "Recall:  0.0\n",
        "F1_Score:  0.0\n",
        "Accuracy: "
       ]
      },
      {
       "output_type": "stream",
       "stream": "stdout",
       "text": [
        " 0.714285714286\n",
        "Precision:  0.0\n",
        "Recall:  0.0\n",
        "F1_Score:  0.0\n",
        "Accuracy: "
       ]
      },
      {
       "output_type": "stream",
       "stream": "stdout",
       "text": [
        " 0.714285714286\n",
        "Precision:  0.0\n",
        "Recall:  0.0\n",
        "F1_Score:  0.0\n",
        "Accuracy: "
       ]
      },
      {
       "output_type": "stream",
       "stream": "stdout",
       "text": [
        " 0.846153846154\n",
        "Precision:  0.5\n",
        "Recall:  0.5\n",
        "F1_Score:  0.5\n",
        "Accuracy: "
       ]
      },
      {
       "output_type": "stream",
       "stream": "stdout",
       "text": [
        " 0.538461538462\n",
        "Precision:  0.166666666667\n",
        "Recall:  0.5\n",
        "F1_Score:  0.25\n",
        "Accuracy: "
       ]
      },
      {
       "output_type": "stream",
       "stream": "stdout",
       "text": [
        " 0.923076923077\n",
        "Precision:  1.0\n",
        "Recall:  0.5\n",
        "F1_Score:  0.666666666667\n",
        "Accuracy: "
       ]
      },
      {
       "output_type": "stream",
       "stream": "stdout",
       "text": [
        " 0.846153846154\n",
        "Precision:  0.0\n",
        "Recall:  0.0\n",
        "F1_Score:  0.0\n",
        "Accuracy: "
       ]
      },
      {
       "output_type": "stream",
       "stream": "stdout",
       "text": [
        " 0.846153846154\n",
        "Precision:  0.0\n",
        "Recall:  0.0\n",
        "F1_Score:  0.0\n",
        "Accuracy: "
       ]
      },
      {
       "output_type": "stream",
       "stream": "stdout",
       "text": [
        " 0.916666666667\n",
        "Precision:  0.0\n",
        "Recall:  0.0\n",
        "F1_Score:  0.0\n",
        "Accuracy: "
       ]
      },
      {
       "output_type": "stream",
       "stream": "stdout",
       "text": [
        " 0.583333333333\n",
        "Precision:  0.166666666667\n",
        "Recall:  1.0\n",
        "F1_Score:  0.285714285714\n",
        "Average accuracy:  0.778571428571\n",
        "Average precision:  0.183333333333\n",
        "Average recall:  0.25\n",
        "Average f1_score:  0.170238095238\n"
       ]
      }
     ],
     "prompt_number": 257
    },
    {
     "cell_type": "code",
     "collapsed": false,
     "input": [
      "accuracy = []\n",
      "precision = []\n",
      "recall = []\n",
      "f1 = []\n",
      "\n",
      "vectorizer = TfidfVectorizer(stop_words=\"english\", lowercase=True, max_df = 0.5)\n",
      "scaler = MinMaxScaler()\n",
      "selector = SelectPercentile(f_classif, percentile=5)\n",
      "cv = StratifiedShuffleSplit(labels, 100)\n",
      "\n",
      "for train_idx, test_idx in cv:\n",
      "    features_train = []\n",
      "    features_test = []\n",
      "    word_features_train = []\n",
      "    word_features_test = []\n",
      "    labels_train = []\n",
      "    labels_test = []\n",
      "\n",
      "    for ii in train_idx:\n",
      "        features_train.append(features[ii])\n",
      "        word_features_train.append(word_data[ii])\n",
      "        labels_train.append(labels[ii])\n",
      "    for jj in test_idx:\n",
      "        features_test.append(features[jj])\n",
      "        word_features_test.append(word_data[jj])\n",
      "        labels_test.append(labels[jj])\n",
      "    '''\n",
      "    print features_train\n",
      "    print\n",
      "    print word_features_train\n",
      "    print\n",
      "    print labels_train\n",
      "    print '+++++++++++++++++++++++++++++++++++++++++'    \n",
      "    print features_test\n",
      "    print\n",
      "    print word_features_test\n",
      "    print\n",
      "    print labels_test\n",
      "    print '----------------------------'   \n",
      "    '''    \n",
      "        \n",
      "    word_features_train = vectorizer.fit_transform(word_features_train).toarray()\n",
      "    features_train = np.hstack((features_train, word_features_train))\n",
      "    word_features_test = vectorizer.transform(word_features_test).toarray()\n",
      "    features_test = np.hstack((features_test, word_features_test))\n",
      "    '''\n",
      "    print features_train\n",
      "    print\n",
      "    print features_test\n",
      "    '''\n",
      "    \n",
      "    features_train = scaler.fit_transform(features_train)\n",
      "    features_train = selector.fit_transform(features_train, labels_train)\n",
      "    features_test = scaler.transform(features_test)\n",
      "    features_test = selector.transform(features_test)\n",
      "\n",
      "    ada = AdaBoostClassifier()\n",
      "    parameters = {'n_estimators': [1, 100], 'random_state': [1, 50]}\n",
      "    clf = GridSearchCV(ada, parameters)\n",
      "    clf.fit(features_train, labels_train)\n",
      "    pred = clf.predict(features_test)\n",
      "\n",
      "    print \"Accuracy: \", clf.score(features_test, labels_test)\n",
      "    print \"Precision: \", precision_score(labels_test, pred)\n",
      "    print \"Recall: \", recall_score(labels_test, pred)\n",
      "    print \"F1_Score: \", f1_score(labels_test, pred)\n",
      "\n",
      "    accuracy.append(clf.score(features_test, labels_test))\n",
      "    precision.append(precision_score(labels_test, pred))\n",
      "    recall.append(recall_score(labels_test, pred))\n",
      "    f1.append(f1_score(labels_test, pred))\n",
      "\n",
      "print \"Average accuracy: \", sum(accuracy) / 100\n",
      "print \"Average precision: \", sum(precision) / 100\n",
      "print \"Average recall: \", sum(recall) / 100\n",
      "print \"Average f1_score: \", sum(f1) / 100"
     ],
     "language": "python",
     "metadata": {},
     "outputs": [
      {
       "output_type": "stream",
       "stream": "stdout",
       "text": [
        "Accuracy:  0.857142857143\n",
        "Precision:  0.0\n",
        "Recall:  0.0\n",
        "F1_Score:  0.0\n",
        "Accuracy: "
       ]
      },
      {
       "output_type": "stream",
       "stream": "stdout",
       "text": [
        " 0.857142857143\n",
        "Precision:  0.5\n",
        "Recall:  1.0\n",
        "F1_Score:  0.666666666667\n",
        "Accuracy: "
       ]
      },
      {
       "output_type": "stream",
       "stream": "stdout",
       "text": [
        " 0.785714285714\n",
        "Precision:  0.333333333333\n",
        "Recall:  0.5\n",
        "F1_Score:  0.4\n",
        "Accuracy: "
       ]
      },
      {
       "output_type": "stream",
       "stream": "stdout",
       "text": [
        " 0.857142857143\n",
        "Precision:  0.0\n",
        "Recall:  0.0\n",
        "F1_Score:  0.0\n",
        "Accuracy: "
       ]
      },
      {
       "output_type": "stream",
       "stream": "stdout",
       "text": [
        " 0.857142857143\n",
        "Precision:  0.0\n",
        "Recall:  0.0\n",
        "F1_Score:  0.0\n",
        "Accuracy: "
       ]
      },
      {
       "output_type": "stream",
       "stream": "stdout",
       "text": [
        " 0.714285714286\n",
        "Precision:  0.0\n",
        "Recall:  0.0\n",
        "F1_Score:  0.0\n",
        "Accuracy: "
       ]
      },
      {
       "output_type": "stream",
       "stream": "stdout",
       "text": [
        " 0.857142857143\n",
        "Precision:  0.5\n",
        "Recall:  0.5\n",
        "F1_Score:  0.5\n",
        "Accuracy: "
       ]
      },
      {
       "output_type": "stream",
       "stream": "stdout",
       "text": [
        " 0.785714285714\n",
        "Precision:  0.333333333333\n",
        "Recall:  0.5\n",
        "F1_Score:  0.4\n",
        "Accuracy: "
       ]
      },
      {
       "output_type": "stream",
       "stream": "stdout",
       "text": [
        " 0.857142857143\n",
        "Precision:  0.0\n",
        "Recall:  0.0\n",
        "F1_Score:  0.0\n",
        "Accuracy: "
       ]
      },
      {
       "output_type": "stream",
       "stream": "stdout",
       "text": [
        " 0.857142857143\n",
        "Precision:  0.0\n",
        "Recall:  0.0\n",
        "F1_Score:  0.0\n",
        "Accuracy: "
       ]
      },
      {
       "output_type": "stream",
       "stream": "stdout",
       "text": [
        " 0.785714285714\n",
        "Precision:  0.0\n",
        "Recall:  0.0\n",
        "F1_Score:  0.0\n",
        "Accuracy: "
       ]
      },
      {
       "output_type": "stream",
       "stream": "stdout",
       "text": [
        " 0.785714285714\n",
        "Precision:  0.0\n",
        "Recall:  0.0\n",
        "F1_Score:  0.0\n",
        "Accuracy: "
       ]
      },
      {
       "output_type": "stream",
       "stream": "stdout",
       "text": [
        " 0.785714285714\n",
        "Precision:  0.0\n",
        "Recall:  0.0\n",
        "F1_Score:  0.0\n",
        "Accuracy: "
       ]
      },
      {
       "output_type": "stream",
       "stream": "stdout",
       "text": [
        " 0.714285714286\n",
        "Precision:  0.0\n",
        "Recall:  0.0\n",
        "F1_Score:  0.0\n",
        "Accuracy: "
       ]
      },
      {
       "output_type": "stream",
       "stream": "stdout",
       "text": [
        " 0.928571428571\n",
        "Precision:  1.0\n",
        "Recall:  0.5\n",
        "F1_Score:  0.666666666667\n",
        "Accuracy: "
       ]
      },
      {
       "output_type": "stream",
       "stream": "stdout",
       "text": [
        " 0.857142857143\n",
        "Precision:  0.0\n",
        "Recall:  0.0\n",
        "F1_Score:  0.0\n",
        "Accuracy: "
       ]
      },
      {
       "output_type": "stream",
       "stream": "stdout",
       "text": [
        " 0.714285714286\n",
        "Precision:  0.0\n",
        "Recall:  0.0\n",
        "F1_Score:  0.0\n",
        "Accuracy: "
       ]
      },
      {
       "output_type": "stream",
       "stream": "stdout",
       "text": [
        " 0.785714285714\n",
        "Precision:  0.0\n",
        "Recall:  0.0\n",
        "F1_Score:  0.0\n",
        "Accuracy: "
       ]
      },
      {
       "output_type": "stream",
       "stream": "stdout",
       "text": [
        " 0.857142857143\n",
        "Precision:  0.0\n",
        "Recall:  0.0\n",
        "F1_Score:  0.0\n",
        "Accuracy: "
       ]
      },
      {
       "output_type": "stream",
       "stream": "stdout",
       "text": [
        " 0.857142857143\n",
        "Precision:  0.0\n",
        "Recall:  0.0\n",
        "F1_Score:  0.0\n",
        "Accuracy: "
       ]
      },
      {
       "output_type": "stream",
       "stream": "stdout",
       "text": [
        " 0.857142857143\n",
        "Precision:  0.5\n",
        "Recall:  0.5\n",
        "F1_Score:  0.5\n",
        "Accuracy: "
       ]
      },
      {
       "output_type": "stream",
       "stream": "stdout",
       "text": [
        " 0.857142857143\n",
        "Precision:  0.0\n",
        "Recall:  0.0\n",
        "F1_Score:  0.0\n",
        "Accuracy: "
       ]
      },
      {
       "output_type": "stream",
       "stream": "stdout",
       "text": [
        " 0.857142857143\n",
        "Precision:  0.0\n",
        "Recall:  0.0\n",
        "F1_Score:  0.0\n",
        "Accuracy: "
       ]
      },
      {
       "output_type": "stream",
       "stream": "stdout",
       "text": [
        " 0.714285714286\n",
        "Precision:  0.25\n",
        "Recall:  0.5\n",
        "F1_Score:  0.333333333333\n",
        "Accuracy: "
       ]
      },
      {
       "output_type": "stream",
       "stream": "stdout",
       "text": [
        " 0.785714285714\n",
        "Precision:  0.0\n",
        "Recall:  0.0\n",
        "F1_Score:  0.0\n",
        "Accuracy: "
       ]
      },
      {
       "output_type": "stream",
       "stream": "stdout",
       "text": [
        " 0.857142857143\n",
        "Precision:  0.5\n",
        "Recall:  0.5\n",
        "F1_Score:  0.5\n",
        "Accuracy: "
       ]
      },
      {
       "output_type": "stream",
       "stream": "stdout",
       "text": [
        " 0.857142857143\n",
        "Precision:  0.0\n",
        "Recall:  0.0\n",
        "F1_Score:  0.0\n",
        "Accuracy: "
       ]
      },
      {
       "output_type": "stream",
       "stream": "stdout",
       "text": [
        " 0.928571428571\n",
        "Precision:  1.0\n",
        "Recall:  0.5\n",
        "F1_Score:  0.666666666667\n",
        "Accuracy: "
       ]
      },
      {
       "output_type": "stream",
       "stream": "stdout",
       "text": [
        " 0.714285714286\n",
        "Precision:  0.0\n",
        "Recall:  0.0\n",
        "F1_Score:  0.0\n",
        "Accuracy: "
       ]
      },
      {
       "output_type": "stream",
       "stream": "stdout",
       "text": [
        " 0.857142857143\n",
        "Precision:  0.0\n",
        "Recall:  0.0\n",
        "F1_Score:  0.0\n",
        "Accuracy: "
       ]
      },
      {
       "output_type": "stream",
       "stream": "stdout",
       "text": [
        " 0.857142857143\n",
        "Precision:  0.0\n",
        "Recall:  0.0\n",
        "F1_Score:  0.0\n",
        "Accuracy: "
       ]
      },
      {
       "output_type": "stream",
       "stream": "stdout",
       "text": [
        " 0.857142857143\n",
        "Precision:  0.0\n",
        "Recall:  0.0\n",
        "F1_Score:  0.0\n",
        "Accuracy: "
       ]
      },
      {
       "output_type": "stream",
       "stream": "stdout",
       "text": [
        " 0.857142857143\n",
        "Precision:  0.0\n",
        "Recall:  0.0\n",
        "F1_Score:  0.0\n",
        "Accuracy: "
       ]
      },
      {
       "output_type": "stream",
       "stream": "stdout",
       "text": [
        " 0.928571428571\n",
        "Precision:  1.0\n",
        "Recall:  0.5\n",
        "F1_Score:  0.666666666667\n",
        "Accuracy: "
       ]
      },
      {
       "output_type": "stream",
       "stream": "stdout",
       "text": [
        " 0.928571428571\n",
        "Precision:  1.0\n",
        "Recall:  0.5\n",
        "F1_Score:  0.666666666667\n",
        "Accuracy: "
       ]
      },
      {
       "output_type": "stream",
       "stream": "stdout",
       "text": [
        " 0.714285714286\n",
        "Precision:  0.0\n",
        "Recall:  0.0\n",
        "F1_Score:  0.0\n",
        "Accuracy: "
       ]
      },
      {
       "output_type": "stream",
       "stream": "stdout",
       "text": [
        " 0.714285714286\n",
        "Precision:  0.0\n",
        "Recall:  0.0\n",
        "F1_Score:  0.0\n",
        "Accuracy: "
       ]
      },
      {
       "output_type": "stream",
       "stream": "stdout",
       "text": [
        " 0.857142857143\n",
        "Precision:  0.0\n",
        "Recall:  0.0\n",
        "F1_Score:  0.0\n",
        "Accuracy: "
       ]
      },
      {
       "output_type": "stream",
       "stream": "stdout",
       "text": [
        " 0.857142857143\n",
        "Precision:  0.0\n",
        "Recall:  0.0\n",
        "F1_Score:  0.0\n",
        "Accuracy: "
       ]
      },
      {
       "output_type": "stream",
       "stream": "stdout",
       "text": [
        " 0.857142857143\n",
        "Precision:  0.5\n",
        "Recall:  0.5\n",
        "F1_Score:  0.5\n",
        "Accuracy: "
       ]
      },
      {
       "output_type": "stream",
       "stream": "stdout",
       "text": [
        " 0.857142857143\n",
        "Precision:  0.0\n",
        "Recall:  0.0\n",
        "F1_Score:  0.0\n",
        "Accuracy: "
       ]
      },
      {
       "output_type": "stream",
       "stream": "stdout",
       "text": [
        " 0.642857142857\n",
        "Precision:  0.0\n",
        "Recall:  0.0\n",
        "F1_Score:  0.0\n",
        "Accuracy: "
       ]
      },
      {
       "output_type": "stream",
       "stream": "stdout",
       "text": [
        " 0.857142857143\n",
        "Precision:  0.0\n",
        "Recall:  0.0\n",
        "F1_Score:  0.0\n",
        "Accuracy: "
       ]
      },
      {
       "output_type": "stream",
       "stream": "stdout",
       "text": [
        " 0.857142857143\n",
        "Precision:  0.0\n",
        "Recall:  0.0\n",
        "F1_Score:  0.0\n",
        "Accuracy: "
       ]
      },
      {
       "output_type": "stream",
       "stream": "stdout",
       "text": [
        " 0.642857142857\n",
        "Precision:  0.0\n",
        "Recall:  0.0\n",
        "F1_Score:  0.0\n",
        "Accuracy: "
       ]
      },
      {
       "output_type": "stream",
       "stream": "stdout",
       "text": [
        " 0.714285714286\n",
        "Precision:  0.0\n",
        "Recall:  0.0\n",
        "F1_Score:  0.0\n",
        "Accuracy: "
       ]
      },
      {
       "output_type": "stream",
       "stream": "stdout",
       "text": [
        " 0.857142857143\n",
        "Precision:  0.0\n",
        "Recall:  0.0\n",
        "F1_Score:  0.0\n",
        "Accuracy: "
       ]
      },
      {
       "output_type": "stream",
       "stream": "stdout",
       "text": [
        " 0.928571428571\n",
        "Precision:  1.0\n",
        "Recall:  0.5\n",
        "F1_Score:  0.666666666667\n",
        "Accuracy: "
       ]
      },
      {
       "output_type": "stream",
       "stream": "stdout",
       "text": [
        " 0.785714285714\n",
        "Precision:  0.0\n",
        "Recall:  0.0\n",
        "F1_Score:  0.0\n",
        "Accuracy: "
       ]
      },
      {
       "output_type": "stream",
       "stream": "stdout",
       "text": [
        " 0.928571428571\n",
        "Precision:  1.0\n",
        "Recall:  0.5\n",
        "F1_Score:  0.666666666667\n",
        "Accuracy: "
       ]
      },
      {
       "output_type": "stream",
       "stream": "stdout",
       "text": [
        " 0.785714285714\n",
        "Precision:  0.0\n",
        "Recall:  0.0\n",
        "F1_Score:  0.0\n",
        "Accuracy: "
       ]
      },
      {
       "output_type": "stream",
       "stream": "stdout",
       "text": [
        " 0.857142857143\n",
        "Precision:  0.0\n",
        "Recall:  0.0\n",
        "F1_Score:  0.0\n",
        "Accuracy: "
       ]
      },
      {
       "output_type": "stream",
       "stream": "stdout",
       "text": [
        " 0.857142857143\n",
        "Precision:  0.0\n",
        "Recall:  0.0\n",
        "F1_Score:  0.0\n",
        "Accuracy: "
       ]
      },
      {
       "output_type": "stream",
       "stream": "stdout",
       "text": [
        " 0.928571428571\n",
        "Precision:  1.0\n",
        "Recall:  0.5\n",
        "F1_Score:  0.666666666667\n",
        "Accuracy: "
       ]
      },
      {
       "output_type": "stream",
       "stream": "stdout",
       "text": [
        " 0.857142857143\n",
        "Precision:  0.0\n",
        "Recall:  0.0\n",
        "F1_Score:  0.0\n",
        "Accuracy: "
       ]
      },
      {
       "output_type": "stream",
       "stream": "stdout",
       "text": [
        " 0.857142857143\n",
        "Precision:  0.0\n",
        "Recall:  0.0\n",
        "F1_Score:  0.0\n",
        "Accuracy: "
       ]
      },
      {
       "output_type": "stream",
       "stream": "stdout",
       "text": [
        " 0.857142857143\n",
        "Precision:  0.0\n",
        "Recall:  0.0\n",
        "F1_Score:  0.0\n",
        "Accuracy: "
       ]
      },
      {
       "output_type": "stream",
       "stream": "stdout",
       "text": [
        " 0.857142857143\n",
        "Precision:  0.0\n",
        "Recall:  0.0\n",
        "F1_Score:  0.0\n",
        "Accuracy: "
       ]
      },
      {
       "output_type": "stream",
       "stream": "stdout",
       "text": [
        " 0.857142857143\n",
        "Precision:  0.0\n",
        "Recall:  0.0\n",
        "F1_Score:  0.0\n",
        "Accuracy: "
       ]
      },
      {
       "output_type": "stream",
       "stream": "stdout",
       "text": [
        " 0.785714285714\n",
        "Precision:  0.0\n",
        "Recall:  0.0\n",
        "F1_Score:  0.0\n",
        "Accuracy: "
       ]
      },
      {
       "output_type": "stream",
       "stream": "stdout",
       "text": [
        " 0.857142857143\n",
        "Precision:  0.0\n",
        "Recall:  0.0\n",
        "F1_Score:  0.0\n",
        "Accuracy: "
       ]
      },
      {
       "output_type": "stream",
       "stream": "stdout",
       "text": [
        " 0.857142857143\n",
        "Precision:  0.5\n",
        "Recall:  1.0\n",
        "F1_Score:  0.666666666667\n",
        "Accuracy: "
       ]
      },
      {
       "output_type": "stream",
       "stream": "stdout",
       "text": [
        " 1.0\n",
        "Precision:  1.0\n",
        "Recall:  1.0\n",
        "F1_Score:  1.0\n",
        "Accuracy: "
       ]
      },
      {
       "output_type": "stream",
       "stream": "stdout",
       "text": [
        " 0.785714285714\n",
        "Precision:  0.333333333333\n",
        "Recall:  0.5\n",
        "F1_Score:  0.4\n",
        "Accuracy: "
       ]
      },
      {
       "output_type": "stream",
       "stream": "stdout",
       "text": [
        " 0.785714285714\n",
        "Precision:  0.0\n",
        "Recall:  0.0\n",
        "F1_Score:  0.0\n",
        "Accuracy: "
       ]
      },
      {
       "output_type": "stream",
       "stream": "stdout",
       "text": [
        " 0.857142857143\n",
        "Precision:  0.0\n",
        "Recall:  0.0\n",
        "F1_Score:  0.0\n",
        "Accuracy: "
       ]
      },
      {
       "output_type": "stream",
       "stream": "stdout",
       "text": [
        " 0.928571428571\n",
        "Precision:  1.0\n",
        "Recall:  0.5\n",
        "F1_Score:  0.666666666667\n",
        "Accuracy: "
       ]
      },
      {
       "output_type": "stream",
       "stream": "stdout",
       "text": [
        " 0.857142857143\n",
        "Precision:  0.0\n",
        "Recall:  0.0\n",
        "F1_Score:  0.0\n",
        "Accuracy: "
       ]
      },
      {
       "output_type": "stream",
       "stream": "stdout",
       "text": [
        " 0.785714285714\n",
        "Precision:  0.0\n",
        "Recall:  0.0\n",
        "F1_Score:  0.0\n",
        "Accuracy: "
       ]
      },
      {
       "output_type": "stream",
       "stream": "stdout",
       "text": [
        " 0.714285714286\n",
        "Precision:  0.25\n",
        "Recall:  0.5\n",
        "F1_Score:  0.333333333333\n",
        "Accuracy: "
       ]
      },
      {
       "output_type": "stream",
       "stream": "stdout",
       "text": [
        " 0.857142857143\n",
        "Precision:  0.0\n",
        "Recall:  0.0\n",
        "F1_Score:  0.0\n",
        "Accuracy: "
       ]
      },
      {
       "output_type": "stream",
       "stream": "stdout",
       "text": [
        " 0.928571428571\n",
        "Precision:  1.0\n",
        "Recall:  0.5\n",
        "F1_Score:  0.666666666667\n",
        "Accuracy: "
       ]
      },
      {
       "output_type": "stream",
       "stream": "stdout",
       "text": [
        " 0.857142857143\n",
        "Precision:  0.0\n",
        "Recall:  0.0\n",
        "F1_Score:  0.0\n",
        "Accuracy: "
       ]
      },
      {
       "output_type": "stream",
       "stream": "stdout",
       "text": [
        " 0.857142857143\n",
        "Precision:  0.0\n",
        "Recall:  0.0\n",
        "F1_Score:  0.0\n",
        "Accuracy: "
       ]
      },
      {
       "output_type": "stream",
       "stream": "stdout",
       "text": [
        " 0.642857142857\n",
        "Precision:  0.0\n",
        "Recall:  0.0\n",
        "F1_Score:  0.0\n",
        "Accuracy: "
       ]
      },
      {
       "output_type": "stream",
       "stream": "stdout",
       "text": [
        " 0.928571428571\n",
        "Precision:  1.0\n",
        "Recall:  0.5\n",
        "F1_Score:  0.666666666667\n",
        "Accuracy: "
       ]
      },
      {
       "output_type": "stream",
       "stream": "stdout",
       "text": [
        " 0.857142857143\n",
        "Precision:  0.0\n",
        "Recall:  0.0\n",
        "F1_Score:  0.0\n",
        "Accuracy: "
       ]
      },
      {
       "output_type": "stream",
       "stream": "stdout",
       "text": [
        " 0.857142857143\n",
        "Precision:  0.0\n",
        "Recall:  0.0\n",
        "F1_Score:  0.0\n",
        "Accuracy: "
       ]
      },
      {
       "output_type": "stream",
       "stream": "stdout",
       "text": [
        " 0.857142857143\n",
        "Precision:  0.0\n",
        "Recall:  0.0\n",
        "F1_Score:  0.0\n",
        "Accuracy: "
       ]
      },
      {
       "output_type": "stream",
       "stream": "stdout",
       "text": [
        " 0.928571428571\n",
        "Precision:  1.0\n",
        "Recall:  0.5\n",
        "F1_Score:  0.666666666667\n",
        "Accuracy: "
       ]
      },
      {
       "output_type": "stream",
       "stream": "stdout",
       "text": [
        " 0.857142857143\n",
        "Precision:  0.0\n",
        "Recall:  0.0\n",
        "F1_Score:  0.0\n",
        "Accuracy: "
       ]
      },
      {
       "output_type": "stream",
       "stream": "stdout",
       "text": [
        " 0.785714285714\n",
        "Precision:  0.0\n",
        "Recall:  0.0\n",
        "F1_Score:  0.0\n",
        "Accuracy: "
       ]
      },
      {
       "output_type": "stream",
       "stream": "stdout",
       "text": [
        " 0.714285714286\n",
        "Precision:  0.0\n",
        "Recall:  0.0\n",
        "F1_Score:  0.0\n",
        "Accuracy: "
       ]
      },
      {
       "output_type": "stream",
       "stream": "stdout",
       "text": [
        " 0.857142857143\n",
        "Precision:  0.0\n",
        "Recall:  0.0\n",
        "F1_Score:  0.0\n",
        "Accuracy: "
       ]
      },
      {
       "output_type": "stream",
       "stream": "stdout",
       "text": [
        " 0.857142857143\n",
        "Precision:  0.0\n",
        "Recall:  0.0\n",
        "F1_Score:  0.0\n",
        "Accuracy: "
       ]
      },
      {
       "output_type": "stream",
       "stream": "stdout",
       "text": [
        " 0.785714285714\n",
        "Precision:  0.0\n",
        "Recall:  0.0\n",
        "F1_Score:  0.0\n",
        "Accuracy: "
       ]
      },
      {
       "output_type": "stream",
       "stream": "stdout",
       "text": [
        " 0.714285714286\n",
        "Precision:  0.0\n",
        "Recall:  0.0\n",
        "F1_Score:  0.0\n",
        "Accuracy: "
       ]
      },
      {
       "output_type": "stream",
       "stream": "stdout",
       "text": [
        " 0.642857142857\n",
        "Precision:  0.0\n",
        "Recall:  0.0\n",
        "F1_Score:  0.0\n",
        "Accuracy: "
       ]
      },
      {
       "output_type": "stream",
       "stream": "stdout",
       "text": [
        " 0.857142857143\n",
        "Precision:  0.0\n",
        "Recall:  0.0\n",
        "F1_Score:  0.0\n",
        "Accuracy: "
       ]
      },
      {
       "output_type": "stream",
       "stream": "stdout",
       "text": [
        " 0.857142857143\n",
        "Precision:  0.0\n",
        "Recall:  0.0\n",
        "F1_Score:  0.0\n",
        "Accuracy: "
       ]
      },
      {
       "output_type": "stream",
       "stream": "stdout",
       "text": [
        " 0.642857142857\n",
        "Precision:  0.0\n",
        "Recall:  0.0\n",
        "F1_Score:  0.0\n",
        "Accuracy: "
       ]
      },
      {
       "output_type": "stream",
       "stream": "stdout",
       "text": [
        " 0.714285714286\n",
        "Precision:  0.0\n",
        "Recall:  0.0\n",
        "F1_Score:  0.0\n",
        "Accuracy: "
       ]
      },
      {
       "output_type": "stream",
       "stream": "stdout",
       "text": [
        " 0.928571428571\n",
        "Precision:  1.0\n",
        "Recall:  0.5\n",
        "F1_Score:  0.666666666667\n",
        "Accuracy: "
       ]
      },
      {
       "output_type": "stream",
       "stream": "stdout",
       "text": [
        " 0.714285714286\n",
        "Precision:  0.25\n",
        "Recall:  0.5\n",
        "F1_Score:  0.333333333333\n",
        "Accuracy: "
       ]
      },
      {
       "output_type": "stream",
       "stream": "stdout",
       "text": [
        " 0.857142857143\n",
        "Precision:  0.0\n",
        "Recall:  0.0\n",
        "F1_Score:  0.0\n",
        "Accuracy: "
       ]
      },
      {
       "output_type": "stream",
       "stream": "stdout",
       "text": [
        " 0.857142857143\n",
        "Precision:  0.0\n",
        "Recall:  0.0\n",
        "F1_Score:  0.0\n",
        "Accuracy: "
       ]
      },
      {
       "output_type": "stream",
       "stream": "stdout",
       "text": [
        " 0.857142857143\n",
        "Precision:  0.0\n",
        "Recall:  0.0\n",
        "F1_Score:  0.0\n",
        "Accuracy: "
       ]
      },
      {
       "output_type": "stream",
       "stream": "stdout",
       "text": [
        " 0.785714285714\n",
        "Precision:  0.0\n",
        "Recall:  0.0\n",
        "F1_Score:  0.0\n",
        "Accuracy: "
       ]
      },
      {
       "output_type": "stream",
       "stream": "stdout",
       "text": [
        " 0.857142857143\n",
        "Precision:  0.5\n",
        "Recall:  0.5\n",
        "F1_Score:  0.5\n",
        "Accuracy: "
       ]
      },
      {
       "output_type": "stream",
       "stream": "stdout",
       "text": [
        " 0.928571428571\n",
        "Precision:  1.0\n",
        "Recall:  0.5\n",
        "F1_Score:  0.666666666667\n",
        "Average accuracy:  0.827142857143\n",
        "Average precision:  0.1925\n",
        "Average recall:  0.15\n",
        "Average f1_score:  0.157\n"
       ]
      }
     ],
     "prompt_number": 261
    },
    {
     "cell_type": "code",
     "collapsed": false,
     "input": [
      "accuracy = []\n",
      "precision = []\n",
      "recall = []\n",
      "f1 = []\n",
      "\n",
      "vectorizer = TfidfVectorizer(stop_words=\"english\", lowercase=True, max_df = 0.5)\n",
      "scaler = MinMaxScaler()\n",
      "selector = SelectPercentile(f_classif, percentile=5)\n",
      "cv = StratifiedShuffleSplit(labels, 10)\n",
      "\n",
      "for train_idx, test_idx in cv:\n",
      "    features_train = []\n",
      "    features_test = []\n",
      "    word_features_train = []\n",
      "    word_features_test = []\n",
      "    labels_train = []\n",
      "    labels_test = []\n",
      "\n",
      "    for ii in train_idx:\n",
      "        features_train.append(features[ii])\n",
      "        word_features_train.append(word_data[ii])\n",
      "        labels_train.append(labels[ii])\n",
      "    for jj in test_idx:\n",
      "        features_test.append(features[jj])\n",
      "        word_features_test.append(word_data[jj])\n",
      "        labels_test.append(labels[jj])\n",
      "    '''\n",
      "    print features_train\n",
      "    print\n",
      "    print word_features_train\n",
      "    print\n",
      "    print labels_train\n",
      "    print '+++++++++++++++++++++++++++++++++++++++++'    \n",
      "    print features_test\n",
      "    print\n",
      "    print word_features_test\n",
      "    print\n",
      "    print labels_test\n",
      "    print '----------------------------'   \n",
      "    '''    \n",
      "        \n",
      "    word_features_train = vectorizer.fit_transform(word_features_train).toarray()\n",
      "    features_train = np.hstack((features_train, word_features_train))\n",
      "    word_features_test = vectorizer.transform(word_features_test).toarray()\n",
      "    features_test = np.hstack((features_test, word_features_test))\n",
      "    '''\n",
      "    print features_train\n",
      "    print\n",
      "    print features_test\n",
      "    '''\n",
      "    \n",
      "    features_train = scaler.fit_transform(features_train)\n",
      "    features_train = selector.fit_transform(features_train, labels_train)\n",
      "    features_test = scaler.transform(features_test)\n",
      "    features_test = selector.transform(features_test)\n",
      "\n",
      "    ada = AdaBoostClassifier()\n",
      "    parameters = {'n_estimators': [1, 100], 'random_state': [1, 50]}\n",
      "    clf = GridSearchCV(ada, parameters)\n",
      "    clf.fit(features_train, labels_train)\n",
      "    pred = clf.predict(features_test)\n",
      "\n",
      "    print \"Accuracy: \", clf.score(features_test, labels_test)\n",
      "    print \"Precision: \", precision_score(labels_test, pred)\n",
      "    print \"Recall: \", recall_score(labels_test, pred)\n",
      "    print \"F1_Score: \", f1_score(labels_test, pred)\n",
      "\n",
      "    accuracy.append(clf.score(features_test, labels_test))\n",
      "    precision.append(precision_score(labels_test, pred))\n",
      "    recall.append(recall_score(labels_test, pred))\n",
      "    f1.append(f1_score(labels_test, pred))\n",
      "\n",
      "print \"Average accuracy: \", sum(accuracy) / 10\n",
      "print \"Average precision: \", sum(precision) / 10\n",
      "print \"Average recall: \", sum(recall) / 10\n",
      "print \"Average f1_score: \", sum(f1) / 10"
     ],
     "language": "python",
     "metadata": {},
     "outputs": [
      {
       "output_type": "stream",
       "stream": "stdout",
       "text": [
        "Accuracy:  0.928571428571\n",
        "Precision:  1.0\n",
        "Recall:  0.5\n",
        "F1_Score:  0.666666666667\n",
        "Accuracy: "
       ]
      },
      {
       "output_type": "stream",
       "stream": "stdout",
       "text": [
        " 0.857142857143\n",
        "Precision:  0.0\n",
        "Recall:  0.0\n",
        "F1_Score:  0.0\n",
        "Accuracy: "
       ]
      },
      {
       "output_type": "stream",
       "stream": "stdout",
       "text": [
        " 0.785714285714\n",
        "Precision:  0.0\n",
        "Recall:  0.0\n",
        "F1_Score:  0.0\n",
        "Accuracy: "
       ]
      },
      {
       "output_type": "stream",
       "stream": "stdout",
       "text": [
        " 0.928571428571\n",
        "Precision:  1.0\n",
        "Recall:  0.5\n",
        "F1_Score:  0.666666666667\n",
        "Accuracy: "
       ]
      },
      {
       "output_type": "stream",
       "stream": "stdout",
       "text": [
        " 0.928571428571\n",
        "Precision:  1.0\n",
        "Recall:  0.5\n",
        "F1_Score:  0.666666666667\n",
        "Accuracy: "
       ]
      },
      {
       "output_type": "stream",
       "stream": "stdout",
       "text": [
        " 0.857142857143\n",
        "Precision:  0.0\n",
        "Recall:  0.0\n",
        "F1_Score:  0.0\n",
        "Accuracy: "
       ]
      },
      {
       "output_type": "stream",
       "stream": "stdout",
       "text": [
        " 0.857142857143\n",
        "Precision:  0.0\n",
        "Recall:  0.0\n",
        "F1_Score:  0.0\n",
        "Accuracy: "
       ]
      },
      {
       "output_type": "stream",
       "stream": "stdout",
       "text": [
        " 0.857142857143\n",
        "Precision:  0.0\n",
        "Recall:  0.0\n",
        "F1_Score:  0.0\n",
        "Accuracy: "
       ]
      },
      {
       "output_type": "stream",
       "stream": "stdout",
       "text": [
        " 0.785714285714\n",
        "Precision:  0.0\n",
        "Recall:  0.0\n",
        "F1_Score:  0.0\n",
        "Accuracy: "
       ]
      },
      {
       "output_type": "stream",
       "stream": "stdout",
       "text": [
        " 0.857142857143\n",
        "Precision:  0.0\n",
        "Recall:  0.0\n",
        "F1_Score:  0.0\n",
        "Average accuracy:  0.864285714286\n",
        "Average precision:  0.3\n",
        "Average recall:  0.15\n",
        "Average f1_score:  0.2\n"
       ]
      }
     ],
     "prompt_number": 274
    },
    {
     "cell_type": "code",
     "collapsed": false,
     "input": [
      "accuracy = []\n",
      "precision = []\n",
      "recall = []\n",
      "f1 = []\n",
      "\n",
      "vectorizer = TfidfVectorizer(stop_words=\"english\", lowercase=True, max_df = 0.5)\n",
      "scaler = MinMaxScaler()\n",
      "selector = SelectPercentile(f_classif, percentile=5)\n",
      "cv = StratifiedShuffleSplit(labels, 100)\n",
      "\n",
      "for train_idx, test_idx in cv:\n",
      "    features_train = []\n",
      "    features_test = []\n",
      "    word_features_train = []\n",
      "    word_features_test = []\n",
      "    labels_train = []\n",
      "    labels_test = []\n",
      "\n",
      "    for ii in train_idx:\n",
      "        features_train.append(features[ii])\n",
      "        word_features_train.append(word_data[ii])\n",
      "        labels_train.append(labels[ii])\n",
      "    for jj in test_idx:\n",
      "        features_test.append(features[jj])\n",
      "        word_features_test.append(word_data[jj])\n",
      "        labels_test.append(labels[jj])\n",
      "    '''\n",
      "    print features_train\n",
      "    print\n",
      "    print word_features_train\n",
      "    print\n",
      "    print labels_train\n",
      "    print '+++++++++++++++++++++++++++++++++++++++++'    \n",
      "    print features_test\n",
      "    print\n",
      "    print word_features_test\n",
      "    print\n",
      "    print labels_test\n",
      "    print '----------------------------'   \n",
      "    '''    \n",
      "        \n",
      "    word_features_train = vectorizer.fit_transform(word_features_train).toarray()\n",
      "    features_train = np.hstack((features_train, word_features_train))\n",
      "    word_features_test = vectorizer.transform(word_features_test).toarray()\n",
      "    features_test = np.hstack((features_test, word_features_test))\n",
      "    '''\n",
      "    print features_train\n",
      "    print\n",
      "    print features_test\n",
      "    '''\n",
      "    \n",
      "    features_train = scaler.fit_transform(features_train)\n",
      "    features_train = selector.fit_transform(features_train, labels_train)\n",
      "    features_test = scaler.transform(features_test)\n",
      "    features_test = selector.transform(features_test)\n",
      "    '''\n",
      "    ada = AdaBoostClassifier()\n",
      "    parameters = {'n_estimators': [1, 100], 'random_state': [1, 50]}\n",
      "    clf = GridSearchCV(ada, parameters)\n",
      "    clf.fit(features_train, labels_train)\n",
      "    pred = clf.predict(features_test)\n",
      "    '''\n",
      "    \n",
      "    from sklearn import svm\n",
      "    \n",
      "    parameters = {'kernel':('linear', 'rbf'), 'C':[1, 10]}\n",
      "    svr = svm.SVC()\n",
      "    clf = GridSearchCV(svr, parameters)\n",
      "    clf.fit(features_train, labels_train)\n",
      "    pred = clf.predict(features_test)\n",
      "    \n",
      "    \n",
      "    print \"Accuracy: \", clf.score(features_test, labels_test)\n",
      "    print \"Precision: \", precision_score(labels_test, pred)\n",
      "    print \"Recall: \", recall_score(labels_test, pred)\n",
      "    print \"F1_Score: \", f1_score(labels_test, pred)\n",
      "\n",
      "    accuracy.append(clf.score(features_test, labels_test))\n",
      "    precision.append(precision_score(labels_test, pred))\n",
      "    recall.append(recall_score(labels_test, pred))\n",
      "    f1.append(f1_score(labels_test, pred))\n",
      "\n",
      "print \"Average accuracy: \", sum(accuracy) / 10\n",
      "print \"Average precision: \", sum(precision) / 10\n",
      "print \"Average recall: \", sum(recall) / 10\n",
      "print \"Average f1_score: \", sum(f1) / 10"
     ],
     "language": "python",
     "metadata": {},
     "outputs": [
      {
       "output_type": "stream",
       "stream": "stdout",
       "text": [
        "Accuracy:  0.785714285714\n",
        "Precision:  0.0\n",
        "Recall:  0.0\n",
        "F1_Score:  0.0\n",
        "Accuracy: "
       ]
      },
      {
       "output_type": "stream",
       "stream": "stdout",
       "text": [
        " 0.857142857143\n",
        "Precision:  0.0\n",
        "Recall:  0.0\n",
        "F1_Score:  0.0\n",
        "Accuracy: "
       ]
      },
      {
       "output_type": "stream",
       "stream": "stdout",
       "text": [
        " 0.785714285714\n",
        "Precision:  0.0\n",
        "Recall:  0.0\n",
        "F1_Score:  0.0\n",
        "Accuracy: "
       ]
      },
      {
       "output_type": "stream",
       "stream": "stdout",
       "text": [
        " 0.857142857143\n",
        "Precision:  0.0\n",
        "Recall:  0.0\n",
        "F1_Score:  0.0\n",
        "Accuracy: "
       ]
      },
      {
       "output_type": "stream",
       "stream": "stdout",
       "text": [
        " 0.642857142857\n",
        "Precision:  0.0\n",
        "Recall:  0.0\n",
        "F1_Score:  0.0\n",
        "Accuracy: "
       ]
      },
      {
       "output_type": "stream",
       "stream": "stdout",
       "text": [
        " 0.785714285714\n",
        "Precision:  0.0\n",
        "Recall:  0.0\n",
        "F1_Score:  0.0\n",
        "Accuracy: "
       ]
      },
      {
       "output_type": "stream",
       "stream": "stdout",
       "text": [
        " 0.714285714286\n",
        "Precision:  0.0\n",
        "Recall:  0.0\n",
        "F1_Score:  0.0\n",
        "Accuracy: "
       ]
      },
      {
       "output_type": "stream",
       "stream": "stdout",
       "text": [
        " 0.857142857143\n",
        "Precision:  0.0\n",
        "Recall:  0.0\n",
        "F1_Score:  0.0\n",
        "Accuracy: "
       ]
      },
      {
       "output_type": "stream",
       "stream": "stdout",
       "text": [
        " 0.857142857143\n",
        "Precision:  0.0\n",
        "Recall:  0.0\n",
        "F1_Score:  0.0\n",
        "Accuracy: "
       ]
      },
      {
       "output_type": "stream",
       "stream": "stdout",
       "text": [
        " 0.857142857143\n",
        "Precision:  0.0\n",
        "Recall:  0.0\n",
        "F1_Score:  0.0\n",
        "Average accuracy:  0.8\n",
        "Average precision:  0.0\n",
        "Average recall:  0.0\n",
        "Average f1_score:  0.0\n"
       ]
      }
     ],
     "prompt_number": 278
    },
    {
     "cell_type": "code",
     "collapsed": false,
     "input": [
      "accuracy = []\n",
      "precision = []\n",
      "recall = []\n",
      "f1 = []\n",
      "\n",
      "vectorizer = TfidfVectorizer(stop_words=\"english\", lowercase=True)\n",
      "scaler = MinMaxScaler()\n",
      "selector = SelectPercentile(f_classif, percentile=10)\n",
      "skf = StratifiedKFold(labels, n_folds=6)\n",
      "\n",
      "for train_idx, test_idx in skf:\n",
      "    features_train = []\n",
      "    features_test = []\n",
      "    word_features_train = []\n",
      "    word_features_test = []\n",
      "    labels_train = []\n",
      "    labels_test = []\n",
      "\n",
      "    for ii in train_idx:\n",
      "        features_train.append(features[ii])\n",
      "        word_features_train.append(word_data[ii])\n",
      "        labels_train.append(labels[ii])\n",
      "    for jj in test_idx:\n",
      "        features_test.append(features[jj])\n",
      "        word_features_test.append(word_data[jj])\n",
      "        labels_test.append(labels[jj])\n",
      "    \n",
      "        \n",
      "    word_features_train = vectorizer.fit_transform(word_features_train).toarray()\n",
      "    features_train = np.hstack((features_train, word_features_train))\n",
      "    word_features_test = vectorizer.transform(word_features_test).toarray()\n",
      "    features_test = np.hstack((features_test, word_features_test))\n",
      "\n",
      "    \n",
      "    features_train = scaler.fit_transform(features_train)\n",
      "    features_train = selector.fit_transform(features_train, labels_train)\n",
      "    features_test = scaler.transform(features_test)\n",
      "    features_test = selector.transform(features_test)\n",
      "\n",
      "    ada = AdaBoostClassifier()\n",
      "    parameters = {'n_estimators': [1, 100], 'random_state': [1, 50]}\n",
      "    clf = GridSearchCV(ada, parameters)\n",
      "    clf.fit(features_train, labels_train)\n",
      "    pred = clf.predict(features_test)\n",
      "\n",
      "    print \"Accuracy: \", clf.score(features_test, labels_test)\n",
      "    print \"Precision: \", precision_score(labels_test, pred)\n",
      "    print \"Recall: \", recall_score(labels_test, pred)\n",
      "    print \"F1_Score: \", f1_score(labels_test, pred)\n",
      "\n",
      "    accuracy.append(clf.score(features_test, labels_test))\n",
      "    precision.append(precision_score(labels_test, pred))\n",
      "    recall.append(recall_score(labels_test, pred))\n",
      "    f1.append(f1_score(labels_test, pred))\n",
      "\n",
      "print \"Average accuracy: \", sum(accuracy) / 6\n",
      "print \"Average precision: \", sum(precision) / 6\n",
      "print \"Average recall: \", sum(recall) / 6\n",
      "print \"Average f1_score: \", sum(f1) / 6"
     ],
     "language": "python",
     "metadata": {},
     "outputs": [
      {
       "output_type": "stream",
       "stream": "stdout",
       "text": [
        "Accuracy:  0.863636363636\n",
        "Precision:  0.0\n",
        "Recall:  0.0\n",
        "F1_Score:  0.0\n",
        "Accuracy: "
       ]
      },
      {
       "output_type": "stream",
       "stream": "stdout",
       "text": [
        " 0.818181818182\n",
        "Precision:  0.0\n",
        "Recall:  0.0\n",
        "F1_Score:  0.0\n",
        "Accuracy: "
       ]
      },
      {
       "output_type": "stream",
       "stream": "stdout",
       "text": [
        " 0.681818181818\n",
        "Precision:  0.25\n",
        "Recall:  0.666666666667\n",
        "F1_Score:  0.363636363636\n",
        "Accuracy: "
       ]
      },
      {
       "output_type": "stream",
       "stream": "stdout",
       "text": [
        " 0.909090909091\n",
        "Precision:  1.0\n",
        "Recall:  0.333333333333\n",
        "F1_Score:  0.5\n",
        "Accuracy: "
       ]
      },
      {
       "output_type": "stream",
       "stream": "stdout",
       "text": [
        " 0.863636363636\n",
        "Precision:  0.0\n",
        "Recall:  0.0\n",
        "F1_Score:  0.0\n",
        "Accuracy: "
       ]
      },
      {
       "output_type": "stream",
       "stream": "stdout",
       "text": [
        " 0.714285714286\n",
        "Precision:  0.2\n",
        "Recall:  0.333333333333\n",
        "F1_Score:  0.25\n",
        "Average accuracy:  0.808441558442\n",
        "Average precision:  0.241666666667\n",
        "Average recall:  0.222222222222\n",
        "Average f1_score:  0.185606060606\n"
       ]
      }
     ],
     "prompt_number": 285
    },
    {
     "cell_type": "code",
     "collapsed": false,
     "input": [
      "accuracy = []\n",
      "precision = []\n",
      "recall = []\n",
      "f1 = []\n",
      "\n",
      "vectorizer = TfidfVectorizer(stop_words=\"english\", lowercase=True)\n",
      "scaler = MinMaxScaler()\n",
      "selector = SelectPercentile(f_classif, percentile=10)\n",
      "skf = StratifiedKFold(labels, n_folds=6)\n",
      "\n",
      "for train_idx, test_idx in skf:\n",
      "    features_train = []\n",
      "    features_test = []\n",
      "    word_features_train = []\n",
      "    word_features_test = []\n",
      "    labels_train = []\n",
      "    labels_test = []\n",
      "\n",
      "    for ii in train_idx:\n",
      "        features_train.append(features[ii])\n",
      "        word_features_train.append(word_data[ii])\n",
      "        labels_train.append(labels[ii])\n",
      "    for jj in test_idx:\n",
      "        features_test.append(features[jj])\n",
      "        word_features_test.append(word_data[jj])\n",
      "        labels_test.append(labels[jj])\n",
      "    \n",
      "        \n",
      "    word_features_train = vectorizer.fit_transform(word_features_train).toarray()\n",
      "    features_train = np.hstack((features_train, word_features_train))\n",
      "    word_features_test = vectorizer.transform(word_features_test).toarray()\n",
      "    features_test = np.hstack((features_test, word_features_test))\n",
      "\n",
      "    \n",
      "    features_train = scaler.fit_transform(features_train)\n",
      "    features_train = selector.fit_transform(features_train, labels_train)\n",
      "    features_test = scaler.transform(features_test)\n",
      "    features_test = selector.transform(features_test)\n",
      "\n",
      "    ada = AdaBoostClassifier()\n",
      "    parameters = {'n_estimators': [1, 100], 'random_state': [1, 50]}\n",
      "    clf = GridSearchCV(ada, parameters)\n",
      "    clf.fit(features_train, labels_train)\n",
      "    pred = clf.predict(features_test)\n",
      "\n",
      "    print \"Accuracy: \", clf.score(features_test, labels_test)\n",
      "    print \"Precision: \", precision_score(labels_test, pred)\n",
      "    print \"Recall: \", recall_score(labels_test, pred)\n",
      "    print \"F1_Score: \", f1_score(labels_test, pred)\n",
      "\n",
      "    accuracy.append(clf.score(features_test, labels_test))\n",
      "    precision.append(precision_score(labels_test, pred))\n",
      "    recall.append(recall_score(labels_test, pred))\n",
      "    f1.append(f1_score(labels_test, pred))\n",
      "\n",
      "print \"Average accuracy: \", sum(accuracy) / 6\n",
      "print \"Average precision: \", sum(precision) / 6\n",
      "print \"Average recall: \", sum(recall) / 6\n",
      "print \"Average f1_score: \", sum(f1) / 6"
     ],
     "language": "python",
     "metadata": {},
     "outputs": [
      {
       "output_type": "stream",
       "stream": "stdout",
       "text": [
        "Accuracy:  0.863636363636\n",
        "Precision:  0.0\n",
        "Recall:  0.0\n",
        "F1_Score:  0.0\n",
        "Accuracy: "
       ]
      },
      {
       "output_type": "stream",
       "stream": "stdout",
       "text": [
        " 0.818181818182\n",
        "Precision:  0.0\n",
        "Recall:  0.0\n",
        "F1_Score:  0.0\n",
        "Accuracy: "
       ]
      },
      {
       "output_type": "stream",
       "stream": "stdout",
       "text": [
        " 0.681818181818\n",
        "Precision:  0.25\n",
        "Recall:  0.666666666667\n",
        "F1_Score:  0.363636363636\n",
        "Accuracy: "
       ]
      },
      {
       "output_type": "stream",
       "stream": "stdout",
       "text": [
        " 0.909090909091\n",
        "Precision:  1.0\n",
        "Recall:  0.333333333333\n",
        "F1_Score:  0.5\n",
        "Accuracy: "
       ]
      },
      {
       "output_type": "stream",
       "stream": "stdout",
       "text": [
        " 0.909090909091\n",
        "Precision:  1.0\n",
        "Recall:  0.333333333333\n",
        "F1_Score:  0.5\n",
        "Accuracy: "
       ]
      },
      {
       "output_type": "stream",
       "stream": "stdout",
       "text": [
        " 0.714285714286\n",
        "Precision:  0.2\n",
        "Recall:  0.333333333333\n",
        "F1_Score:  0.25\n",
        "Average accuracy:  0.816017316017\n",
        "Average precision:  0.408333333333\n",
        "Average recall:  0.277777777778\n",
        "Average f1_score:  0.268939393939\n"
       ]
      },
      {
       "output_type": "stream",
       "stream": "stderr",
       "text": [
        "C:\\Users\\sk988f\\AppData\\Local\\Continuum\\Anaconda\\lib\\site-packages\\sklearn\\metrics\\metrics.py:1771: UndefinedMetricWarning: Precision is ill-defined and being set to 0.0 due to no predicted samples.\n",
        "  'precision', 'predicted', average, warn_for)\n",
        "C:\\Users\\sk988f\\AppData\\Local\\Continuum\\Anaconda\\lib\\site-packages\\sklearn\\metrics\\metrics.py:1771: UndefinedMetricWarning: F-score is ill-defined and being set to 0.0 due to no predicted samples.\n",
        "  'precision', 'predicted', average, warn_for)\n"
       ]
      }
     ],
     "prompt_number": 21
    },
    {
     "cell_type": "code",
     "collapsed": false,
     "input": [
      "accuracy = []\n",
      "precision = []\n",
      "recall = []\n",
      "f1 = []\n",
      "\n",
      "vectorizer = TfidfVectorizer(stop_words=\"english\", lowercase=True, max_df = 0.5)\n",
      "scaler = MinMaxScaler()\n",
      "selector = SelectPercentile(f_classif, percentile=5)\n",
      "skf = StratifiedKFold(labels, n_folds=8)\n",
      "\n",
      "for train_idx, test_idx in skf:\n",
      "    features_train = []\n",
      "    features_test = []\n",
      "    word_features_train = []\n",
      "    word_features_test = []\n",
      "    labels_train = []\n",
      "    labels_test = []\n",
      "\n",
      "    for ii in train_idx:\n",
      "        features_train.append(features[ii])\n",
      "        word_features_train.append(word_data[ii])\n",
      "        labels_train.append(labels[ii])\n",
      "    for jj in test_idx:\n",
      "        features_test.append(features[jj])\n",
      "        word_features_test.append(word_data[jj])\n",
      "        labels_test.append(labels[jj])\n",
      "    '''\n",
      "    print features_train\n",
      "    print\n",
      "    print word_features_train\n",
      "    print\n",
      "    print labels_train\n",
      "    print '+++++++++++++++++++++++++++++++++++++++++'    \n",
      "    print features_test\n",
      "    print\n",
      "    print word_features_test\n",
      "    print\n",
      "    print labels_test\n",
      "    print '----------------------------'   \n",
      "    '''    \n",
      "        \n",
      "    word_features_train = vectorizer.fit_transform(word_features_train).toarray()\n",
      "    features_train = np.hstack((features_train, word_features_train))\n",
      "    word_features_test = vectorizer.transform(word_features_test).toarray()\n",
      "    features_test = np.hstack((features_test, word_features_test))\n",
      "    '''\n",
      "    print features_train\n",
      "    print\n",
      "    print features_test\n",
      "    '''\n",
      "    \n",
      "    features_train = scaler.fit_transform(features_train)\n",
      "    features_train = selector.fit_transform(features_train, labels_train)\n",
      "    features_test = scaler.transform(features_test)\n",
      "    features_test = selector.transform(features_test)\n",
      "\n",
      "    ada = AdaBoostClassifier()\n",
      "    parameters = {'n_estimators': [1, 100], 'random_state': [1, 50]}\n",
      "    clf = GridSearchCV(ada, parameters)\n",
      "    clf.fit(features_train, labels_train)\n",
      "    pred = clf.predict(features_test)\n",
      "\n",
      "    print \"Accuracy: \", clf.score(features_test, labels_test)\n",
      "    print \"Precision: \", precision_score(labels_test, pred)\n",
      "    print \"Recall: \", recall_score(labels_test, pred)\n",
      "    print \"F1_Score: \", f1_score(labels_test, pred)\n",
      "\n",
      "    accuracy.append(clf.score(features_test, labels_test))\n",
      "    precision.append(precision_score(labels_test, pred))\n",
      "    recall.append(recall_score(labels_test, pred))\n",
      "    f1.append(f1_score(labels_test, pred))\n",
      "\n",
      "print \"Average accuracy: \", sum(accuracy) / 8\n",
      "print \"Average precision: \", sum(precision) / 8\n",
      "print \"Average recall: \", sum(recall) / 8\n",
      "print \"Average f1_score: \", sum(f1) / 8"
     ],
     "language": "python",
     "metadata": {},
     "outputs": [
      {
       "output_type": "stream",
       "stream": "stdout",
       "text": [
        "Accuracy:  0.833333333333\n",
        "Precision:  0.0\n",
        "Recall:  0.0\n",
        "F1_Score:  0.0\n",
        "Accuracy: "
       ]
      },
      {
       "output_type": "stream",
       "stream": "stdout",
       "text": [
        " 0.823529411765\n",
        "Precision:  0.0\n",
        "Recall:  0.0\n",
        "F1_Score:  0.0\n",
        "Accuracy: "
       ]
      },
      {
       "output_type": "stream",
       "stream": "stdout",
       "text": [
        " 0.875\n",
        "Precision:  0.5\n",
        "Recall:  1.0\n",
        "F1_Score:  0.666666666667\n",
        "Accuracy: "
       ]
      },
      {
       "output_type": "stream",
       "stream": "stdout",
       "text": [
        " 0.625\n",
        "Precision:  0.166666666667\n",
        "Recall:  0.5\n",
        "F1_Score:  0.25\n",
        "Accuracy: "
       ]
      },
      {
       "output_type": "stream",
       "stream": "stdout",
       "text": [
        " 0.9375\n",
        "Precision:  1.0\n",
        "Recall:  0.5\n",
        "F1_Score:  0.666666666667\n",
        "Accuracy: "
       ]
      },
      {
       "output_type": "stream",
       "stream": "stdout",
       "text": [
        " 0.875\n",
        "Precision:  0.0\n",
        "Recall:  0.0\n",
        "F1_Score:  0.0\n",
        "Accuracy: "
       ]
      },
      {
       "output_type": "stream",
       "stream": "stdout",
       "text": [
        " 0.875\n",
        "Precision:  0.0\n",
        "Recall:  0.0\n",
        "F1_Score:  0.0\n",
        "Accuracy: "
       ]
      },
      {
       "output_type": "stream",
       "stream": "stdout",
       "text": [
        " 0.6875\n",
        "Precision:  0.0\n",
        "Recall:  0.0\n",
        "F1_Score:  0.0\n",
        "Average accuracy:  0.816482843137\n",
        "Average precision:  0.208333333333\n",
        "Average recall:  0.25\n",
        "Average f1_score:  0.197916666667\n"
       ]
      }
     ],
     "prompt_number": 22
    },
    {
     "cell_type": "code",
     "collapsed": false,
     "input": [
      "accuracy = []\n",
      "precision = []\n",
      "recall = []\n",
      "f1 = []\n",
      "\n",
      "vectorizer = TfidfVectorizer(stop_words=\"english\", lowercase=True)\n",
      "scaler = MinMaxScaler()\n",
      "selector = SelectPercentile(f_classif, percentile=10)\n",
      "skf = StratifiedKFold(labels, n_folds=6)\n",
      "\n",
      "for train_idx, test_idx in skf:\n",
      "    features_train = []\n",
      "    features_test = []\n",
      "    word_features_train = []\n",
      "    word_features_test = []\n",
      "    labels_train = []\n",
      "    labels_test = []\n",
      "\n",
      "    for ii in train_idx:\n",
      "        features_train.append(features[ii])\n",
      "        word_features_train.append(word_data[ii])\n",
      "        labels_train.append(labels[ii])\n",
      "    for jj in test_idx:\n",
      "        features_test.append(features[jj])\n",
      "        word_features_test.append(word_data[jj])\n",
      "        labels_test.append(labels[jj])\n",
      "    \n",
      "        \n",
      "    word_features_train = vectorizer.fit_transform(word_features_train).toarray()\n",
      "    features_train = np.hstack((features_train, word_features_train))\n",
      "    word_features_test = vectorizer.transform(word_features_test).toarray()\n",
      "    features_test = np.hstack((features_test, word_features_test))\n",
      "\n",
      "    \n",
      "    features_train = scaler.fit_transform(features_train)\n",
      "    features_train = selector.fit_transform(features_train, labels_train)\n",
      "    features_test = scaler.transform(features_test)\n",
      "    features_test = selector.transform(features_test)\n",
      "\n",
      "    ada = AdaBoostClassifier()\n",
      "    parameters = {'n_estimators': [1, 100], 'random_state': [1, 50]}\n",
      "    clf = GridSearchCV(ada, parameters)\n",
      "    clf.fit(features_train, labels_train)\n",
      "    pred = clf.predict(features_test)\n",
      "\n",
      "    print \"Accuracy: \", clf.score(features_test, labels_test)\n",
      "    print \"Precision: \", precision_score(labels_test, pred)\n",
      "    print \"Recall: \", recall_score(labels_test, pred)\n",
      "    print \"F1_Score: \", f1_score(labels_test, pred)\n",
      "\n",
      "    accuracy.append(clf.score(features_test, labels_test))\n",
      "    precision.append(precision_score(labels_test, pred))\n",
      "    recall.append(recall_score(labels_test, pred))\n",
      "    f1.append(f1_score(labels_test, pred))\n",
      "\n",
      "print \"Average accuracy: \", sum(accuracy) / 6\n",
      "print \"Average precision: \", sum(precision) / 6\n",
      "print \"Average recall: \", sum(recall) / 6\n",
      "print \"Average f1_score: \", sum(f1) / 6"
     ],
     "language": "python",
     "metadata": {},
     "outputs": [
      {
       "output_type": "stream",
       "stream": "stdout",
       "text": [
        "Accuracy:  0.863636363636\n",
        "Precision:  0.0\n",
        "Recall:  0.0\n",
        "F1_Score:  0.0\n",
        "Accuracy: "
       ]
      },
      {
       "output_type": "stream",
       "stream": "stdout",
       "text": [
        " 0.818181818182\n",
        "Precision:  0.0\n",
        "Recall:  0.0\n",
        "F1_Score:  0.0\n",
        "Accuracy: "
       ]
      },
      {
       "output_type": "stream",
       "stream": "stdout",
       "text": [
        " 0.681818181818\n",
        "Precision:  0.25\n",
        "Recall:  0.666666666667\n",
        "F1_Score:  0.363636363636\n",
        "Accuracy: "
       ]
      },
      {
       "output_type": "stream",
       "stream": "stdout",
       "text": [
        " 0.909090909091\n",
        "Precision:  1.0\n",
        "Recall:  0.333333333333\n",
        "F1_Score:  0.5\n",
        "Accuracy: "
       ]
      },
      {
       "output_type": "stream",
       "stream": "stdout",
       "text": [
        " 0.909090909091\n",
        "Precision:  1.0\n",
        "Recall:  0.333333333333\n",
        "F1_Score:  0.5\n",
        "Accuracy: "
       ]
      },
      {
       "output_type": "stream",
       "stream": "stdout",
       "text": [
        " 0.714285714286\n",
        "Precision:  0.2\n",
        "Recall:  0.333333333333\n",
        "F1_Score:  0.25\n",
        "Average accuracy:  0.816017316017\n",
        "Average precision:  0.408333333333\n",
        "Average recall:  0.277777777778\n",
        "Average f1_score:  0.268939393939\n"
       ]
      }
     ],
     "prompt_number": 23
    },
    {
     "cell_type": "code",
     "collapsed": false,
     "input": [
      "accuracy = []\n",
      "precision = []\n",
      "recall = []\n",
      "f1 = []\n",
      "\n",
      "vectorizer = TfidfVectorizer(stop_words=\"english\", lowercase=True)\n",
      "scaler = MinMaxScaler()\n",
      "selector = SelectPercentile(f_classif, percentile=10)\n",
      "skf = StratifiedKFold(labels, n_folds=6)\n",
      "\n",
      "for train_idx, test_idx in skf:\n",
      "    features_train = []\n",
      "    features_test = []\n",
      "    word_features_train = []\n",
      "    word_features_test = []\n",
      "    labels_train = []\n",
      "    labels_test = []\n",
      "\n",
      "    for ii in train_idx:\n",
      "        features_train.append(features[ii])\n",
      "        word_features_train.append(word_data[ii])\n",
      "        labels_train.append(labels[ii])\n",
      "    for jj in test_idx:\n",
      "        features_test.append(features[jj])\n",
      "        word_features_test.append(word_data[jj])\n",
      "        labels_test.append(labels[jj])\n",
      "    \n",
      "        \n",
      "    word_features_train = vectorizer.fit_transform(word_features_train).toarray()\n",
      "    features_train = np.hstack((features_train, word_features_train))\n",
      "    word_features_test = vectorizer.transform(word_features_test).toarray()\n",
      "    features_test = np.hstack((features_test, word_features_test))\n",
      "\n",
      "    \n",
      "    features_train = scaler.fit_transform(features_train)\n",
      "    features_train = selector.fit_transform(features_train, labels_train)\n",
      "    features_test = scaler.transform(features_test)\n",
      "    features_test = selector.transform(features_test)\n",
      "    '''\n",
      "    ada = AdaBoostClassifier()\n",
      "    parameters = {'n_estimators': [1, 100], 'random_state': [1, 50]}\n",
      "    clf = GridSearchCV(ada, parameters)\n",
      "    clf.fit(features_train, labels_train)\n",
      "    pred = clf.predict(features_test)\n",
      "    '''\n",
      "    clf = SVC(kernel=\"linear\", C=1.)\n",
      "    clf.fit(features_train, labels_train)\n",
      "    pred = clf.predict(features_test)\n",
      "    #print clf.score(features_test, labels_test)\n",
      "    \n",
      "    \n",
      "    print \"Accuracy: \", clf.score(features_test, labels_test)\n",
      "    print \"Precision: \", precision_score(labels_test, pred)\n",
      "    print \"Recall: \", recall_score(labels_test, pred)\n",
      "    print \"F1_Score: \", f1_score(labels_test, pred)\n",
      "\n",
      "    accuracy.append(clf.score(features_test, labels_test))\n",
      "    precision.append(precision_score(labels_test, pred))\n",
      "    recall.append(recall_score(labels_test, pred))\n",
      "    f1.append(f1_score(labels_test, pred))\n",
      "\n",
      "print \"Average accuracy: \", sum(accuracy) / 6\n",
      "print \"Average precision: \", sum(precision) / 6\n",
      "print \"Average recall: \", sum(recall) / 6\n",
      "print \"Average f1_score: \", sum(f1) / 6"
     ],
     "language": "python",
     "metadata": {},
     "outputs": [
      {
       "output_type": "stream",
       "stream": "stdout",
       "text": [
        "Accuracy:  0.863636363636\n",
        "Precision:  0.0\n",
        "Recall:  0.0\n",
        "F1_Score:  0.0\n",
        "Accuracy: "
       ]
      },
      {
       "output_type": "stream",
       "stream": "stdout",
       "text": [
        " 0.772727272727\n",
        "Precision:  0.0\n",
        "Recall:  0.0\n",
        "F1_Score:  0.0\n",
        "Accuracy: "
       ]
      },
      {
       "output_type": "stream",
       "stream": "stdout",
       "text": [
        " 0.409090909091\n",
        "Precision:  0.0833333333333\n",
        "Recall:  0.333333333333\n",
        "F1_Score:  0.133333333333\n",
        "Accuracy: "
       ]
      },
      {
       "output_type": "stream",
       "stream": "stdout",
       "text": [
        " 0.772727272727\n",
        "Precision:  0.0\n",
        "Recall:  0.0\n",
        "F1_Score:  0.0\n",
        "Accuracy: "
       ]
      },
      {
       "output_type": "stream",
       "stream": "stdout",
       "text": [
        " 0.772727272727\n",
        "Precision:  0.0\n",
        "Recall:  0.0\n",
        "F1_Score:  0.0\n",
        "Accuracy: "
       ]
      },
      {
       "output_type": "stream",
       "stream": "stdout",
       "text": [
        " 0.857142857143\n",
        "Precision:  0.0\n",
        "Recall:  0.0\n",
        "F1_Score:  0.0\n",
        "Average accuracy:  0.741341991342\n",
        "Average precision:  0.0138888888889\n",
        "Average recall:  0.0555555555556\n",
        "Average f1_score:  0.0222222222222\n"
       ]
      }
     ],
     "prompt_number": 25
    },
    {
     "cell_type": "code",
     "collapsed": false,
     "input": [
      "accuracy = []\n",
      "precision = []\n",
      "recall = []\n",
      "f1 = []\n",
      "\n",
      "vectorizer = TfidfVectorizer(stop_words=\"english\", lowercase=True)\n",
      "scaler = MinMaxScaler()\n",
      "selector = SelectPercentile(f_classif, percentile=10)\n",
      "skf = StratifiedKFold(labels, n_folds=6)\n",
      "\n",
      "for train_idx, test_idx in skf:\n",
      "    features_train = []\n",
      "    features_test = []\n",
      "    word_features_train = []\n",
      "    word_features_test = []\n",
      "    labels_train = []\n",
      "    labels_test = []\n",
      "\n",
      "    for ii in train_idx:\n",
      "        features_train.append(features[ii])\n",
      "        word_features_train.append(word_data[ii])\n",
      "        labels_train.append(labels[ii])\n",
      "    for jj in test_idx:\n",
      "        features_test.append(features[jj])\n",
      "        word_features_test.append(word_data[jj])\n",
      "        labels_test.append(labels[jj])\n",
      "    \n",
      "        \n",
      "    word_features_train = vectorizer.fit_transform(word_features_train).toarray()\n",
      "    features_train = np.hstack((features_train, word_features_train))\n",
      "    word_features_test = vectorizer.transform(word_features_test).toarray()\n",
      "    features_test = np.hstack((features_test, word_features_test))\n",
      "\n",
      "    \n",
      "    features_train = scaler.fit_transform(features_train)\n",
      "    features_train = selector.fit_transform(features_train, labels_train)\n",
      "    features_test = scaler.transform(features_test)\n",
      "    features_test = selector.transform(features_test)\n",
      "    '''\n",
      "    ada = AdaBoostClassifier()\n",
      "    parameters = {'n_estimators': [1, 100], 'random_state': [1, 50]}\n",
      "    clf = GridSearchCV(ada, parameters)\n",
      "    clf.fit(features_train, labels_train)\n",
      "    pred = clf.predict(features_test)\n",
      "    '''\n",
      "    clf = SVC(kernel=\"linear\", C=1000.)\n",
      "    clf.fit(features_train, labels_train)\n",
      "    pred = clf.predict(features_test)\n",
      "    #print clf.score(features_test, labels_test)\n",
      "    \n",
      "    \n",
      "    print \"Accuracy: \", clf.score(features_test, labels_test)\n",
      "    print \"Precision: \", precision_score(labels_test, pred)\n",
      "    print \"Recall: \", recall_score(labels_test, pred)\n",
      "    print \"F1_Score: \", f1_score(labels_test, pred)\n",
      "\n",
      "    accuracy.append(clf.score(features_test, labels_test))\n",
      "    precision.append(precision_score(labels_test, pred))\n",
      "    recall.append(recall_score(labels_test, pred))\n",
      "    f1.append(f1_score(labels_test, pred))\n",
      "\n",
      "print \"Average accuracy: \", sum(accuracy) / 6\n",
      "print \"Average precision: \", sum(precision) / 6\n",
      "print \"Average recall: \", sum(recall) / 6\n",
      "print \"Average f1_score: \", sum(f1) / 6"
     ],
     "language": "python",
     "metadata": {},
     "outputs": [
      {
       "output_type": "stream",
       "stream": "stdout",
       "text": [
        "Accuracy:  0.818181818182\n",
        "Precision:  0.0\n",
        "Recall:  0.0\n",
        "F1_Score:  0.0\n",
        "Accuracy: "
       ]
      },
      {
       "output_type": "stream",
       "stream": "stdout",
       "text": [
        " 0.772727272727\n",
        "Precision:  0.0\n",
        "Recall:  0.0\n",
        "F1_Score:  0.0\n",
        "Accuracy: "
       ]
      },
      {
       "output_type": "stream",
       "stream": "stdout",
       "text": [
        " 0.727272727273\n",
        "Precision:  0.285714285714\n",
        "Recall:  0.666666666667\n",
        "F1_Score:  0.4\n",
        "Accuracy: "
       ]
      },
      {
       "output_type": "stream",
       "stream": "stdout",
       "text": [
        " 0.772727272727\n",
        "Precision:  0.0\n",
        "Recall:  0.0\n",
        "F1_Score:  0.0\n",
        "Accuracy: "
       ]
      },
      {
       "output_type": "stream",
       "stream": "stdout",
       "text": [
        " 0.681818181818\n",
        "Precision:  0.0\n",
        "Recall:  0.0\n",
        "F1_Score:  0.0\n",
        "Accuracy: "
       ]
      },
      {
       "output_type": "stream",
       "stream": "stdout",
       "text": [
        " 0.809523809524\n",
        "Precision:  0.0\n",
        "Recall:  0.0\n",
        "F1_Score:  0.0\n",
        "Average accuracy:  0.763708513709\n",
        "Average precision:  0.047619047619\n",
        "Average recall:  0.111111111111\n",
        "Average f1_score:  0.0666666666667\n"
       ]
      }
     ],
     "prompt_number": 30
    },
    {
     "cell_type": "code",
     "collapsed": false,
     "input": [
      "accuracy = []\n",
      "precision = []\n",
      "recall = []\n",
      "f1 = []\n",
      "\n",
      "vectorizer = TfidfVectorizer(stop_words=\"english\", lowercase=True)\n",
      "scaler = MinMaxScaler()\n",
      "selector = SelectPercentile(f_classif, percentile=10)\n",
      "skf = StratifiedKFold(labels, n_folds=6)\n",
      "\n",
      "for train_idx, test_idx in skf:\n",
      "    features_train = []\n",
      "    features_test = []\n",
      "    word_features_train = []\n",
      "    word_features_test = []\n",
      "    labels_train = []\n",
      "    labels_test = []\n",
      "\n",
      "    for ii in train_idx:\n",
      "        features_train.append(features[ii])\n",
      "        word_features_train.append(word_data[ii])\n",
      "        labels_train.append(labels[ii])\n",
      "    for jj in test_idx:\n",
      "        features_test.append(features[jj])\n",
      "        word_features_test.append(word_data[jj])\n",
      "        labels_test.append(labels[jj])\n",
      "    \n",
      "        \n",
      "    word_features_train = vectorizer.fit_transform(word_features_train).toarray()\n",
      "    features_train = np.hstack((features_train, word_features_train))\n",
      "    word_features_test = vectorizer.transform(word_features_test).toarray()\n",
      "    features_test = np.hstack((features_test, word_features_test))\n",
      "\n",
      "    \n",
      "    features_train = scaler.fit_transform(features_train)\n",
      "    features_train = selector.fit_transform(features_train, labels_train)\n",
      "    features_test = scaler.transform(features_test)\n",
      "    features_test = selector.transform(features_test)\n",
      "    '''\n",
      "    ada = AdaBoostClassifier()\n",
      "    parameters = {'n_estimators': [1, 100], 'random_state': [1, 50]}\n",
      "    clf = GridSearchCV(ada, parameters)\n",
      "    clf.fit(features_train, labels_train)\n",
      "    pred = clf.predict(features_test)\n",
      "    '''\n",
      "    clf = SVC(kernel=\"rbf\", C=1000.)\n",
      "    clf.fit(features_train, labels_train)\n",
      "    pred = clf.predict(features_test)\n",
      "    #print clf.score(features_test, labels_test)\n",
      "    \n",
      "    \n",
      "    print \"Accuracy: \", clf.score(features_test, labels_test)\n",
      "    print \"Precision: \", precision_score(labels_test, pred)\n",
      "    print \"Recall: \", recall_score(labels_test, pred)\n",
      "    print \"F1_Score: \", f1_score(labels_test, pred)\n",
      "\n",
      "    accuracy.append(clf.score(features_test, labels_test))\n",
      "    precision.append(precision_score(labels_test, pred))\n",
      "    recall.append(recall_score(labels_test, pred))\n",
      "    f1.append(f1_score(labels_test, pred))\n",
      "\n",
      "print \"Average accuracy: \", sum(accuracy) / 6\n",
      "print \"Average precision: \", sum(precision) / 6\n",
      "print \"Average recall: \", sum(recall) / 6\n",
      "print \"Average f1_score: \", sum(f1) / 6"
     ],
     "language": "python",
     "metadata": {},
     "outputs": [
      {
       "output_type": "stream",
       "stream": "stdout",
       "text": [
        "Accuracy:  0.863636363636\n",
        "Precision:  0.0\n",
        "Recall:  0.0\n",
        "F1_Score:  0.0\n",
        "Accuracy: "
       ]
      },
      {
       "output_type": "stream",
       "stream": "stdout",
       "text": [
        " 0.772727272727\n",
        "Precision:  0.0\n",
        "Recall:  0.0\n",
        "F1_Score:  0.0\n",
        "Accuracy: "
       ]
      },
      {
       "output_type": "stream",
       "stream": "stdout",
       "text": [
        " 0.363636363636\n",
        "Precision:  0.0769230769231\n",
        "Recall:  0.333333333333\n",
        "F1_Score:  0.125\n",
        "Accuracy: "
       ]
      },
      {
       "output_type": "stream",
       "stream": "stdout",
       "text": [
        " 0.772727272727\n",
        "Precision:  0.0\n",
        "Recall:  0.0\n",
        "F1_Score:  0.0\n",
        "Accuracy: "
       ]
      },
      {
       "output_type": "stream",
       "stream": "stdout",
       "text": [
        " 0.772727272727\n",
        "Precision:  0.0\n",
        "Recall:  0.0\n",
        "F1_Score:  0.0\n",
        "Accuracy: "
       ]
      },
      {
       "output_type": "stream",
       "stream": "stdout",
       "text": [
        " 0.761904761905\n",
        "Precision:  0.0\n",
        "Recall:  0.0\n",
        "F1_Score:  0.0\n",
        "Average accuracy:  0.717893217893\n",
        "Average precision:  0.0128205128205\n",
        "Average recall:  0.0555555555556\n",
        "Average f1_score:  0.0208333333333\n"
       ]
      }
     ],
     "prompt_number": 33
    },
    {
     "cell_type": "code",
     "collapsed": false,
     "input": [
      "accuracy = []\n",
      "precision = []\n",
      "recall = []\n",
      "f1 = []\n",
      "\n",
      "vectorizer = TfidfVectorizer(stop_words=\"english\", lowercase=True)\n",
      "scaler = MinMaxScaler()\n",
      "selector = SelectPercentile(f_classif, percentile=10)\n",
      "skf = StratifiedKFold(labels, n_folds=6)\n",
      "\n",
      "for train_idx, test_idx in skf:\n",
      "    features_train = []\n",
      "    features_test = []\n",
      "    word_features_train = []\n",
      "    word_features_test = []\n",
      "    labels_train = []\n",
      "    labels_test = []\n",
      "\n",
      "    for ii in train_idx:\n",
      "        features_train.append(features[ii])\n",
      "        word_features_train.append(word_data[ii])\n",
      "        labels_train.append(labels[ii])\n",
      "    for jj in test_idx:\n",
      "        features_test.append(features[jj])\n",
      "        word_features_test.append(word_data[jj])\n",
      "        labels_test.append(labels[jj])\n",
      "    \n",
      "        \n",
      "    word_features_train = vectorizer.fit_transform(word_features_train).toarray()\n",
      "    features_train = np.hstack((features_train, word_features_train))\n",
      "    word_features_test = vectorizer.transform(word_features_test).toarray()\n",
      "    features_test = np.hstack((features_test, word_features_test))\n",
      "\n",
      "    \n",
      "    features_train = scaler.fit_transform(features_train)\n",
      "    features_train = selector.fit_transform(features_train, labels_train)\n",
      "    features_test = scaler.transform(features_test)\n",
      "    features_test = selector.transform(features_test)\n",
      "\n",
      "    ada = AdaBoostClassifier()\n",
      "    parameters = {'n_estimators': [1, 100], 'random_state': [1, 50]}\n",
      "    clf = GridSearchCV(ada, parameters)\n",
      "    clf.fit(features_train, labels_train)\n",
      "    pred = clf.predict(features_test)\n",
      "\n",
      "    print \"Accuracy: \", clf.score(features_test, labels_test)\n",
      "    print \"Precision: \", precision_score(labels_test, pred)\n",
      "    print \"Recall: \", recall_score(labels_test, pred)\n",
      "    print \"F1_Score: \", f1_score(labels_test, pred)\n",
      "\n",
      "    accuracy.append(clf.score(features_test, labels_test))\n",
      "    precision.append(precision_score(labels_test, pred))\n",
      "    recall.append(recall_score(labels_test, pred))\n",
      "    f1.append(f1_score(labels_test, pred))\n",
      "\n",
      "print \"Average accuracy: \", sum(accuracy) / 6\n",
      "print \"Average precision: \", sum(precision) / 6\n",
      "print \"Average recall: \", sum(recall) / 6\n",
      "print \"Average f1_score: \", sum(f1) / 6"
     ],
     "language": "python",
     "metadata": {},
     "outputs": [
      {
       "output_type": "stream",
       "stream": "stdout",
       "text": [
        "Accuracy:  0.863636363636\n",
        "Precision:  0.0\n",
        "Recall:  0.0\n",
        "F1_Score:  0.0\n",
        "Accuracy: "
       ]
      },
      {
       "output_type": "stream",
       "stream": "stdout",
       "text": [
        " 0.818181818182\n",
        "Precision:  0.0\n",
        "Recall:  0.0\n",
        "F1_Score:  0.0\n",
        "Accuracy: "
       ]
      },
      {
       "output_type": "stream",
       "stream": "stdout",
       "text": [
        " 0.681818181818\n",
        "Precision:  0.25\n",
        "Recall:  0.666666666667\n",
        "F1_Score:  0.363636363636\n",
        "Accuracy: "
       ]
      },
      {
       "output_type": "stream",
       "stream": "stdout",
       "text": [
        " 0.909090909091\n",
        "Precision:  1.0\n",
        "Recall:  0.333333333333\n",
        "F1_Score:  0.5\n",
        "Accuracy: "
       ]
      },
      {
       "output_type": "stream",
       "stream": "stdout",
       "text": [
        " 0.909090909091\n",
        "Precision:  1.0\n",
        "Recall:  0.333333333333\n",
        "F1_Score:  0.5\n",
        "Accuracy: "
       ]
      },
      {
       "output_type": "stream",
       "stream": "stdout",
       "text": [
        " 0.714285714286\n",
        "Precision:  0.2\n",
        "Recall:  0.333333333333\n",
        "F1_Score:  0.25\n",
        "Average accuracy:  0.816017316017\n",
        "Average precision:  0.408333333333\n",
        "Average recall:  0.277777777778\n",
        "Average f1_score:  0.268939393939\n"
       ]
      }
     ],
     "prompt_number": 42
    },
    {
     "cell_type": "code",
     "collapsed": false,
     "input": [
      "accuracy = []\n",
      "precision = []\n",
      "recall = []\n",
      "f1 = []\n",
      "\n",
      "vectorizer = TfidfVectorizer(stop_words=\"english\", lowercase=True, max_df = 0.5, sublinear_tf = True)\n",
      "scaler = MinMaxScaler()\n",
      "selector = SelectPercentile(f_classif, percentile=10)\n",
      "skf = StratifiedKFold(labels, n_folds=6)\n",
      "\n",
      "for train_idx, test_idx in skf:\n",
      "    features_train = []\n",
      "    features_test = []\n",
      "    word_features_train = []\n",
      "    word_features_test = []\n",
      "    labels_train = []\n",
      "    labels_test = []\n",
      "\n",
      "    for ii in train_idx:\n",
      "        features_train.append(features[ii])\n",
      "        word_features_train.append(word_data[ii])\n",
      "        labels_train.append(labels[ii])\n",
      "    for jj in test_idx:\n",
      "        features_test.append(features[jj])\n",
      "        word_features_test.append(word_data[jj])\n",
      "        labels_test.append(labels[jj])\n",
      "    \n",
      "        \n",
      "    word_features_train = vectorizer.fit_transform(word_features_train).toarray()\n",
      "    features_train = np.hstack((features_train, word_features_train))\n",
      "    word_features_test = vectorizer.transform(word_features_test).toarray()\n",
      "    features_test = np.hstack((features_test, word_features_test))\n",
      "\n",
      "    \n",
      "    features_train = scaler.fit_transform(features_train)\n",
      "    features_train = selector.fit_transform(features_train, labels_train)\n",
      "    features_test = scaler.transform(features_test)\n",
      "    features_test = selector.transform(features_test)\n",
      "    '''\n",
      "    ada = AdaBoostClassifier()\n",
      "    parameters = {'n_estimators': [1, 100], 'random_state': [1, 50]}\n",
      "    clf = GridSearchCV(ada, parameters)\n",
      "    clf.fit(features_train, labels_train)\n",
      "    pred = clf.predict(features_test)\n",
      "    '''\n",
      "    clf = GaussianNB()\n",
      "    #parameters = {'n_estimators': [1, 100], 'random_state': [1, 50]}\n",
      "    #clf = GridSearchCV(ada, parameters)\n",
      "    clf.fit(features_train, labels_train)\n",
      "    pred = clf.predict(features_test)\n",
      "    \n",
      "\n",
      "    print \"Accuracy: \", clf.score(features_test, labels_test)\n",
      "    print \"Precision: \", precision_score(labels_test, pred)\n",
      "    print \"Recall: \", recall_score(labels_test, pred)\n",
      "    print \"F1_Score: \", f1_score(labels_test, pred)\n",
      "\n",
      "    accuracy.append(clf.score(features_test, labels_test))\n",
      "    precision.append(precision_score(labels_test, pred))\n",
      "    recall.append(recall_score(labels_test, pred))\n",
      "    f1.append(f1_score(labels_test, pred))\n",
      "\n",
      "print \"Average accuracy: \", sum(accuracy) / 6\n",
      "print \"Average precision: \", sum(precision) / 6\n",
      "print \"Average recall: \", sum(recall) / 6\n",
      "print \"Average f1_score: \", sum(f1) / 6"
     ],
     "language": "python",
     "metadata": {},
     "outputs": [
      {
       "output_type": "stream",
       "stream": "stdout",
       "text": [
        "Accuracy:  0.863636363636\n",
        "Precision:  0.0\n",
        "Recall:  0.0\n",
        "F1_Score:  0.0\n",
        "Accuracy: "
       ]
      },
      {
       "output_type": "stream",
       "stream": "stdout",
       "text": [
        " 0.545454545455\n",
        "Precision:  0.111111111111\n",
        "Recall:  0.333333333333\n",
        "F1_Score:  0.166666666667\n",
        "Accuracy: "
       ]
      },
      {
       "output_type": "stream",
       "stream": "stdout",
       "text": [
        " 0.363636363636\n",
        "Precision:  0.0\n",
        "Recall:  0.0\n",
        "F1_Score:  0.0\n",
        "Accuracy: "
       ]
      },
      {
       "output_type": "stream",
       "stream": "stdout",
       "text": [
        " 0.590909090909\n",
        "Precision:  0.125\n",
        "Recall:  0.333333333333\n",
        "F1_Score:  0.181818181818\n",
        "Accuracy: "
       ]
      },
      {
       "output_type": "stream",
       "stream": "stdout",
       "text": [
        " 0.727272727273\n",
        "Precision:  0.285714285714\n",
        "Recall:  0.666666666667\n",
        "F1_Score:  0.4\n",
        "Accuracy: "
       ]
      },
      {
       "output_type": "stream",
       "stream": "stdout",
       "text": [
        " 0.47619047619\n",
        "Precision:  0.0\n",
        "Recall:  0.0\n",
        "F1_Score:  0.0\n",
        "Average accuracy:  0.594516594517\n",
        "Average precision:  0.0869708994709\n",
        "Average recall:  0.222222222222\n",
        "Average f1_score:  0.124747474747\n"
       ]
      }
     ],
     "prompt_number": 49
    },
    {
     "cell_type": "code",
     "collapsed": false,
     "input": [
      "accuracy = []\n",
      "precision = []\n",
      "recall = []\n",
      "f1 = []\n",
      "\n",
      "vectorizer = TfidfVectorizer(stop_words=\"english\", lowercase=True)\n",
      "scaler = MinMaxScaler()\n",
      "selector = SelectPercentile(f_classif, percentile=5)\n",
      "cv = KFold( len(labels), 5, shuffle=True )\n",
      "\n",
      "for train_idx, test_idx in cv:\n",
      "    features_train = []\n",
      "    features_test = []\n",
      "    word_features_train = []\n",
      "    word_features_test = []\n",
      "    labels_train = []\n",
      "    labels_test = []\n",
      "\n",
      "    for ii in train_idx:\n",
      "        features_train.append(features[ii])\n",
      "        word_features_train.append(word_data[ii])\n",
      "        labels_train.append(labels[ii])\n",
      "    for jj in test_idx:\n",
      "        features_test.append(features[jj])\n",
      "        word_features_test.append(word_data[jj])\n",
      "        labels_test.append(labels[jj])\n",
      "    \n",
      "        \n",
      "    word_features_train = vectorizer.fit_transform(word_features_train).toarray()\n",
      "    features_train = np.hstack((features_train, word_features_train))\n",
      "    word_features_test = vectorizer.transform(word_features_test).toarray()\n",
      "    features_test = np.hstack((features_test, word_features_test))\n",
      "\n",
      "    \n",
      "    features_train = scaler.fit_transform(features_train)\n",
      "    features_train = selector.fit_transform(features_train, labels_train)\n",
      "    features_test = scaler.transform(features_test)\n",
      "    features_test = selector.transform(features_test)\n",
      "    \n",
      "    ada = AdaBoostClassifier()\n",
      "    parameters = {'n_estimators': [1, 100], 'random_state': [1, 50]}\n",
      "    clf = GridSearchCV(ada, parameters)\n",
      "    clf.fit(features_train, labels_train)\n",
      "    pred = clf.predict(features_test)\n",
      "    '''\n",
      "    clf = GaussianNB()\n",
      "    #parameters = {'n_estimators': [1, 100], 'random_state': [1, 50]}\n",
      "    #clf = GridSearchCV(ada, parameters)\n",
      "    clf.fit(features_train, labels_train)\n",
      "    pred = clf.predict(features_test)\n",
      "    '''\n",
      "\n",
      "    print \"Accuracy: \", clf.score(features_test, labels_test)\n",
      "    print \"Precision: \", precision_score(labels_test, pred)\n",
      "    print \"Recall: \", recall_score(labels_test, pred)\n",
      "    print \"F1_Score: \", f1_score(labels_test, pred)\n",
      "\n",
      "    accuracy.append(clf.score(features_test, labels_test))\n",
      "    precision.append(precision_score(labels_test, pred))\n",
      "    recall.append(recall_score(labels_test, pred))\n",
      "    f1.append(f1_score(labels_test, pred))\n",
      "\n",
      "print \"Average accuracy: \", sum(accuracy) / 5\n",
      "print \"Average precision: \", sum(precision) / 5\n",
      "print \"Average recall: \", sum(recall) / 5\n",
      "print \"Average f1_score: \", sum(f1) / 5"
     ],
     "language": "python",
     "metadata": {},
     "outputs": [
      {
       "output_type": "stream",
       "stream": "stdout",
       "text": [
        "Accuracy:  0.740740740741\n",
        "Precision:  0.333333333333\n",
        "Recall:  0.4\n",
        "F1_Score:  0.363636363636\n",
        "Accuracy: "
       ]
      },
      {
       "output_type": "stream",
       "stream": "stdout",
       "text": [
        " 0.884615384615\n",
        "Precision:  0.333333333333\n",
        "Recall:  0.5\n",
        "F1_Score:  0.4\n",
        "Accuracy: "
       ]
      },
      {
       "output_type": "stream",
       "stream": "stdout",
       "text": [
        " 0.846153846154\n",
        "Precision:  0.5\n",
        "Recall:  0.25\n",
        "F1_Score:  0.333333333333\n",
        "Accuracy: "
       ]
      },
      {
       "output_type": "stream",
       "stream": "stdout",
       "text": [
        " 0.884615384615\n",
        "Precision:  1.0\n",
        "Recall:  0.25\n",
        "F1_Score:  0.4\n",
        "Accuracy: "
       ]
      },
      {
       "output_type": "stream",
       "stream": "stdout",
       "text": [
        " 0.923076923077\n",
        "Precision:  1.0\n",
        "Recall:  0.333333333333\n",
        "F1_Score:  0.5\n",
        "Average accuracy:  0.85584045584\n",
        "Average precision:  0.633333333333\n",
        "Average recall:  0.346666666667\n",
        "Average f1_score:  0.399393939394\n"
       ]
      }
     ],
     "prompt_number": 83
    },
    {
     "cell_type": "code",
     "collapsed": false,
     "input": [
      "accuracy = []\n",
      "precision = []\n",
      "recall = []\n",
      "f1 = []\n",
      "\n",
      "vectorizer = TfidfVectorizer(stop_words=\"english\", lowercase=True)\n",
      "scaler = MinMaxScaler()\n",
      "selector = SelectPercentile(f_classif, percentile=10)\n",
      "cv = KFold( len(labels), 6 , shuffle=True )\n",
      "\n",
      "for train_idx, test_idx in cv:\n",
      "    features_train = []\n",
      "    features_test = []\n",
      "    word_features_train = []\n",
      "    word_features_test = []\n",
      "    labels_train = []\n",
      "    labels_test = []\n",
      "\n",
      "    for ii in train_idx:\n",
      "        features_train.append(features[ii])\n",
      "        word_features_train.append(word_data[ii])\n",
      "        labels_train.append(labels[ii])\n",
      "    for jj in test_idx:\n",
      "        features_test.append(features[jj])\n",
      "        word_features_test.append(word_data[jj])\n",
      "        labels_test.append(labels[jj])\n",
      "    \n",
      "        \n",
      "    word_features_train = vectorizer.fit_transform(word_features_train).toarray()\n",
      "    features_train = np.hstack((features_train, word_features_train))\n",
      "    word_features_test = vectorizer.transform(word_features_test).toarray()\n",
      "    features_test = np.hstack((features_test, word_features_test))\n",
      "\n",
      "    \n",
      "    features_train = scaler.fit_transform(features_train)\n",
      "    features_train = selector.fit_transform(features_train, labels_train)\n",
      "    features_test = scaler.transform(features_test)\n",
      "    features_test = selector.transform(features_test)\n",
      "    \n",
      "    ada = AdaBoostClassifier()\n",
      "    parameters = {'n_estimators': [1, 100], 'random_state': [1, 50]}\n",
      "    clf = GridSearchCV(ada, parameters)\n",
      "    clf.fit(features_train, labels_train)\n",
      "    pred = clf.predict(features_test)\n",
      "    '''\n",
      "    clf = GaussianNB()\n",
      "    #parameters = {'n_estimators': [1, 100], 'random_state': [1, 50]}\n",
      "    #clf = GridSearchCV(ada, parameters)\n",
      "    clf.fit(features_train, labels_train)\n",
      "    pred = clf.predict(features_test)\n",
      "    '''\n",
      "\n",
      "    print \"Accuracy: \", clf.score(features_test, labels_test)\n",
      "    print \"Precision: \", precision_score(labels_test, pred)\n",
      "    print \"Recall: \", recall_score(labels_test, pred)\n",
      "    print \"F1_Score: \", f1_score(labels_test, pred)\n",
      "\n",
      "    accuracy.append(clf.score(features_test, labels_test))\n",
      "    precision.append(precision_score(labels_test, pred))\n",
      "    recall.append(recall_score(labels_test, pred))\n",
      "    f1.append(f1_score(labels_test, pred))\n",
      "\n",
      "print \"Average accuracy: \", sum(accuracy) / 6\n",
      "print \"Average precision: \", sum(precision) / 6\n",
      "print \"Average recall: \", sum(recall) / 6\n",
      "print \"Average f1_score: \", sum(f1) / 6"
     ],
     "language": "python",
     "metadata": {},
     "outputs": [
      {
       "output_type": "stream",
       "stream": "stdout",
       "text": [
        "Accuracy:  0.954545454545\n",
        "Precision:  1.0\n",
        "Recall:  0.5\n",
        "F1_Score:  0.666666666667\n",
        "Accuracy: "
       ]
      },
      {
       "output_type": "stream",
       "stream": "stdout",
       "text": [
        " 0.681818181818\n",
        "Precision:  0.0\n",
        "Recall:  0.0\n",
        "F1_Score:  0.0\n",
        "Accuracy: "
       ]
      },
      {
       "output_type": "stream",
       "stream": "stdout",
       "text": [
        " 0.818181818182\n",
        "Precision:  0.2\n",
        "Recall:  1.0\n",
        "F1_Score:  0.333333333333\n",
        "Accuracy: "
       ]
      },
      {
       "output_type": "stream",
       "stream": "stdout",
       "text": [
        " 0.863636363636\n",
        "Precision:  1.0\n",
        "Recall:  0.25\n",
        "F1_Score:  0.4\n",
        "Accuracy: "
       ]
      },
      {
       "output_type": "stream",
       "stream": "stdout",
       "text": [
        " 0.863636363636\n",
        "Precision:  0.0\n",
        "Recall:  0.0\n",
        "F1_Score:  0.0\n",
        "Accuracy: "
       ]
      },
      {
       "output_type": "stream",
       "stream": "stdout",
       "text": [
        " 0.809523809524\n",
        "Precision:  0.0\n",
        "Recall:  0.0\n",
        "F1_Score:  0.0\n",
        "Average accuracy:  0.83189033189\n",
        "Average precision:  0.366666666667\n",
        "Average recall:  0.291666666667\n",
        "Average f1_score:  0.233333333333\n"
       ]
      }
     ],
     "prompt_number": 102
    },
    {
     "cell_type": "code",
     "collapsed": false,
     "input": [
      "accuracy = []\n",
      "precision = []\n",
      "recall = []\n",
      "f1 = []\n",
      "\n",
      "vectorizer = TfidfVectorizer(stop_words=\"english\", lowercase=True)\n",
      "scaler = MinMaxScaler()\n",
      "selector = SelectPercentile(f_classif, percentile=10)\n",
      "cv = KFold( len(labels), 6 , shuffle=True )\n",
      "\n",
      "for train_idx, test_idx in cv:\n",
      "    features_train = []\n",
      "    features_test = []\n",
      "    word_features_train = []\n",
      "    word_features_test = []\n",
      "    labels_train = []\n",
      "    labels_test = []\n",
      "\n",
      "    for ii in train_idx:\n",
      "        features_train.append(features[ii])\n",
      "        word_features_train.append(word_data[ii])\n",
      "        labels_train.append(labels[ii])\n",
      "    for jj in test_idx:\n",
      "        features_test.append(features[jj])\n",
      "        word_features_test.append(word_data[jj])\n",
      "        labels_test.append(labels[jj])\n",
      "    \n",
      "        \n",
      "    word_features_train = vectorizer.fit_transform(word_features_train).toarray()\n",
      "    features_train = np.hstack((features_train, word_features_train))\n",
      "    word_features_test = vectorizer.transform(word_features_test).toarray()\n",
      "    features_test = np.hstack((features_test, word_features_test))\n",
      "\n",
      "    \n",
      "    features_train = scaler.fit_transform(features_train)\n",
      "    features_train = selector.fit_transform(features_train, labels_train)\n",
      "    features_test = scaler.transform(features_test)\n",
      "    features_test = selector.transform(features_test)\n",
      "    \n",
      "    ada = AdaBoostClassifier()\n",
      "    parameters = {'n_estimators': [1, 100], 'random_state': [1, 50]}\n",
      "    clf = GridSearchCV(ada, parameters)\n",
      "    clf.fit(features_train, labels_train)\n",
      "    pred = clf.predict(features_test)\n",
      "    '''\n",
      "    clf = GaussianNB()\n",
      "    #parameters = {'n_estimators': [1, 100], 'random_state': [1, 50]}\n",
      "    #clf = GridSearchCV(ada, parameters)\n",
      "    clf.fit(features_train, labels_train)\n",
      "    pred = clf.predict(features_test)\n",
      "    '''\n",
      "\n",
      "    print \"Accuracy: \", clf.score(features_test, labels_test)\n",
      "    print \"Precision: \", precision_score(labels_test, pred)\n",
      "    print \"Recall: \", recall_score(labels_test, pred)\n",
      "    print \"F1_Score: \", f1_score(labels_test, pred)\n",
      "\n",
      "    accuracy.append(clf.score(features_test, labels_test))\n",
      "    precision.append(precision_score(labels_test, pred))\n",
      "    recall.append(recall_score(labels_test, pred))\n",
      "    f1.append(f1_score(labels_test, pred))\n",
      "\n",
      "print \"Average accuracy: \", sum(accuracy) / 6\n",
      "print \"Average precision: \", sum(precision) / 6\n",
      "print \"Average recall: \", sum(recall) / 6\n",
      "print \"Average f1_score: \", sum(f1) / 6"
     ],
     "language": "python",
     "metadata": {},
     "outputs": [
      {
       "output_type": "stream",
       "stream": "stdout",
       "text": [
        "Accuracy:  0.909090909091\n",
        "Precision:  0.5\n",
        "Recall:  0.5\n",
        "F1_Score:  0.5\n",
        "Accuracy: "
       ]
      },
      {
       "output_type": "stream",
       "stream": "stdout",
       "text": [
        " 0.818181818182\n",
        "Precision:  0.0\n",
        "Recall:  0.0\n",
        "F1_Score:  0.0\n",
        "Accuracy: "
       ]
      },
      {
       "output_type": "stream",
       "stream": "stdout",
       "text": [
        " 0.818181818182\n",
        "Precision:  0.0\n",
        "Recall:  0.0\n",
        "F1_Score:  0.0\n",
        "Accuracy: "
       ]
      },
      {
       "output_type": "stream",
       "stream": "stdout",
       "text": [
        " 0.818181818182\n",
        "Precision:  0.0\n",
        "Recall:  0.0\n",
        "F1_Score:  0.0\n",
        "Accuracy: "
       ]
      },
      {
       "output_type": "stream",
       "stream": "stdout",
       "text": [
        " 0.818181818182\n",
        "Precision:  0.0\n",
        "Recall:  0.0\n",
        "F1_Score:  0.0\n",
        "Accuracy: "
       ]
      },
      {
       "output_type": "stream",
       "stream": "stdout",
       "text": [
        " 0.904761904762\n",
        "Precision:  0.0\n",
        "Recall:  0.0\n",
        "F1_Score:  0.0\n",
        "Average accuracy:  0.847763347763\n",
        "Average precision:  0.0833333333333\n",
        "Average recall:  0.0833333333333\n",
        "Average f1_score:  0.0833333333333\n"
       ]
      }
     ],
     "prompt_number": 103
    },
    {
     "cell_type": "code",
     "collapsed": false,
     "input": [
      "accuracy = []\n",
      "precision = []\n",
      "recall = []\n",
      "f1 = []\n",
      "\n",
      "vectorizer = TfidfVectorizer(stop_words=\"english\", lowercase=True)\n",
      "scaler = MinMaxScaler()\n",
      "selector = SelectPercentile(f_classif, percentile=10)\n",
      "skf = StratifiedKFold(labels, n_folds=6)\n",
      "\n",
      "for train_indices, test_indices in skf:\n",
      "    features_train = []\n",
      "    features_test = []\n",
      "    word_features_train = []\n",
      "    word_features_test = []\n",
      "    labels_train = []\n",
      "    labels_test = []\n",
      "    '''\n",
      "    for ii in train_idx:\n",
      "        features_train.append(features[ii])\n",
      "        word_features_train.append(word_data[ii])\n",
      "        labels_train.append(labels[ii])\n",
      "    for jj in test_idx:\n",
      "        features_test.append(features[jj])\n",
      "        word_features_test.append(word_data[jj])\n",
      "        labels_test.append(labels[jj])\n",
      "    '''\n",
      "    \n",
      "    ### Partitioning of the data into training and testing datasets\n",
      "    \n",
      "    features_train = [features[ii] for ii in train_indices]\n",
      "    word_features_train = [word_data[ii] for ii in train_indices]\n",
      "    labels_train = [labels[ii] for ii in train_indices]\n",
      "       \n",
      "    features_test = [features[jj] for jj in test_indices]\n",
      "    word_features_test = [word_data[jj] for jj in test_indices]\n",
      "    labels_test = [labels[jj] for jj in test_indices]\n",
      "        \n",
      "    ### Fitting and transformation of the training dataset (vectorizer, scaling, feature selection)\n",
      "    \n",
      "    word_features_train = vectorizer.fit_transform(word_features_train).toarray()\n",
      "    features_train = np.hstack((features_train, word_features_train))\n",
      "    \n",
      "    features_train = scaler.fit_transform(features_train)\n",
      "    \n",
      "    features_train = selector.fit_transform(features_train, labels_train)\n",
      "    \n",
      "    ### Transformation of the test dataset (vectorizer, scaling, feature selection)\n",
      "    \n",
      "    word_features_test = vectorizer.transform(word_features_test).toarray()\n",
      "    features_test = np.hstack((features_test, word_features_test))\n",
      "    \n",
      "    features_test = scaler.transform(features_test)\n",
      "    \n",
      "    features_test = selector.transform(features_test)\n",
      "\n",
      "    ### Training the classifer\n",
      "    \n",
      "    ada = AdaBoostClassifier()\n",
      "    parameters = {'n_estimators': [1, 100], 'random_state': [1, 50]}\n",
      "    clf = GridSearchCV(ada, parameters)\n",
      "    clf.fit(features_train, labels_train)\n",
      "    pred = clf.predict(features_test)\n",
      "\n",
      "    ### Evaluating performance metrics\n",
      "    \n",
      "    print \"Accuracy: \", clf.score(features_test, labels_test)\n",
      "    print \"Precision: \", precision_score(labels_test, pred)\n",
      "    print \"Recall: \", recall_score(labels_test, pred)\n",
      "    print \"F1_Score: \", f1_score(labels_test, pred)\n",
      "\n",
      "    accuracy.append(clf.score(features_test, labels_test))\n",
      "    precision.append(precision_score(labels_test, pred))\n",
      "    recall.append(recall_score(labels_test, pred))\n",
      "    f1.append(f1_score(labels_test, pred))\n",
      "\n",
      "print \"Average accuracy: \", sum(accuracy) / 6\n",
      "print \"Average precision: \", sum(precision) / 6\n",
      "print \"Average recall: \", sum(recall) / 6\n",
      "print \"Average f1_score: \", sum(f1) / 6"
     ],
     "language": "python",
     "metadata": {},
     "outputs": [
      {
       "output_type": "stream",
       "stream": "stdout",
       "text": [
        "Accuracy:  0.863636363636\n",
        "Precision:  0.0\n",
        "Recall:  0.0\n",
        "F1_Score:  0.0\n",
        "Accuracy: "
       ]
      },
      {
       "output_type": "stream",
       "stream": "stdout",
       "text": [
        " 0.818181818182\n",
        "Precision:  0.0\n",
        "Recall:  0.0\n",
        "F1_Score:  0.0\n",
        "Accuracy: "
       ]
      },
      {
       "output_type": "stream",
       "stream": "stdout",
       "text": [
        " 0.681818181818\n",
        "Precision:  0.25\n",
        "Recall:  0.666666666667\n",
        "F1_Score:  0.363636363636\n",
        "Accuracy: "
       ]
      },
      {
       "output_type": "stream",
       "stream": "stdout",
       "text": [
        " 0.909090909091\n",
        "Precision:  1.0\n",
        "Recall:  0.333333333333\n",
        "F1_Score:  0.5\n",
        "Accuracy: "
       ]
      },
      {
       "output_type": "stream",
       "stream": "stdout",
       "text": [
        " 0.909090909091\n",
        "Precision:  1.0\n",
        "Recall:  0.333333333333\n",
        "F1_Score:  0.5\n",
        "Accuracy: "
       ]
      },
      {
       "output_type": "stream",
       "stream": "stdout",
       "text": [
        " 0.714285714286\n",
        "Precision:  0.2\n",
        "Recall:  0.333333333333\n",
        "F1_Score:  0.25\n",
        "Average accuracy:  0.816017316017\n",
        "Average precision:  0.408333333333\n",
        "Average recall:  0.277777777778\n",
        "Average f1_score:  0.268939393939\n"
       ]
      }
     ],
     "prompt_number": 110
    },
    {
     "cell_type": "code",
     "collapsed": false,
     "input": [
      "accuracy = []\n",
      "precision = []\n",
      "recall = []\n",
      "f1 = []\n",
      "\n",
      "vectorizer = TfidfVectorizer(stop_words=\"english\", lowercase=True)\n",
      "scaler = MinMaxScaler()\n",
      "selector = SelectPercentile(f_classif, percentile=10)\n",
      "skf = StratifiedKFold(labels, n_folds=6)\n",
      "\n",
      "for train_indices, test_indices in skf:\n",
      "    features_train = []\n",
      "    features_test = []\n",
      "    word_features_train = []\n",
      "    word_features_test = []\n",
      "    labels_train = []\n",
      "    labels_test = []\n",
      "    '''\n",
      "    for ii in train_idx:\n",
      "        features_train.append(features[ii])\n",
      "        word_features_train.append(word_data[ii])\n",
      "        labels_train.append(labels[ii])\n",
      "    for jj in test_idx:\n",
      "        features_test.append(features[jj])\n",
      "        word_features_test.append(word_data[jj])\n",
      "        labels_test.append(labels[jj])\n",
      "    '''\n",
      "    \n",
      "    ### Partitioning of the data into training and testing datasets\n",
      "    \n",
      "    features_train = [features[ii] for ii in train_indices]\n",
      "    word_features_train = [word_data[ii] for ii in train_indices]\n",
      "    labels_train = [labels[ii] for ii in train_indices]\n",
      "       \n",
      "    features_test = [features[jj] for jj in test_indices]\n",
      "    word_features_test = [word_data[jj] for jj in test_indices]\n",
      "    labels_test = [labels[jj] for jj in test_indices]\n",
      "        \n",
      "    ### Fitting and transformation of the training dataset (vectorizer, scaling, feature selection)\n",
      "    \n",
      "    word_features_train = vectorizer.fit_transform(word_features_train).toarray()\n",
      "    features_train = np.hstack((features_train, word_features_train))\n",
      "    \n",
      "    features_train = scaler.fit_transform(features_train)\n",
      "    \n",
      "    features_train = selector.fit_transform(features_train, labels_train)\n",
      "    \n",
      "    ### Transformation of the test dataset (vectorizer, scaling, feature selection)\n",
      "    \n",
      "    word_features_test = vectorizer.transform(word_features_test).toarray()\n",
      "    features_test = np.hstack((features_test, word_features_test))\n",
      "    \n",
      "    features_test = scaler.transform(features_test)\n",
      "    \n",
      "    features_test = selector.transform(features_test)\n",
      "\n",
      "    ### Training the classifer\n",
      "    \n",
      "    ada = AdaBoostClassifier()\n",
      "    parameters = {'n_estimators': [1, 100], 'random_state': [1, 50]}\n",
      "    clf = GridSearchCV(ada, parameters)\n",
      "    clf.fit(features_train, labels_train)\n",
      "    pred = clf.predict(features_test)\n",
      "\n",
      "    ### Evaluating performance metrics\n",
      "    \n",
      "    print \"Accuracy: \", clf.score(features_test, labels_test)\n",
      "    print \"Precision: \", precision_score(labels_test, pred)\n",
      "    print \"Recall: \", recall_score(labels_test, pred)\n",
      "    print \"F1_Score: \", f1_score(labels_test, pred)\n",
      "\n",
      "    accuracy.append(clf.score(features_test, labels_test))\n",
      "    precision.append(precision_score(labels_test, pred))\n",
      "    recall.append(recall_score(labels_test, pred))\n",
      "    f1.append(f1_score(labels_test, pred))\n",
      "\n",
      "print \"Average accuracy: \", sum(accuracy) / 6\n",
      "print \"Average precision: \", sum(precision) / 6\n",
      "print \"Average recall: \", sum(recall) / 6\n",
      "print \"Average f1_score: \", sum(f1) / 6"
     ],
     "language": "python",
     "metadata": {},
     "outputs": [
      {
       "output_type": "stream",
       "stream": "stdout",
       "text": [
        "Accuracy:  0.863636363636\n",
        "Precision:  0.0\n",
        "Recall:  0.0\n",
        "F1_Score:  0.0\n",
        "Accuracy: "
       ]
      },
      {
       "output_type": "stream",
       "stream": "stdout",
       "text": [
        " 0.818181818182\n",
        "Precision:  0.0\n",
        "Recall:  0.0\n",
        "F1_Score:  0.0\n",
        "Accuracy: "
       ]
      },
      {
       "output_type": "stream",
       "stream": "stdout",
       "text": [
        " 0.681818181818\n",
        "Precision:  0.25\n",
        "Recall:  0.666666666667\n",
        "F1_Score:  0.363636363636\n",
        "Accuracy: "
       ]
      },
      {
       "output_type": "stream",
       "stream": "stdout",
       "text": [
        " 0.909090909091\n",
        "Precision:  1.0\n",
        "Recall:  0.333333333333\n",
        "F1_Score:  0.5\n",
        "Accuracy: "
       ]
      },
      {
       "output_type": "stream",
       "stream": "stdout",
       "text": [
        " 0.863636363636\n",
        "Precision:  0.0\n",
        "Recall:  0.0\n",
        "F1_Score:  0.0\n",
        "Accuracy: "
       ]
      },
      {
       "output_type": "stream",
       "stream": "stdout",
       "text": [
        " 0.714285714286\n",
        "Precision:  0.2\n",
        "Recall:  0.333333333333\n",
        "F1_Score:  0.25\n",
        "Average accuracy:  0.808441558442\n",
        "Average precision:  0.241666666667\n",
        "Average recall:  0.222222222222\n",
        "Average f1_score:  0.185606060606\n"
       ]
      },
      {
       "output_type": "stream",
       "stream": "stderr",
       "text": [
        "C:\\Users\\Saad_Khan\\Anaconda\\lib\\site-packages\\sklearn\\metrics\\metrics.py:1771: UndefinedMetricWarning: Precision is ill-defined and being set to 0.0 due to no predicted samples.\n",
        "  'precision', 'predicted', average, warn_for)\n",
        "C:\\Users\\Saad_Khan\\Anaconda\\lib\\site-packages\\sklearn\\metrics\\metrics.py:1771: UndefinedMetricWarning: F-score is ill-defined and being set to 0.0 due to no predicted samples.\n",
        "  'precision', 'predicted', average, warn_for)\n"
       ]
      }
     ],
     "prompt_number": 20
    },
    {
     "cell_type": "code",
     "collapsed": false,
     "input": [
      "accuracy = []\n",
      "precision = []\n",
      "recall = []\n",
      "f1 = []\n",
      "\n",
      "vectorizer = TfidfVectorizer(stop_words=\"english\", lowercase=True)\n",
      "scaler = MinMaxScaler()\n",
      "selector = SelectPercentile(f_classif, percentile=10)\n",
      "skf = StratifiedKFold(labels, n_folds=6, shuffle = True)\n",
      "\n",
      "for train_indices, test_indices in skf:\n",
      "    features_train = []\n",
      "    features_test = []\n",
      "    word_features_train = []\n",
      "    word_features_test = []\n",
      "    labels_train = []\n",
      "    labels_test = []\n",
      "    '''\n",
      "    for ii in train_idx:\n",
      "        features_train.append(features[ii])\n",
      "        word_features_train.append(word_data[ii])\n",
      "        labels_train.append(labels[ii])\n",
      "    for jj in test_idx:\n",
      "        features_test.append(features[jj])\n",
      "        word_features_test.append(word_data[jj])\n",
      "        labels_test.append(labels[jj])\n",
      "    '''\n",
      "    \n",
      "    ### Partitioning of the data into training and testing datasets\n",
      "    \n",
      "    features_train = [features[ii] for ii in train_indices]\n",
      "    word_features_train = [word_data[ii] for ii in train_indices]\n",
      "    labels_train = [labels[ii] for ii in train_indices]\n",
      "       \n",
      "    features_test = [features[jj] for jj in test_indices]\n",
      "    word_features_test = [word_data[jj] for jj in test_indices]\n",
      "    labels_test = [labels[jj] for jj in test_indices]\n",
      "        \n",
      "    ### Fitting and transformation of the training dataset (vectorizer, scaling, feature selection)\n",
      "    \n",
      "    word_features_train = vectorizer.fit_transform(word_features_train).toarray()\n",
      "    features_train = np.hstack((features_train, word_features_train))\n",
      "    \n",
      "    features_train = scaler.fit_transform(features_train)\n",
      "    \n",
      "    features_train = selector.fit_transform(features_train, labels_train)\n",
      "    \n",
      "    ### Transformation of the test dataset (vectorizer, scaling, feature selection)\n",
      "    \n",
      "    word_features_test = vectorizer.transform(word_features_test).toarray()\n",
      "    features_test = np.hstack((features_test, word_features_test))\n",
      "    \n",
      "    features_test = scaler.transform(features_test)\n",
      "    \n",
      "    features_test = selector.transform(features_test)\n",
      "\n",
      "    ### Training the classifer\n",
      "    \n",
      "    ada = AdaBoostClassifier()\n",
      "    parameters = {'n_estimators': [1, 100], 'random_state': [1, 50]}\n",
      "    clf = GridSearchCV(ada, parameters)\n",
      "    clf.fit(features_train, labels_train)\n",
      "    pred = clf.predict(features_test)\n",
      "\n",
      "    ### Evaluating performance metrics\n",
      "    \n",
      "    print \"Accuracy: \", clf.score(features_test, labels_test)\n",
      "    print \"Precision: \", precision_score(labels_test, pred)\n",
      "    print \"Recall: \", recall_score(labels_test, pred)\n",
      "    print \"F1_Score: \", f1_score(labels_test, pred)\n",
      "\n",
      "    accuracy.append(clf.score(features_test, labels_test))\n",
      "    precision.append(precision_score(labels_test, pred))\n",
      "    recall.append(recall_score(labels_test, pred))\n",
      "    f1.append(f1_score(labels_test, pred))\n",
      "\n",
      "print \"Average accuracy: \", sum(accuracy) / 6\n",
      "print \"Average precision: \", sum(precision) / 6\n",
      "print \"Average recall: \", sum(recall) / 6\n",
      "print \"Average f1_score: \", sum(f1) / 6"
     ],
     "language": "python",
     "metadata": {},
     "outputs": [
      {
       "output_type": "stream",
       "stream": "stdout",
       "text": [
        "Accuracy:  0.909090909091\n",
        "Precision:  1.0\n",
        "Recall:  0.333333333333\n",
        "F1_Score:  0.5\n",
        "Accuracy: "
       ]
      },
      {
       "output_type": "stream",
       "stream": "stdout",
       "text": [
        " 0.818181818182\n",
        "Precision:  0.0\n",
        "Recall:  0.0\n",
        "F1_Score:  0.0\n",
        "Accuracy: "
       ]
      },
      {
       "output_type": "stream",
       "stream": "stdout",
       "text": [
        " 0.863636363636\n",
        "Precision:  0.0\n",
        "Recall:  0.0\n",
        "F1_Score:  0.0\n",
        "Accuracy: "
       ]
      },
      {
       "output_type": "stream",
       "stream": "stdout",
       "text": [
        " 0.909090909091\n",
        "Precision:  1.0\n",
        "Recall:  0.333333333333\n",
        "F1_Score:  0.5\n",
        "Accuracy: "
       ]
      },
      {
       "output_type": "stream",
       "stream": "stdout",
       "text": [
        " 0.863636363636\n",
        "Precision:  0.0\n",
        "Recall:  0.0\n",
        "F1_Score:  0.0\n",
        "Accuracy: "
       ]
      },
      {
       "output_type": "stream",
       "stream": "stdout",
       "text": [
        " 0.904761904762\n",
        "Precision:  0.666666666667\n",
        "Recall:  0.666666666667\n",
        "F1_Score:  0.666666666667\n",
        "Average accuracy:  0.878066378066\n",
        "Average precision:  0.444444444444\n",
        "Average recall:  0.222222222222\n",
        "Average f1_score:  0.277777777778\n"
       ]
      }
     ],
     "prompt_number": 25
    },
    {
     "cell_type": "code",
     "collapsed": false,
     "input": [
      "accuracy = []\n",
      "precision = []\n",
      "recall = []\n",
      "f1 = []\n",
      "\n",
      "vectorizer = TfidfVectorizer(stop_words=\"english\", lowercase=True)\n",
      "scaler = MinMaxScaler()\n",
      "selector = SelectPercentile(f_classif, percentile=10)\n",
      "skf = StratifiedKFold(labels, n_folds=6, shuffle = True)\n",
      "\n",
      "for train_indices, test_indices in skf:\n",
      "    features_train = []\n",
      "    features_test = []\n",
      "    word_features_train = []\n",
      "    word_features_test = []\n",
      "    labels_train = []\n",
      "    labels_test = []\n",
      "    '''\n",
      "    for ii in train_idx:\n",
      "        features_train.append(features[ii])\n",
      "        word_features_train.append(word_data[ii])\n",
      "        labels_train.append(labels[ii])\n",
      "    for jj in test_idx:\n",
      "        features_test.append(features[jj])\n",
      "        word_features_test.append(word_data[jj])\n",
      "        labels_test.append(labels[jj])\n",
      "    '''\n",
      "    \n",
      "    ### Partitioning of the data into training and testing datasets\n",
      "    \n",
      "    features_train = [features[ii] for ii in train_indices]\n",
      "    word_features_train = [word_data[ii] for ii in train_indices]\n",
      "    labels_train = [labels[ii] for ii in train_indices]\n",
      "       \n",
      "    features_test = [features[jj] for jj in test_indices]\n",
      "    word_features_test = [word_data[jj] for jj in test_indices]\n",
      "    labels_test = [labels[jj] for jj in test_indices]\n",
      "        \n",
      "    ### Fitting and transformation of the training dataset (vectorizer, scaling, feature selection)\n",
      "    \n",
      "    word_features_train = vectorizer.fit_transform(word_features_train).toarray()\n",
      "    features_train = np.hstack((features_train, word_features_train))\n",
      "    \n",
      "    features_train = scaler.fit_transform(features_train)\n",
      "    \n",
      "    features_train = selector.fit_transform(features_train, labels_train)\n",
      "    \n",
      "    ### Transformation of the test dataset (vectorizer, scaling, feature selection)\n",
      "    \n",
      "    word_features_test = vectorizer.transform(word_features_test).toarray()\n",
      "    features_test = np.hstack((features_test, word_features_test))\n",
      "    \n",
      "    features_test = scaler.transform(features_test)\n",
      "    \n",
      "    features_test = selector.transform(features_test)\n",
      "\n",
      "    ### Training the classifer\n",
      "    \n",
      "    ada = AdaBoostClassifier()\n",
      "    parameters = {'n_estimators': [1, 100], 'random_state': [1, 50]}\n",
      "    clf = GridSearchCV(ada, parameters)\n",
      "    clf.fit(features_train, labels_train)\n",
      "    pred = clf.predict(features_test)\n",
      "\n",
      "    ### Evaluating performance metrics\n",
      "    \n",
      "    print \"Accuracy: \", clf.score(features_test, labels_test)\n",
      "    print \"Precision: \", precision_score(labels_test, pred)\n",
      "    print \"Recall: \", recall_score(labels_test, pred)\n",
      "    print \"F1_Score: \", f1_score(labels_test, pred)\n",
      "\n",
      "    accuracy.append(clf.score(features_test, labels_test))\n",
      "    precision.append(precision_score(labels_test, pred))\n",
      "    recall.append(recall_score(labels_test, pred))\n",
      "    f1.append(f1_score(labels_test, pred))\n",
      "\n",
      "print \"Average accuracy: \", sum(accuracy) / 6\n",
      "print \"Average precision: \", sum(precision) / 6\n",
      "print \"Average recall: \", sum(recall) / 6\n",
      "print \"Average f1_score: \", sum(f1) / 6"
     ],
     "language": "python",
     "metadata": {},
     "outputs": [
      {
       "output_type": "stream",
       "stream": "stdout",
       "text": [
        "Accuracy:  0.772727272727\n",
        "Precision:  0.333333333333\n",
        "Recall:  0.666666666667\n",
        "F1_Score:  0.444444444444\n",
        "Accuracy: "
       ]
      },
      {
       "output_type": "stream",
       "stream": "stdout",
       "text": [
        " 0.954545454545\n",
        "Precision:  1.0\n",
        "Recall:  0.666666666667\n",
        "F1_Score:  0.8\n",
        "Accuracy: "
       ]
      },
      {
       "output_type": "stream",
       "stream": "stdout",
       "text": [
        " 0.863636363636\n",
        "Precision:  0.5\n",
        "Recall:  0.333333333333\n",
        "F1_Score:  0.4\n",
        "Accuracy: "
       ]
      },
      {
       "output_type": "stream",
       "stream": "stdout",
       "text": [
        " 0.863636363636\n",
        "Precision:  0.0\n",
        "Recall:  0.0\n",
        "F1_Score:  0.0\n",
        "Accuracy: "
       ]
      },
      {
       "output_type": "stream",
       "stream": "stdout",
       "text": [
        " 0.681818181818\n",
        "Precision:  0.0\n",
        "Recall:  0.0\n",
        "F1_Score:  0.0\n",
        "Accuracy: "
       ]
      },
      {
       "output_type": "stream",
       "stream": "stdout",
       "text": [
        " 0.857142857143\n",
        "Precision:  0.0\n",
        "Recall:  0.0\n",
        "F1_Score:  0.0\n",
        "Average accuracy:  0.832251082251\n",
        "Average precision:  0.305555555556\n",
        "Average recall:  0.277777777778\n",
        "Average f1_score:  0.274074074074\n"
       ]
      }
     ],
     "prompt_number": 27
    },
    {
     "cell_type": "code",
     "collapsed": false,
     "input": [
      "accuracy = []\n",
      "precision = []\n",
      "recall = []\n",
      "f1 = []\n",
      "\n",
      "vectorizer = TfidfVectorizer(stop_words=\"english\", lowercase=True)\n",
      "scaler = MinMaxScaler()\n",
      "selector = SelectPercentile(f_classif, percentile=10)\n",
      "skf = StratifiedKFold(labels, n_folds=6, shuffle = True)\n",
      "\n",
      "for train_indices, test_indices in skf:\n",
      "    features_train = []\n",
      "    features_test = []\n",
      "    word_features_train = []\n",
      "    word_features_test = []\n",
      "    labels_train = []\n",
      "    labels_test = []\n",
      "    '''\n",
      "    for ii in train_idx:\n",
      "        features_train.append(features[ii])\n",
      "        word_features_train.append(word_data[ii])\n",
      "        labels_train.append(labels[ii])\n",
      "    for jj in test_idx:\n",
      "        features_test.append(features[jj])\n",
      "        word_features_test.append(word_data[jj])\n",
      "        labels_test.append(labels[jj])\n",
      "    '''\n",
      "    \n",
      "    ### Partitioning of the data into training and testing datasets\n",
      "    \n",
      "    features_train = [features[ii] for ii in train_indices]\n",
      "    word_features_train = [word_data[ii] for ii in train_indices]\n",
      "    labels_train = [labels[ii] for ii in train_indices]\n",
      "       \n",
      "    features_test = [features[jj] for jj in test_indices]\n",
      "    word_features_test = [word_data[jj] for jj in test_indices]\n",
      "    labels_test = [labels[jj] for jj in test_indices]\n",
      "        \n",
      "    ### Fitting and transformation of the training dataset (vectorizer, scaling, feature selection)\n",
      "    \n",
      "    word_features_train = vectorizer.fit_transform(word_features_train).toarray()\n",
      "    features_train = np.hstack((features_train, word_features_train))\n",
      "    \n",
      "    features_train = scaler.fit_transform(features_train)\n",
      "    \n",
      "    features_train = selector.fit_transform(features_train, labels_train)\n",
      "    \n",
      "    ### Transformation of the test dataset (vectorizer, scaling, feature selection)\n",
      "    \n",
      "    word_features_test = vectorizer.transform(word_features_test).toarray()\n",
      "    features_test = np.hstack((features_test, word_features_test))\n",
      "    \n",
      "    features_test = scaler.transform(features_test)\n",
      "    \n",
      "    features_test = selector.transform(features_test)\n",
      "\n",
      "    ### Training the classifer\n",
      "    \n",
      "    ada = AdaBoostClassifier()\n",
      "    parameters = {'n_estimators': [1, 100], 'random_state': [1, 50]}\n",
      "    clf = GridSearchCV(ada, parameters)\n",
      "    clf.fit(features_train, labels_train)\n",
      "    pred = clf.predict(features_test)\n",
      "\n",
      "    ### Evaluating performance metrics\n",
      "    \n",
      "    print \"Accuracy: \", clf.score(features_test, labels_test)\n",
      "    print \"Precision: \", precision_score(labels_test, pred)\n",
      "    print \"Recall: \", recall_score(labels_test, pred)\n",
      "    print \"F1_Score: \", f1_score(labels_test, pred)\n",
      "\n",
      "    accuracy.append(clf.score(features_test, labels_test))\n",
      "    precision.append(precision_score(labels_test, pred))\n",
      "    recall.append(recall_score(labels_test, pred))\n",
      "    f1.append(f1_score(labels_test, pred))\n",
      "\n",
      "print \"Average accuracy: \", sum(accuracy) / 6\n",
      "print \"Average precision: \", sum(precision) / 6\n",
      "print \"Average recall: \", sum(recall) / 6\n",
      "print \"Average f1_score: \", sum(f1) / 6"
     ],
     "language": "python",
     "metadata": {},
     "outputs": [
      {
       "output_type": "stream",
       "stream": "stdout",
       "text": [
        "Accuracy:  0.909090909091\n",
        "Precision:  1.0\n",
        "Recall:  0.333333333333\n",
        "F1_Score:  0.5\n",
        "Accuracy: "
       ]
      },
      {
       "output_type": "stream",
       "stream": "stdout",
       "text": [
        " 0.909090909091\n",
        "Precision:  1.0\n",
        "Recall:  0.333333333333\n",
        "F1_Score:  0.5\n",
        "Accuracy: "
       ]
      },
      {
       "output_type": "stream",
       "stream": "stdout",
       "text": [
        " 0.772727272727\n",
        "Precision:  0.333333333333\n",
        "Recall:  0.666666666667\n",
        "F1_Score:  0.444444444444\n",
        "Accuracy: "
       ]
      },
      {
       "output_type": "stream",
       "stream": "stdout",
       "text": [
        " 0.772727272727\n",
        "Precision:  0.0\n",
        "Recall:  0.0\n",
        "F1_Score:  0.0\n",
        "Accuracy: "
       ]
      },
      {
       "output_type": "stream",
       "stream": "stdout",
       "text": [
        " 0.863636363636\n",
        "Precision:  0.0\n",
        "Recall:  0.0\n",
        "F1_Score:  0.0\n",
        "Accuracy: "
       ]
      },
      {
       "output_type": "stream",
       "stream": "stdout",
       "text": [
        " 0.857142857143\n",
        "Precision:  0.0\n",
        "Recall:  0.0\n",
        "F1_Score:  0.0\n",
        "Average accuracy:  0.847402597403\n",
        "Average precision:  0.388888888889\n",
        "Average recall:  0.222222222222\n",
        "Average f1_score:  0.240740740741\n"
       ]
      }
     ],
     "prompt_number": 28
    },
    {
     "cell_type": "code",
     "collapsed": false,
     "input": [
      "accuracy = []\n",
      "precision = []\n",
      "recall = []\n",
      "f1 = []\n",
      "\n",
      "vectorizer = TfidfVectorizer(stop_words=\"english\", lowercase=True)\n",
      "scaler = MinMaxScaler()\n",
      "selector = SelectPercentile(f_classif, percentile=10)\n",
      "skf = StratifiedKFold(labels, n_folds=6, shuffle = True)\n",
      "\n",
      "for train_indices, test_indices in skf:\n",
      "    features_train = []\n",
      "    features_test = []\n",
      "    word_features_train = []\n",
      "    word_features_test = []\n",
      "    labels_train = []\n",
      "    labels_test = []\n",
      "    '''\n",
      "    for ii in train_idx:\n",
      "        features_train.append(features[ii])\n",
      "        word_features_train.append(word_data[ii])\n",
      "        labels_train.append(labels[ii])\n",
      "    for jj in test_idx:\n",
      "        features_test.append(features[jj])\n",
      "        word_features_test.append(word_data[jj])\n",
      "        labels_test.append(labels[jj])\n",
      "    '''\n",
      "    \n",
      "    ### Partitioning of the data into training and testing datasets\n",
      "    \n",
      "    features_train = [features[ii] for ii in train_indices]\n",
      "    word_features_train = [word_data[ii] for ii in train_indices]\n",
      "    labels_train = [labels[ii] for ii in train_indices]\n",
      "       \n",
      "    features_test = [features[jj] for jj in test_indices]\n",
      "    word_features_test = [word_data[jj] for jj in test_indices]\n",
      "    labels_test = [labels[jj] for jj in test_indices]\n",
      "        \n",
      "    ### Fitting and transformation of the training dataset (vectorizer, scaling, feature selection)\n",
      "    \n",
      "    word_features_train = vectorizer.fit_transform(word_features_train).toarray()\n",
      "    features_train = np.hstack((features_train, word_features_train))\n",
      "    \n",
      "    features_train = scaler.fit_transform(features_train)\n",
      "    \n",
      "    features_train = selector.fit_transform(features_train, labels_train)\n",
      "    \n",
      "    ### Transformation of the test dataset (vectorizer, scaling, feature selection)\n",
      "    \n",
      "    word_features_test = vectorizer.transform(word_features_test).toarray()\n",
      "    features_test = np.hstack((features_test, word_features_test))\n",
      "    \n",
      "    features_test = scaler.transform(features_test)\n",
      "    \n",
      "    features_test = selector.transform(features_test)\n",
      "\n",
      "    ### Training the classifer\n",
      "    \n",
      "    ada = AdaBoostClassifier()\n",
      "    parameters = {'n_estimators': [1, 100], 'random_state': [1, 50]}\n",
      "    clf = GridSearchCV(ada, parameters)\n",
      "    clf.fit(features_train, labels_train)\n",
      "    pred = clf.predict(features_test)\n",
      "\n",
      "    ### Evaluating performance metrics\n",
      "    \n",
      "    print \"Accuracy: \", clf.score(features_test, labels_test)\n",
      "    print \"Precision: \", precision_score(labels_test, pred)\n",
      "    print \"Recall: \", recall_score(labels_test, pred)\n",
      "    print \"F1_Score: \", f1_score(labels_test, pred)\n",
      "\n",
      "    accuracy.append(clf.score(features_test, labels_test))\n",
      "    precision.append(precision_score(labels_test, pred))\n",
      "    recall.append(recall_score(labels_test, pred))\n",
      "    f1.append(f1_score(labels_test, pred))\n",
      "\n",
      "print \"Average accuracy: \", sum(accuracy) / 6\n",
      "print \"Average precision: \", sum(precision) / 6\n",
      "print \"Average recall: \", sum(recall) / 6\n",
      "print \"Average f1_score: \", sum(f1) / 6"
     ],
     "language": "python",
     "metadata": {},
     "outputs": [
      {
       "output_type": "stream",
       "stream": "stdout",
       "text": [
        "Accuracy:  0.909090909091\n",
        "Precision:  1.0\n",
        "Recall:  0.333333333333\n",
        "F1_Score:  0.5\n",
        "Accuracy: "
       ]
      },
      {
       "output_type": "stream",
       "stream": "stdout",
       "text": [
        " 0.909090909091\n",
        "Precision:  1.0\n",
        "Recall:  0.333333333333\n",
        "F1_Score:  0.5\n",
        "Accuracy: "
       ]
      },
      {
       "output_type": "stream",
       "stream": "stdout",
       "text": [
        " 0.772727272727\n",
        "Precision:  0.0\n",
        "Recall:  0.0\n",
        "F1_Score:  0.0\n",
        "Accuracy: "
       ]
      },
      {
       "output_type": "stream",
       "stream": "stdout",
       "text": [
        " 0.863636363636\n",
        "Precision:  0.0\n",
        "Recall:  0.0\n",
        "F1_Score:  0.0\n",
        "Accuracy: "
       ]
      },
      {
       "output_type": "stream",
       "stream": "stdout",
       "text": [
        " 0.863636363636\n",
        "Precision:  0.5\n",
        "Recall:  0.333333333333\n",
        "F1_Score:  0.4\n",
        "Accuracy: "
       ]
      },
      {
       "output_type": "stream",
       "stream": "stdout",
       "text": [
        " 0.761904761905\n",
        "Precision:  0.25\n",
        "Recall:  0.333333333333\n",
        "F1_Score:  0.285714285714\n",
        "Average accuracy:  0.846681096681\n",
        "Average precision:  0.458333333333\n",
        "Average recall:  0.222222222222\n",
        "Average f1_score:  0.280952380952\n"
       ]
      }
     ],
     "prompt_number": 29
    },
    {
     "cell_type": "code",
     "collapsed": false,
     "input": [
      "accuracy = []\n",
      "precision = []\n",
      "recall = []\n",
      "f1 = []\n",
      "\n",
      "vectorizer = TfidfVectorizer(stop_words=\"english\", lowercase=True)\n",
      "scaler = MinMaxScaler()\n",
      "selector = SelectPercentile(f_classif, percentile=10)\n",
      "skf = StratifiedKFold(labels, n_folds=6, shuffle = True)\n",
      "\n",
      "for train_indices, test_indices in skf:\n",
      "    features_train = []\n",
      "    features_test = []\n",
      "    word_features_train = []\n",
      "    word_features_test = []\n",
      "    labels_train = []\n",
      "    labels_test = []\n",
      "    '''\n",
      "    for ii in train_idx:\n",
      "        features_train.append(features[ii])\n",
      "        word_features_train.append(word_data[ii])\n",
      "        labels_train.append(labels[ii])\n",
      "    for jj in test_idx:\n",
      "        features_test.append(features[jj])\n",
      "        word_features_test.append(word_data[jj])\n",
      "        labels_test.append(labels[jj])\n",
      "    '''\n",
      "    \n",
      "    ### Partitioning of the data into training and testing datasets\n",
      "    \n",
      "    features_train = [features[ii] for ii in train_indices]\n",
      "    word_features_train = [word_data[ii] for ii in train_indices]\n",
      "    labels_train = [labels[ii] for ii in train_indices]\n",
      "       \n",
      "    features_test = [features[jj] for jj in test_indices]\n",
      "    word_features_test = [word_data[jj] for jj in test_indices]\n",
      "    labels_test = [labels[jj] for jj in test_indices]\n",
      "        \n",
      "    ### Fitting and transformation of the training dataset (vectorizer, scaling, feature selection)\n",
      "    \n",
      "    word_features_train = vectorizer.fit_transform(word_features_train).toarray()\n",
      "    features_train = np.hstack((features_train, word_features_train))\n",
      "    \n",
      "    features_train = scaler.fit_transform(features_train)\n",
      "    \n",
      "    features_train = selector.fit_transform(features_train, labels_train)\n",
      "    \n",
      "    ### Transformation of the test dataset (vectorizer, scaling, feature selection)\n",
      "    \n",
      "    word_features_test = vectorizer.transform(word_features_test).toarray()\n",
      "    features_test = np.hstack((features_test, word_features_test))\n",
      "    \n",
      "    features_test = scaler.transform(features_test)\n",
      "    \n",
      "    features_test = selector.transform(features_test)\n",
      "\n",
      "    ### Training the classifer\n",
      "    \n",
      "    ada = AdaBoostClassifier()\n",
      "    parameters = {'n_estimators': [1, 100], 'random_state': [1, 50]}\n",
      "    clf = GridSearchCV(ada, parameters)\n",
      "    clf.fit(features_train, labels_train)\n",
      "    pred = clf.predict(features_test)\n",
      "\n",
      "    ### Evaluating performance metrics\n",
      "    \n",
      "    print \"Accuracy: \", clf.score(features_test, labels_test)\n",
      "    print \"Precision: \", precision_score(labels_test, pred)\n",
      "    print \"Recall: \", recall_score(labels_test, pred)\n",
      "    print \"F1_Score: \", f1_score(labels_test, pred)\n",
      "\n",
      "    accuracy.append(clf.score(features_test, labels_test))\n",
      "    precision.append(precision_score(labels_test, pred))\n",
      "    recall.append(recall_score(labels_test, pred))\n",
      "    f1.append(f1_score(labels_test, pred))\n",
      "\n",
      "print \"Average accuracy: \", sum(accuracy) / 6\n",
      "print \"Average precision: \", sum(precision) / 6\n",
      "print \"Average recall: \", sum(recall) / 6\n",
      "print \"Average f1_score: \", sum(f1) / 6"
     ],
     "language": "python",
     "metadata": {},
     "outputs": [
      {
       "output_type": "stream",
       "stream": "stdout",
       "text": [
        "Accuracy:  0.863636363636\n",
        "Precision:  0.0\n",
        "Recall:  0.0\n",
        "F1_Score:  0.0\n",
        "Accuracy: "
       ]
      },
      {
       "output_type": "stream",
       "stream": "stdout",
       "text": [
        " 0.818181818182\n",
        "Precision:  0.0\n",
        "Recall:  0.0\n",
        "F1_Score:  0.0\n",
        "Accuracy: "
       ]
      },
      {
       "output_type": "stream",
       "stream": "stdout",
       "text": [
        " 0.772727272727\n",
        "Precision:  0.0\n",
        "Recall:  0.0\n",
        "F1_Score:  0.0\n",
        "Accuracy: "
       ]
      },
      {
       "output_type": "stream",
       "stream": "stdout",
       "text": [
        " 0.772727272727\n",
        "Precision:  0.25\n",
        "Recall:  0.333333333333\n",
        "F1_Score:  0.285714285714\n",
        "Accuracy: "
       ]
      },
      {
       "output_type": "stream",
       "stream": "stdout",
       "text": [
        " 0.909090909091\n",
        "Precision:  1.0\n",
        "Recall:  0.333333333333\n",
        "F1_Score:  0.5\n",
        "Accuracy: "
       ]
      },
      {
       "output_type": "stream",
       "stream": "stdout",
       "text": [
        " 0.809523809524\n",
        "Precision:  0.333333333333\n",
        "Recall:  0.333333333333\n",
        "F1_Score:  0.333333333333\n",
        "Average accuracy:  0.824314574315\n",
        "Average precision:  0.263888888889\n",
        "Average recall:  0.166666666667\n",
        "Average f1_score:  0.186507936508\n"
       ]
      }
     ],
     "prompt_number": 30
    },
    {
     "cell_type": "code",
     "collapsed": false,
     "input": [
      "accuracy = []\n",
      "precision = []\n",
      "recall = []\n",
      "f1 = []\n",
      "\n",
      "vectorizer = TfidfVectorizer(stop_words=\"english\", lowercase=True)\n",
      "scaler = MinMaxScaler()\n",
      "selector = SelectPercentile(f_classif, percentile=10)\n",
      "skf = StratifiedKFold(labels, n_folds=6)\n",
      "\n",
      "for train_indices, test_indices in skf:\n",
      "    features_train = []\n",
      "    features_test = []\n",
      "    word_features_train = []\n",
      "    word_features_test = []\n",
      "    labels_train = []\n",
      "    labels_test = []\n",
      "    '''\n",
      "    for ii in train_idx:\n",
      "        features_train.append(features[ii])\n",
      "        word_features_train.append(word_data[ii])\n",
      "        labels_train.append(labels[ii])\n",
      "    for jj in test_idx:\n",
      "        features_test.append(features[jj])\n",
      "        word_features_test.append(word_data[jj])\n",
      "        labels_test.append(labels[jj])\n",
      "    '''\n",
      "    \n",
      "    ### Partitioning of the data into training and testing datasets\n",
      "    \n",
      "    features_train = [features[ii] for ii in train_indices]\n",
      "    #word_features_train = [word_data[ii] for ii in train_indices]\n",
      "    labels_train = [labels[ii] for ii in train_indices]\n",
      "       \n",
      "    features_test = [features[jj] for jj in test_indices]\n",
      "    #word_features_test = [word_data[jj] for jj in test_indices]\n",
      "    labels_test = [labels[jj] for jj in test_indices]\n",
      "        \n",
      "    ### Fitting and transformation of the training dataset (vectorizer, scaling, feature selection)\n",
      "    \n",
      "    #word_features_train = vectorizer.fit_transform(word_features_train).toarray()\n",
      "    #features_train = np.hstack((features_train, word_features_train))\n",
      "    \n",
      "    features_train = scaler.fit_transform(features_train)\n",
      "    \n",
      "    features_train = selector.fit_transform(features_train, labels_train)\n",
      "    \n",
      "    ### Transformation of the test dataset (vectorizer, scaling, feature selection)\n",
      "    \n",
      "    #word_features_test = vectorizer.transform(word_features_test).toarray()\n",
      "    #features_test = np.hstack((features_test, word_features_test))\n",
      "    \n",
      "    features_test = scaler.transform(features_test)\n",
      "    \n",
      "    features_test = selector.transform(features_test)\n",
      "\n",
      "    ### Training the classifer\n",
      "    \n",
      "    ada = AdaBoostClassifier()\n",
      "    parameters = {'n_estimators': [1, 100], 'random_state': [1, 50]}\n",
      "    clf = GridSearchCV(ada, parameters)\n",
      "    clf.fit(features_train, labels_train)\n",
      "    pred = clf.predict(features_test)\n",
      "\n",
      "    ### Evaluating performance metrics\n",
      "    \n",
      "    print \"Accuracy: \", clf.score(features_test, labels_test)\n",
      "    print \"Precision: \", precision_score(labels_test, pred)\n",
      "    print \"Recall: \", recall_score(labels_test, pred)\n",
      "    print \"F1_Score: \", f1_score(labels_test, pred)\n",
      "\n",
      "    accuracy.append(clf.score(features_test, labels_test))\n",
      "    precision.append(precision_score(labels_test, pred))\n",
      "    recall.append(recall_score(labels_test, pred))\n",
      "    f1.append(f1_score(labels_test, pred))\n",
      "\n",
      "print \"Average accuracy: \", sum(accuracy) / 6\n",
      "print \"Average precision: \", sum(precision) / 6\n",
      "print \"Average recall: \", sum(recall) / 6\n",
      "print \"Average f1_score: \", sum(f1) / 6"
     ],
     "language": "python",
     "metadata": {},
     "outputs": [
      {
       "output_type": "stream",
       "stream": "stdout",
       "text": [
        "Accuracy:  0.863636363636\n",
        "Precision:  0.0\n",
        "Recall:  0.0\n",
        "F1_Score:  0.0\n",
        "Accuracy: "
       ]
      },
      {
       "output_type": "stream",
       "stream": "stdout",
       "text": [
        " 0.772727272727\n",
        "Precision:  0.0\n",
        "Recall:  0.0\n",
        "F1_Score:  0.0\n",
        "Accuracy: "
       ]
      },
      {
       "output_type": "stream",
       "stream": "stdout",
       "text": [
        " 0.909090909091\n",
        "Precision:  1.0\n",
        "Recall:  0.333333333333\n",
        "F1_Score:  0.5\n",
        "Accuracy: "
       ]
      },
      {
       "output_type": "stream",
       "stream": "stdout",
       "text": [
        " 0.909090909091\n",
        "Precision:  1.0\n",
        "Recall:  0.333333333333\n",
        "F1_Score:  0.5\n",
        "Accuracy: "
       ]
      },
      {
       "output_type": "stream",
       "stream": "stdout",
       "text": [
        " 0.863636363636\n",
        "Precision:  0.0\n",
        "Recall:  0.0\n",
        "F1_Score:  0.0\n",
        "Accuracy: "
       ]
      },
      {
       "output_type": "stream",
       "stream": "stdout",
       "text": [
        " 0.714285714286\n",
        "Precision:  0.0\n",
        "Recall:  0.0\n",
        "F1_Score:  0.0\n",
        "Average accuracy:  0.838744588745\n",
        "Average precision:  0.333333333333\n",
        "Average recall:  0.111111111111\n",
        "Average f1_score:  0.166666666667\n"
       ]
      }
     ],
     "prompt_number": 32
    },
    {
     "cell_type": "code",
     "collapsed": false,
     "input": [
      "#cv = KFold( len(labels), 100 , shuffle=True )\n",
      "\n",
      "accuracy = []\n",
      "precision = []\n",
      "recall = []\n",
      "f1 = []\n",
      "\n",
      "vectorizer = TfidfVectorizer(stop_words=\"english\", lowercase=True)\n",
      "scaler = MinMaxScaler()\n",
      "selector = SelectPercentile(f_classif, percentile=10)\n",
      "skf = StratifiedKFold(labels, n_folds=6)\n",
      "#selector = SelectKBest(k=2)\n",
      "\n",
      "for train_indices, test_indices in skf:\n",
      "    features_train = []\n",
      "    features_test = []\n",
      "    word_features_train = []\n",
      "    word_features_test = []\n",
      "    labels_train = []\n",
      "    labels_test = []\n",
      "    '''\n",
      "    for ii in train_idx:\n",
      "        features_train.append(features[ii])\n",
      "        word_features_train.append(word_data[ii])\n",
      "        labels_train.append(labels[ii])\n",
      "    for jj in test_idx:\n",
      "        features_test.append(features[jj])\n",
      "        word_features_test.append(word_data[jj])\n",
      "        labels_test.append(labels[jj])\n",
      "    '''\n",
      "    \n",
      "    ### Partitioning of the data into training and testing datasets\n",
      "    \n",
      "    features_train = [features[ii] for ii in train_indices]\n",
      "    #word_features_train = [word_data[ii] for ii in train_indices]\n",
      "    labels_train = [labels[ii] for ii in train_indices]\n",
      "       \n",
      "    features_test = [features[jj] for jj in test_indices]\n",
      "    #word_features_test = [word_data[jj] for jj in test_indices]\n",
      "    labels_test = [labels[jj] for jj in test_indices]\n",
      "        \n",
      "    ### Fitting and transformation of the training dataset (vectorizer, scaling, feature selection)\n",
      "    \n",
      "    #word_features_train = vectorizer.fit_transform(word_features_train).toarray()\n",
      "    #features_train = np.hstack((features_train, word_features_train))\n",
      "    \n",
      "    #features_train = scaler.fit_transform(features_train)\n",
      "    \n",
      "    features_train = selector.fit_transform(features_train, labels_train)\n",
      "    \n",
      "    ### Transformation of the test dataset (vectorizer, scaling, feature selection)\n",
      "    \n",
      "    #word_features_test = vectorizer.transform(word_features_test).toarray()\n",
      "    #features_test = np.hstack((features_test, word_features_test))\n",
      "    \n",
      "    #features_test = scaler.transform(features_test)\n",
      "    \n",
      "    features_test = selector.transform(features_test)\n",
      "\n",
      "    ### Training the classifer\n",
      "    \n",
      "    '''\n",
      "    ada = AdaBoostClassifier()\n",
      "    parameters = {'n_estimators': [1, 100], 'random_state': [1, 50]}\n",
      "    clf = GridSearchCV(ada, parameters)\n",
      "    clf.fit(features_train, labels_train)\n",
      "    pred = clf.predict(features_test)\n",
      "    '''\n",
      "    parameters = {'criterion':('gini', 'entropy'), 'max_features':('auto', 'sqrt')}\n",
      "    dt = DecisionTreeClassifier()\n",
      "    clf = GridSearchCV(dt, parameters)\n",
      "    clf.fit(features_train, labels_train)\n",
      "    pred = clf.predict(features_test)\n",
      "    \n",
      "    print dt.feature_importances_\n",
      "    '''\n",
      "    parameters = {'kernel':('linear', 'rbf'), 'C':[1, 10]}\n",
      "    svr = svm.SVC()\n",
      "    clf = GridSearchCV(svr, parameters)\n",
      "    clf.fit(features_train, labels_train)\n",
      "    pred = clf.predict(features_test)\n",
      "    '''\n",
      "    ### Evaluating performance metrics\n",
      "    \n",
      "    #print \"Accuracy: \", clf.score(features_test, labels_test)\n",
      "    #print \"Precision: \", precision_score(labels_test, pred)\n",
      "    #print \"Recall: \", recall_score(labels_test, pred)\n",
      "    #print \"F1_Score: \", f1_score(labels_test, pred)\n",
      "\n",
      "    accuracy.append(clf.score(features_test, labels_test))\n",
      "    precision.append(precision_score(labels_test, pred))\n",
      "    recall.append(recall_score(labels_test, pred))\n",
      "    f1.append(f1_score(labels_test, pred))\n",
      "\n",
      "print \"Average accuracy: \", sum(accuracy) / 6\n",
      "print \"Average precision: \", sum(precision) / 6\n",
      "print \"Average recall: \", sum(recall) / 6\n",
      "print \"Average f1_score: \", sum(f1) / 6"
     ],
     "language": "python",
     "metadata": {},
     "outputs": [
      {
       "ename": "ValueError",
       "evalue": "Estimator not fitted, call `fit` before `feature_importances_`.",
       "output_type": "pyerr",
       "traceback": [
        "\u001b[1;31m---------------------------------------------------------------------------\u001b[0m\n\u001b[1;31mValueError\u001b[0m                                Traceback (most recent call last)",
        "\u001b[1;32m<ipython-input-20-f9be31e1babc>\u001b[0m in \u001b[0;36m<module>\u001b[1;34m()\u001b[0m\n\u001b[0;32m     73\u001b[0m     \u001b[0mpred\u001b[0m \u001b[1;33m=\u001b[0m \u001b[0mclf\u001b[0m\u001b[1;33m.\u001b[0m\u001b[0mpredict\u001b[0m\u001b[1;33m(\u001b[0m\u001b[0mfeatures_test\u001b[0m\u001b[1;33m)\u001b[0m\u001b[1;33m\u001b[0m\u001b[0m\n\u001b[0;32m     74\u001b[0m \u001b[1;33m\u001b[0m\u001b[0m\n\u001b[1;32m---> 75\u001b[1;33m     \u001b[1;32mprint\u001b[0m \u001b[0mdt\u001b[0m\u001b[1;33m.\u001b[0m\u001b[0mfeature_importances_\u001b[0m\u001b[1;33m\u001b[0m\u001b[0m\n\u001b[0m\u001b[0;32m     76\u001b[0m     '''\n\u001b[0;32m     77\u001b[0m     \u001b[0mparameters\u001b[0m \u001b[1;33m=\u001b[0m \u001b[1;33m{\u001b[0m\u001b[1;34m'kernel'\u001b[0m\u001b[1;33m:\u001b[0m\u001b[1;33m(\u001b[0m\u001b[1;34m'linear'\u001b[0m\u001b[1;33m,\u001b[0m \u001b[1;34m'rbf'\u001b[0m\u001b[1;33m)\u001b[0m\u001b[1;33m,\u001b[0m \u001b[1;34m'C'\u001b[0m\u001b[1;33m:\u001b[0m\u001b[1;33m[\u001b[0m\u001b[1;36m1\u001b[0m\u001b[1;33m,\u001b[0m \u001b[1;36m10\u001b[0m\u001b[1;33m]\u001b[0m\u001b[1;33m}\u001b[0m\u001b[1;33m\u001b[0m\u001b[0m\n",
        "\u001b[1;32mC:\\Users\\Saad_Khan\\Anaconda\\lib\\site-packages\\sklearn\\tree\\tree.pyc\u001b[0m in \u001b[0;36mfeature_importances_\u001b[1;34m(self)\u001b[0m\n\u001b[0;32m    342\u001b[0m         \"\"\"\n\u001b[0;32m    343\u001b[0m         \u001b[1;32mif\u001b[0m \u001b[0mself\u001b[0m\u001b[1;33m.\u001b[0m\u001b[0mtree_\u001b[0m \u001b[1;32mis\u001b[0m \u001b[0mNone\u001b[0m\u001b[1;33m:\u001b[0m\u001b[1;33m\u001b[0m\u001b[0m\n\u001b[1;32m--> 344\u001b[1;33m             raise ValueError(\"Estimator not fitted, \"\n\u001b[0m\u001b[0;32m    345\u001b[0m                              \"call `fit` before `feature_importances_`.\")\n\u001b[0;32m    346\u001b[0m \u001b[1;33m\u001b[0m\u001b[0m\n",
        "\u001b[1;31mValueError\u001b[0m: Estimator not fitted, call `fit` before `feature_importances_`."
       ]
      }
     ],
     "prompt_number": 20
    },
    {
     "cell_type": "code",
     "collapsed": false,
     "input": [],
     "language": "python",
     "metadata": {},
     "outputs": []
    }
   ],
   "metadata": {}
  }
 ]
}